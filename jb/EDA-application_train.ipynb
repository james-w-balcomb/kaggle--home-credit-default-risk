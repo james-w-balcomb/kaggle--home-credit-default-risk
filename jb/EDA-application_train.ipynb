{
 "cells": [
  {
   "cell_type": "code",
   "execution_count": null,
   "metadata": {},
   "outputs": [],
   "source": [
    "#%run NB01-Load.ipynb"
   ]
  },
  {
   "cell_type": "code",
   "execution_count": 1,
   "metadata": {},
   "outputs": [
    {
     "data": {
      "text/html": [
       "<script>requirejs.config({paths: { 'plotly': ['https://cdn.plot.ly/plotly-latest.min']},});if(!window.Plotly) {{require(['plotly'],function(plotly) {window.Plotly=plotly;});}}</script>"
      ],
      "text/vnd.plotly.v1+html": [
       "<script>requirejs.config({paths: { 'plotly': ['https://cdn.plot.ly/plotly-latest.min']},});if(!window.Plotly) {{require(['plotly'],function(plotly) {window.Plotly=plotly;});}}</script>"
      ]
     },
     "metadata": {},
     "output_type": "display_data"
    }
   ],
   "source": [
    "import collections\n",
    "import gc\n",
    "import IPython\n",
    "import lightgbm as lgb\n",
    "import matplotlib\n",
    "import matplotlib.pyplot as plt\n",
    "import numpy as np\n",
    "import pandas as pd\n",
    "import plotly.graph_objs as go\n",
    "import plotly.plotly as py\n",
    "import random \n",
    "#import seaborn as sb\n",
    "import seaborn as sns\n",
    "#import seaborn as snss\n",
    "import scipy\n",
    "import scipy as sp\n",
    "import sklearn\n",
    "import statsmodels.api as sm\n",
    "import statsmodels.formula.api as smf\n",
    "import sys\n",
    "import warnings\n",
    "\n",
    "from datetime import date\n",
    "from IPython.display import HTML\n",
    "from lightgbm import LGBMClassifier\n",
    "from lightgbm import plot_importance\n",
    "from pandas import DataFrame\n",
    "from pandas import Series\n",
    "from patsy import dmatrices\n",
    "from plotly import tools\n",
    "from plotly.offline import init_notebook_mode\n",
    "from plotly.offline import iplot\n",
    "from pylab import rcParams\n",
    "from sklearn import datasets\n",
    "from sklearn import model_selection\n",
    "from sklearn import metrics\n",
    "from sklearn import preprocessing\n",
    "#from sklearn.cross_validation import train_test_split\n",
    "from sklearn.ensemble import GradientBoostingClassifier\n",
    "from sklearn.ensemble import RandomForestClassifier\n",
    "from sklearn.linear_model import LogisticRegression\n",
    "from sklearn.metrics import accuracy_score\n",
    "from sklearn.metrics import average_precision_score\n",
    "from sklearn.metrics import classification_report\n",
    "from sklearn.metrics import confusion_matrix\n",
    "from sklearn.metrics import mean_squared_error\n",
    "from sklearn.metrics import precision_recall_curve\n",
    "from sklearn.metrics import roc_auc_score\n",
    "from sklearn.metrics import roc_curve\n",
    "from sklearn.model_selection import KFold\n",
    "from sklearn.model_selection import train_test_split\n",
    "from sklearn.preprocessing import Imputer\n",
    "from sklearn.preprocessing import LabelEncoder\n",
    "from sklearn.preprocessing import StandardScaler\n",
    "from statsmodels.stats.outliers_influence import variance_inflation_factor\n",
    "from xgboost import XGBClassifier\n",
    "from wordcloud import WordCloud\n",
    "\n",
    "init_notebook_mode(connected=True)\n",
    "plt.rcParams.update({'figure.max_open_warning': 200})\n",
    "# Suppress warnings\n",
    "warnings.filterwarnings(\"ignore\")\n",
    "\n",
    "# In a notebook environment, display the plots inline\n",
    "%matplotlib inline\n",
    "# Set some parameters to apply to all plots. These can be overridden in each plot if desired\n",
    "# Plot size to 14\" x 7\"\n",
    "matplotlib.rc('figure', figsize = (14, 7))\n",
    "# Font size to 14\n",
    "matplotlib.rc('font', size = 14)\n",
    "# Do not display top and right frame lines\n",
    "matplotlib.rc('axes.spines', top = False, right = False)\n",
    "# Remove grid lines\n",
    "matplotlib.rc('axes', grid = False)\n",
    "# Set backgound color to white\n",
    "matplotlib.rc('axes', facecolor = 'white')\n",
    "\n",
    "np.set_printoptions(threshold=np.nan)\n",
    "np.set_printoptions(suppress=True, formatter={'float_kind':'{:f}'.format})\n",
    "\n",
    "#import C:/Development/kaggle--home-credit-default-risk/rand_jitter\n",
    "#import C:/Development/kaggle--home-credit-default-risk/draw_feature_distribution\n",
    "import sys\n",
    "# sys.path.insert(0, 'C:/Development/kaggle--home-credit-default-risk/') # ~= sys.path.prepend\n",
    "sys.path.append('C:/Development/kaggle--home-credit-default-risk/')\n",
    "# import rand_jitter\n",
    "# import draw_feature_distribution\n",
    "##from rand_jitter import * # NOTE: added directly to draw_feature_distribution_v2\n",
    "# from draw_feature_distribution import *\n",
    "# from draw_feature_distribution_v1 import *\n",
    "from draw_feature_distribution_v2 import *\n",
    "\n",
    "# C:\\Users\\jbalcomb\\Anaconda3\\lib\\site-packages\\statsmodels\\compat\\pandas.py:56: FutureWarning:\n",
    "# The pandas.core.datetools module is deprecated and will be removed in a future version. Please use the pandas.tseries module instead.\n"
   ]
  },
  {
   "cell_type": "code",
   "execution_count": 2,
   "metadata": {},
   "outputs": [
    {
     "name": "stdout",
     "output_type": "stream",
     "text": [
      "Python version: 3.6.3 |Anaconda custom (64-bit)| (default, Oct 15 2017, 03:27:45) [MSC v.1900 64 bit (AMD64)]\n",
      "pandas version: 0.20.3\n",
      "NumPy version: 1.14.3\n",
      "SciPy version: 1.1.0\n",
      "scikit-learn version: 0.19.1\n",
      "matplotlib version: 2.1.0\n",
      "IPython version: 6.1.0\n"
     ]
    }
   ],
   "source": [
    "print(\"Python version: {}\".format(sys.version))\n",
    "print(\"pandas version: {}\".format(pd.__version__))\n",
    "print(\"NumPy version: {}\".format(np.__version__))\n",
    "print(\"SciPy version: {}\".format(sp.__version__))\n",
    "print(\"scikit-learn version: {}\".format(sklearn.__version__))\n",
    "print(\"matplotlib version: {}\".format(matplotlib.__version__))\n",
    "print(\"IPython version: {}\".format(IPython.__version__))"
   ]
  },
  {
   "cell_type": "code",
   "execution_count": 3,
   "metadata": {},
   "outputs": [],
   "source": [
    "data_file_path = 'C:/Development/kaggle--home-credit-default-risk/data/'"
   ]
  },
  {
   "cell_type": "code",
   "execution_count": 4,
   "metadata": {},
   "outputs": [],
   "source": [
    "application_train = pd.read_table(data_file_path + 'application_train.csv', sep=',')"
   ]
  },
  {
   "cell_type": "code",
   "execution_count": null,
   "metadata": {},
   "outputs": [],
   "source": [
    "#application_train = application_train.fillna(np.nan)"
   ]
  },
  {
   "cell_type": "code",
   "execution_count": null,
   "metadata": {},
   "outputs": [],
   "source": [
    "#df = application_train"
   ]
  },
  {
   "cell_type": "code",
   "execution_count": 5,
   "metadata": {},
   "outputs": [
    {
     "data": {
      "text/plain": [
       "(307511, 122)"
      ]
     },
     "execution_count": 5,
     "metadata": {},
     "output_type": "execute_result"
    }
   ],
   "source": [
    "application_train.shape"
   ]
  },
  {
   "cell_type": "code",
   "execution_count": 10,
   "metadata": {},
   "outputs": [
    {
     "name": "stdout",
     "output_type": "stream",
     "text": [
      "<class 'pandas.core.frame.DataFrame'>\n",
      "RangeIndex: 307511 entries, 0 to 307510\n",
      "Columns: 122 entries, SK_ID_CURR to AMT_REQ_CREDIT_BUREAU_YEAR\n",
      "dtypes: float64(65), int64(41), object(16)\n",
      "memory usage: 286.2+ MB\n"
     ]
    }
   ],
   "source": [
    "application_train.info()"
   ]
  },
  {
   "cell_type": "code",
   "execution_count": 11,
   "metadata": {},
   "outputs": [
    {
     "data": {
      "text/html": [
       "<div>\n",
       "<style>\n",
       "    .dataframe thead tr:only-child th {\n",
       "        text-align: right;\n",
       "    }\n",
       "\n",
       "    .dataframe thead th {\n",
       "        text-align: left;\n",
       "    }\n",
       "\n",
       "    .dataframe tbody tr th {\n",
       "        vertical-align: top;\n",
       "    }\n",
       "</style>\n",
       "<table border=\"1\" class=\"dataframe\">\n",
       "  <thead>\n",
       "    <tr style=\"text-align: right;\">\n",
       "      <th></th>\n",
       "      <th>SK_ID_CURR</th>\n",
       "      <th>TARGET</th>\n",
       "      <th>NAME_CONTRACT_TYPE</th>\n",
       "      <th>CODE_GENDER</th>\n",
       "      <th>FLAG_OWN_CAR</th>\n",
       "      <th>FLAG_OWN_REALTY</th>\n",
       "      <th>CNT_CHILDREN</th>\n",
       "      <th>AMT_INCOME_TOTAL</th>\n",
       "      <th>AMT_CREDIT</th>\n",
       "      <th>AMT_ANNUITY</th>\n",
       "      <th>...</th>\n",
       "      <th>FLAG_DOCUMENT_18</th>\n",
       "      <th>FLAG_DOCUMENT_19</th>\n",
       "      <th>FLAG_DOCUMENT_20</th>\n",
       "      <th>FLAG_DOCUMENT_21</th>\n",
       "      <th>AMT_REQ_CREDIT_BUREAU_HOUR</th>\n",
       "      <th>AMT_REQ_CREDIT_BUREAU_DAY</th>\n",
       "      <th>AMT_REQ_CREDIT_BUREAU_WEEK</th>\n",
       "      <th>AMT_REQ_CREDIT_BUREAU_MON</th>\n",
       "      <th>AMT_REQ_CREDIT_BUREAU_QRT</th>\n",
       "      <th>AMT_REQ_CREDIT_BUREAU_YEAR</th>\n",
       "    </tr>\n",
       "  </thead>\n",
       "  <tbody>\n",
       "    <tr>\n",
       "      <th>0</th>\n",
       "      <td>100002</td>\n",
       "      <td>1</td>\n",
       "      <td>Cash loans</td>\n",
       "      <td>M</td>\n",
       "      <td>N</td>\n",
       "      <td>Y</td>\n",
       "      <td>0</td>\n",
       "      <td>202500.0</td>\n",
       "      <td>406597.5</td>\n",
       "      <td>24700.5</td>\n",
       "      <td>...</td>\n",
       "      <td>0</td>\n",
       "      <td>0</td>\n",
       "      <td>0</td>\n",
       "      <td>0</td>\n",
       "      <td>0.0</td>\n",
       "      <td>0.0</td>\n",
       "      <td>0.0</td>\n",
       "      <td>0.0</td>\n",
       "      <td>0.0</td>\n",
       "      <td>1.0</td>\n",
       "    </tr>\n",
       "    <tr>\n",
       "      <th>1</th>\n",
       "      <td>100003</td>\n",
       "      <td>0</td>\n",
       "      <td>Cash loans</td>\n",
       "      <td>F</td>\n",
       "      <td>N</td>\n",
       "      <td>N</td>\n",
       "      <td>0</td>\n",
       "      <td>270000.0</td>\n",
       "      <td>1293502.5</td>\n",
       "      <td>35698.5</td>\n",
       "      <td>...</td>\n",
       "      <td>0</td>\n",
       "      <td>0</td>\n",
       "      <td>0</td>\n",
       "      <td>0</td>\n",
       "      <td>0.0</td>\n",
       "      <td>0.0</td>\n",
       "      <td>0.0</td>\n",
       "      <td>0.0</td>\n",
       "      <td>0.0</td>\n",
       "      <td>0.0</td>\n",
       "    </tr>\n",
       "    <tr>\n",
       "      <th>2</th>\n",
       "      <td>100004</td>\n",
       "      <td>0</td>\n",
       "      <td>Revolving loans</td>\n",
       "      <td>M</td>\n",
       "      <td>Y</td>\n",
       "      <td>Y</td>\n",
       "      <td>0</td>\n",
       "      <td>67500.0</td>\n",
       "      <td>135000.0</td>\n",
       "      <td>6750.0</td>\n",
       "      <td>...</td>\n",
       "      <td>0</td>\n",
       "      <td>0</td>\n",
       "      <td>0</td>\n",
       "      <td>0</td>\n",
       "      <td>0.0</td>\n",
       "      <td>0.0</td>\n",
       "      <td>0.0</td>\n",
       "      <td>0.0</td>\n",
       "      <td>0.0</td>\n",
       "      <td>0.0</td>\n",
       "    </tr>\n",
       "    <tr>\n",
       "      <th>3</th>\n",
       "      <td>100006</td>\n",
       "      <td>0</td>\n",
       "      <td>Cash loans</td>\n",
       "      <td>F</td>\n",
       "      <td>N</td>\n",
       "      <td>Y</td>\n",
       "      <td>0</td>\n",
       "      <td>135000.0</td>\n",
       "      <td>312682.5</td>\n",
       "      <td>29686.5</td>\n",
       "      <td>...</td>\n",
       "      <td>0</td>\n",
       "      <td>0</td>\n",
       "      <td>0</td>\n",
       "      <td>0</td>\n",
       "      <td>NaN</td>\n",
       "      <td>NaN</td>\n",
       "      <td>NaN</td>\n",
       "      <td>NaN</td>\n",
       "      <td>NaN</td>\n",
       "      <td>NaN</td>\n",
       "    </tr>\n",
       "    <tr>\n",
       "      <th>4</th>\n",
       "      <td>100007</td>\n",
       "      <td>0</td>\n",
       "      <td>Cash loans</td>\n",
       "      <td>M</td>\n",
       "      <td>N</td>\n",
       "      <td>Y</td>\n",
       "      <td>0</td>\n",
       "      <td>121500.0</td>\n",
       "      <td>513000.0</td>\n",
       "      <td>21865.5</td>\n",
       "      <td>...</td>\n",
       "      <td>0</td>\n",
       "      <td>0</td>\n",
       "      <td>0</td>\n",
       "      <td>0</td>\n",
       "      <td>0.0</td>\n",
       "      <td>0.0</td>\n",
       "      <td>0.0</td>\n",
       "      <td>0.0</td>\n",
       "      <td>0.0</td>\n",
       "      <td>0.0</td>\n",
       "    </tr>\n",
       "  </tbody>\n",
       "</table>\n",
       "<p>5 rows × 122 columns</p>\n",
       "</div>"
      ],
      "text/plain": [
       "   SK_ID_CURR  TARGET NAME_CONTRACT_TYPE CODE_GENDER FLAG_OWN_CAR  \\\n",
       "0      100002       1         Cash loans           M            N   \n",
       "1      100003       0         Cash loans           F            N   \n",
       "2      100004       0    Revolving loans           M            Y   \n",
       "3      100006       0         Cash loans           F            N   \n",
       "4      100007       0         Cash loans           M            N   \n",
       "\n",
       "  FLAG_OWN_REALTY  CNT_CHILDREN  AMT_INCOME_TOTAL  AMT_CREDIT  AMT_ANNUITY  \\\n",
       "0               Y             0          202500.0    406597.5      24700.5   \n",
       "1               N             0          270000.0   1293502.5      35698.5   \n",
       "2               Y             0           67500.0    135000.0       6750.0   \n",
       "3               Y             0          135000.0    312682.5      29686.5   \n",
       "4               Y             0          121500.0    513000.0      21865.5   \n",
       "\n",
       "              ...              FLAG_DOCUMENT_18 FLAG_DOCUMENT_19  \\\n",
       "0             ...                             0                0   \n",
       "1             ...                             0                0   \n",
       "2             ...                             0                0   \n",
       "3             ...                             0                0   \n",
       "4             ...                             0                0   \n",
       "\n",
       "  FLAG_DOCUMENT_20 FLAG_DOCUMENT_21 AMT_REQ_CREDIT_BUREAU_HOUR  \\\n",
       "0                0                0                        0.0   \n",
       "1                0                0                        0.0   \n",
       "2                0                0                        0.0   \n",
       "3                0                0                        NaN   \n",
       "4                0                0                        0.0   \n",
       "\n",
       "  AMT_REQ_CREDIT_BUREAU_DAY  AMT_REQ_CREDIT_BUREAU_WEEK  \\\n",
       "0                       0.0                         0.0   \n",
       "1                       0.0                         0.0   \n",
       "2                       0.0                         0.0   \n",
       "3                       NaN                         NaN   \n",
       "4                       0.0                         0.0   \n",
       "\n",
       "   AMT_REQ_CREDIT_BUREAU_MON  AMT_REQ_CREDIT_BUREAU_QRT  \\\n",
       "0                        0.0                        0.0   \n",
       "1                        0.0                        0.0   \n",
       "2                        0.0                        0.0   \n",
       "3                        NaN                        NaN   \n",
       "4                        0.0                        0.0   \n",
       "\n",
       "   AMT_REQ_CREDIT_BUREAU_YEAR  \n",
       "0                         1.0  \n",
       "1                         0.0  \n",
       "2                         0.0  \n",
       "3                         NaN  \n",
       "4                         0.0  \n",
       "\n",
       "[5 rows x 122 columns]"
      ]
     },
     "execution_count": 11,
     "metadata": {},
     "output_type": "execute_result"
    }
   ],
   "source": [
    "application_train.head()"
   ]
  },
  {
   "cell_type": "code",
   "execution_count": 12,
   "metadata": {},
   "outputs": [
    {
     "data": {
      "text/html": [
       "<div>\n",
       "<style>\n",
       "    .dataframe thead tr:only-child th {\n",
       "        text-align: right;\n",
       "    }\n",
       "\n",
       "    .dataframe thead th {\n",
       "        text-align: left;\n",
       "    }\n",
       "\n",
       "    .dataframe tbody tr th {\n",
       "        vertical-align: top;\n",
       "    }\n",
       "</style>\n",
       "<table border=\"1\" class=\"dataframe\">\n",
       "  <thead>\n",
       "    <tr style=\"text-align: right;\">\n",
       "      <th></th>\n",
       "      <th>SK_ID_CURR</th>\n",
       "      <th>TARGET</th>\n",
       "      <th>NAME_CONTRACT_TYPE</th>\n",
       "      <th>CODE_GENDER</th>\n",
       "      <th>FLAG_OWN_CAR</th>\n",
       "      <th>FLAG_OWN_REALTY</th>\n",
       "      <th>CNT_CHILDREN</th>\n",
       "      <th>AMT_INCOME_TOTAL</th>\n",
       "      <th>AMT_CREDIT</th>\n",
       "      <th>AMT_ANNUITY</th>\n",
       "      <th>...</th>\n",
       "      <th>FLAG_DOCUMENT_18</th>\n",
       "      <th>FLAG_DOCUMENT_19</th>\n",
       "      <th>FLAG_DOCUMENT_20</th>\n",
       "      <th>FLAG_DOCUMENT_21</th>\n",
       "      <th>AMT_REQ_CREDIT_BUREAU_HOUR</th>\n",
       "      <th>AMT_REQ_CREDIT_BUREAU_DAY</th>\n",
       "      <th>AMT_REQ_CREDIT_BUREAU_WEEK</th>\n",
       "      <th>AMT_REQ_CREDIT_BUREAU_MON</th>\n",
       "      <th>AMT_REQ_CREDIT_BUREAU_QRT</th>\n",
       "      <th>AMT_REQ_CREDIT_BUREAU_YEAR</th>\n",
       "    </tr>\n",
       "  </thead>\n",
       "  <tbody>\n",
       "    <tr>\n",
       "      <th>307506</th>\n",
       "      <td>456251</td>\n",
       "      <td>0</td>\n",
       "      <td>Cash loans</td>\n",
       "      <td>M</td>\n",
       "      <td>N</td>\n",
       "      <td>N</td>\n",
       "      <td>0</td>\n",
       "      <td>157500.0</td>\n",
       "      <td>254700.0</td>\n",
       "      <td>27558.0</td>\n",
       "      <td>...</td>\n",
       "      <td>0</td>\n",
       "      <td>0</td>\n",
       "      <td>0</td>\n",
       "      <td>0</td>\n",
       "      <td>NaN</td>\n",
       "      <td>NaN</td>\n",
       "      <td>NaN</td>\n",
       "      <td>NaN</td>\n",
       "      <td>NaN</td>\n",
       "      <td>NaN</td>\n",
       "    </tr>\n",
       "    <tr>\n",
       "      <th>307507</th>\n",
       "      <td>456252</td>\n",
       "      <td>0</td>\n",
       "      <td>Cash loans</td>\n",
       "      <td>F</td>\n",
       "      <td>N</td>\n",
       "      <td>Y</td>\n",
       "      <td>0</td>\n",
       "      <td>72000.0</td>\n",
       "      <td>269550.0</td>\n",
       "      <td>12001.5</td>\n",
       "      <td>...</td>\n",
       "      <td>0</td>\n",
       "      <td>0</td>\n",
       "      <td>0</td>\n",
       "      <td>0</td>\n",
       "      <td>NaN</td>\n",
       "      <td>NaN</td>\n",
       "      <td>NaN</td>\n",
       "      <td>NaN</td>\n",
       "      <td>NaN</td>\n",
       "      <td>NaN</td>\n",
       "    </tr>\n",
       "    <tr>\n",
       "      <th>307508</th>\n",
       "      <td>456253</td>\n",
       "      <td>0</td>\n",
       "      <td>Cash loans</td>\n",
       "      <td>F</td>\n",
       "      <td>N</td>\n",
       "      <td>Y</td>\n",
       "      <td>0</td>\n",
       "      <td>153000.0</td>\n",
       "      <td>677664.0</td>\n",
       "      <td>29979.0</td>\n",
       "      <td>...</td>\n",
       "      <td>0</td>\n",
       "      <td>0</td>\n",
       "      <td>0</td>\n",
       "      <td>0</td>\n",
       "      <td>1.0</td>\n",
       "      <td>0.0</td>\n",
       "      <td>0.0</td>\n",
       "      <td>1.0</td>\n",
       "      <td>0.0</td>\n",
       "      <td>1.0</td>\n",
       "    </tr>\n",
       "    <tr>\n",
       "      <th>307509</th>\n",
       "      <td>456254</td>\n",
       "      <td>1</td>\n",
       "      <td>Cash loans</td>\n",
       "      <td>F</td>\n",
       "      <td>N</td>\n",
       "      <td>Y</td>\n",
       "      <td>0</td>\n",
       "      <td>171000.0</td>\n",
       "      <td>370107.0</td>\n",
       "      <td>20205.0</td>\n",
       "      <td>...</td>\n",
       "      <td>0</td>\n",
       "      <td>0</td>\n",
       "      <td>0</td>\n",
       "      <td>0</td>\n",
       "      <td>0.0</td>\n",
       "      <td>0.0</td>\n",
       "      <td>0.0</td>\n",
       "      <td>0.0</td>\n",
       "      <td>0.0</td>\n",
       "      <td>0.0</td>\n",
       "    </tr>\n",
       "    <tr>\n",
       "      <th>307510</th>\n",
       "      <td>456255</td>\n",
       "      <td>0</td>\n",
       "      <td>Cash loans</td>\n",
       "      <td>F</td>\n",
       "      <td>N</td>\n",
       "      <td>N</td>\n",
       "      <td>0</td>\n",
       "      <td>157500.0</td>\n",
       "      <td>675000.0</td>\n",
       "      <td>49117.5</td>\n",
       "      <td>...</td>\n",
       "      <td>0</td>\n",
       "      <td>0</td>\n",
       "      <td>0</td>\n",
       "      <td>0</td>\n",
       "      <td>0.0</td>\n",
       "      <td>0.0</td>\n",
       "      <td>0.0</td>\n",
       "      <td>2.0</td>\n",
       "      <td>0.0</td>\n",
       "      <td>1.0</td>\n",
       "    </tr>\n",
       "  </tbody>\n",
       "</table>\n",
       "<p>5 rows × 122 columns</p>\n",
       "</div>"
      ],
      "text/plain": [
       "        SK_ID_CURR  TARGET NAME_CONTRACT_TYPE CODE_GENDER FLAG_OWN_CAR  \\\n",
       "307506      456251       0         Cash loans           M            N   \n",
       "307507      456252       0         Cash loans           F            N   \n",
       "307508      456253       0         Cash loans           F            N   \n",
       "307509      456254       1         Cash loans           F            N   \n",
       "307510      456255       0         Cash loans           F            N   \n",
       "\n",
       "       FLAG_OWN_REALTY  CNT_CHILDREN  AMT_INCOME_TOTAL  AMT_CREDIT  \\\n",
       "307506               N             0          157500.0    254700.0   \n",
       "307507               Y             0           72000.0    269550.0   \n",
       "307508               Y             0          153000.0    677664.0   \n",
       "307509               Y             0          171000.0    370107.0   \n",
       "307510               N             0          157500.0    675000.0   \n",
       "\n",
       "        AMT_ANNUITY             ...              FLAG_DOCUMENT_18  \\\n",
       "307506      27558.0             ...                             0   \n",
       "307507      12001.5             ...                             0   \n",
       "307508      29979.0             ...                             0   \n",
       "307509      20205.0             ...                             0   \n",
       "307510      49117.5             ...                             0   \n",
       "\n",
       "       FLAG_DOCUMENT_19 FLAG_DOCUMENT_20 FLAG_DOCUMENT_21  \\\n",
       "307506                0                0                0   \n",
       "307507                0                0                0   \n",
       "307508                0                0                0   \n",
       "307509                0                0                0   \n",
       "307510                0                0                0   \n",
       "\n",
       "       AMT_REQ_CREDIT_BUREAU_HOUR AMT_REQ_CREDIT_BUREAU_DAY  \\\n",
       "307506                        NaN                       NaN   \n",
       "307507                        NaN                       NaN   \n",
       "307508                        1.0                       0.0   \n",
       "307509                        0.0                       0.0   \n",
       "307510                        0.0                       0.0   \n",
       "\n",
       "        AMT_REQ_CREDIT_BUREAU_WEEK  AMT_REQ_CREDIT_BUREAU_MON  \\\n",
       "307506                         NaN                        NaN   \n",
       "307507                         NaN                        NaN   \n",
       "307508                         0.0                        1.0   \n",
       "307509                         0.0                        0.0   \n",
       "307510                         0.0                        2.0   \n",
       "\n",
       "        AMT_REQ_CREDIT_BUREAU_QRT  AMT_REQ_CREDIT_BUREAU_YEAR  \n",
       "307506                        NaN                         NaN  \n",
       "307507                        NaN                         NaN  \n",
       "307508                        0.0                         1.0  \n",
       "307509                        0.0                         0.0  \n",
       "307510                        0.0                         1.0  \n",
       "\n",
       "[5 rows x 122 columns]"
      ]
     },
     "execution_count": 12,
     "metadata": {},
     "output_type": "execute_result"
    }
   ],
   "source": [
    "application_train.tail()"
   ]
  },
  {
   "cell_type": "code",
   "execution_count": 13,
   "metadata": {},
   "outputs": [
    {
     "data": {
      "text/html": [
       "<div>\n",
       "<style>\n",
       "    .dataframe thead tr:only-child th {\n",
       "        text-align: right;\n",
       "    }\n",
       "\n",
       "    .dataframe thead th {\n",
       "        text-align: left;\n",
       "    }\n",
       "\n",
       "    .dataframe tbody tr th {\n",
       "        vertical-align: top;\n",
       "    }\n",
       "</style>\n",
       "<table border=\"1\" class=\"dataframe\">\n",
       "  <thead>\n",
       "    <tr style=\"text-align: right;\">\n",
       "      <th></th>\n",
       "      <th>SK_ID_CURR</th>\n",
       "      <th>TARGET</th>\n",
       "      <th>CNT_CHILDREN</th>\n",
       "      <th>AMT_INCOME_TOTAL</th>\n",
       "      <th>AMT_CREDIT</th>\n",
       "      <th>AMT_ANNUITY</th>\n",
       "      <th>AMT_GOODS_PRICE</th>\n",
       "      <th>REGION_POPULATION_RELATIVE</th>\n",
       "      <th>DAYS_BIRTH</th>\n",
       "      <th>DAYS_EMPLOYED</th>\n",
       "      <th>...</th>\n",
       "      <th>FLAG_DOCUMENT_18</th>\n",
       "      <th>FLAG_DOCUMENT_19</th>\n",
       "      <th>FLAG_DOCUMENT_20</th>\n",
       "      <th>FLAG_DOCUMENT_21</th>\n",
       "      <th>AMT_REQ_CREDIT_BUREAU_HOUR</th>\n",
       "      <th>AMT_REQ_CREDIT_BUREAU_DAY</th>\n",
       "      <th>AMT_REQ_CREDIT_BUREAU_WEEK</th>\n",
       "      <th>AMT_REQ_CREDIT_BUREAU_MON</th>\n",
       "      <th>AMT_REQ_CREDIT_BUREAU_QRT</th>\n",
       "      <th>AMT_REQ_CREDIT_BUREAU_YEAR</th>\n",
       "    </tr>\n",
       "  </thead>\n",
       "  <tbody>\n",
       "    <tr>\n",
       "      <th>count</th>\n",
       "      <td>307511.000000</td>\n",
       "      <td>307511.000000</td>\n",
       "      <td>307511.000000</td>\n",
       "      <td>3.075110e+05</td>\n",
       "      <td>3.075110e+05</td>\n",
       "      <td>307499.000000</td>\n",
       "      <td>3.072330e+05</td>\n",
       "      <td>307511.000000</td>\n",
       "      <td>307511.000000</td>\n",
       "      <td>307511.000000</td>\n",
       "      <td>...</td>\n",
       "      <td>307511.000000</td>\n",
       "      <td>307511.000000</td>\n",
       "      <td>307511.000000</td>\n",
       "      <td>307511.000000</td>\n",
       "      <td>265992.000000</td>\n",
       "      <td>265992.000000</td>\n",
       "      <td>265992.000000</td>\n",
       "      <td>265992.000000</td>\n",
       "      <td>265992.000000</td>\n",
       "      <td>265992.000000</td>\n",
       "    </tr>\n",
       "    <tr>\n",
       "      <th>mean</th>\n",
       "      <td>278180.518577</td>\n",
       "      <td>0.080729</td>\n",
       "      <td>0.417052</td>\n",
       "      <td>1.687979e+05</td>\n",
       "      <td>5.990260e+05</td>\n",
       "      <td>27108.573909</td>\n",
       "      <td>5.383962e+05</td>\n",
       "      <td>0.020868</td>\n",
       "      <td>-16036.995067</td>\n",
       "      <td>63815.045904</td>\n",
       "      <td>...</td>\n",
       "      <td>0.008130</td>\n",
       "      <td>0.000595</td>\n",
       "      <td>0.000507</td>\n",
       "      <td>0.000335</td>\n",
       "      <td>0.006402</td>\n",
       "      <td>0.007000</td>\n",
       "      <td>0.034362</td>\n",
       "      <td>0.267395</td>\n",
       "      <td>0.265474</td>\n",
       "      <td>1.899974</td>\n",
       "    </tr>\n",
       "    <tr>\n",
       "      <th>std</th>\n",
       "      <td>102790.175348</td>\n",
       "      <td>0.272419</td>\n",
       "      <td>0.722121</td>\n",
       "      <td>2.371231e+05</td>\n",
       "      <td>4.024908e+05</td>\n",
       "      <td>14493.737315</td>\n",
       "      <td>3.694465e+05</td>\n",
       "      <td>0.013831</td>\n",
       "      <td>4363.988632</td>\n",
       "      <td>141275.766519</td>\n",
       "      <td>...</td>\n",
       "      <td>0.089798</td>\n",
       "      <td>0.024387</td>\n",
       "      <td>0.022518</td>\n",
       "      <td>0.018299</td>\n",
       "      <td>0.083849</td>\n",
       "      <td>0.110757</td>\n",
       "      <td>0.204685</td>\n",
       "      <td>0.916002</td>\n",
       "      <td>0.794056</td>\n",
       "      <td>1.869295</td>\n",
       "    </tr>\n",
       "    <tr>\n",
       "      <th>min</th>\n",
       "      <td>100002.000000</td>\n",
       "      <td>0.000000</td>\n",
       "      <td>0.000000</td>\n",
       "      <td>2.565000e+04</td>\n",
       "      <td>4.500000e+04</td>\n",
       "      <td>1615.500000</td>\n",
       "      <td>4.050000e+04</td>\n",
       "      <td>0.000290</td>\n",
       "      <td>-25229.000000</td>\n",
       "      <td>-17912.000000</td>\n",
       "      <td>...</td>\n",
       "      <td>0.000000</td>\n",
       "      <td>0.000000</td>\n",
       "      <td>0.000000</td>\n",
       "      <td>0.000000</td>\n",
       "      <td>0.000000</td>\n",
       "      <td>0.000000</td>\n",
       "      <td>0.000000</td>\n",
       "      <td>0.000000</td>\n",
       "      <td>0.000000</td>\n",
       "      <td>0.000000</td>\n",
       "    </tr>\n",
       "    <tr>\n",
       "      <th>25%</th>\n",
       "      <td>189145.500000</td>\n",
       "      <td>0.000000</td>\n",
       "      <td>0.000000</td>\n",
       "      <td>1.125000e+05</td>\n",
       "      <td>2.700000e+05</td>\n",
       "      <td>16524.000000</td>\n",
       "      <td>2.385000e+05</td>\n",
       "      <td>0.010006</td>\n",
       "      <td>-19682.000000</td>\n",
       "      <td>-2760.000000</td>\n",
       "      <td>...</td>\n",
       "      <td>0.000000</td>\n",
       "      <td>0.000000</td>\n",
       "      <td>0.000000</td>\n",
       "      <td>0.000000</td>\n",
       "      <td>0.000000</td>\n",
       "      <td>0.000000</td>\n",
       "      <td>0.000000</td>\n",
       "      <td>0.000000</td>\n",
       "      <td>0.000000</td>\n",
       "      <td>0.000000</td>\n",
       "    </tr>\n",
       "    <tr>\n",
       "      <th>50%</th>\n",
       "      <td>278202.000000</td>\n",
       "      <td>0.000000</td>\n",
       "      <td>0.000000</td>\n",
       "      <td>1.471500e+05</td>\n",
       "      <td>5.135310e+05</td>\n",
       "      <td>24903.000000</td>\n",
       "      <td>4.500000e+05</td>\n",
       "      <td>0.018850</td>\n",
       "      <td>-15750.000000</td>\n",
       "      <td>-1213.000000</td>\n",
       "      <td>...</td>\n",
       "      <td>0.000000</td>\n",
       "      <td>0.000000</td>\n",
       "      <td>0.000000</td>\n",
       "      <td>0.000000</td>\n",
       "      <td>0.000000</td>\n",
       "      <td>0.000000</td>\n",
       "      <td>0.000000</td>\n",
       "      <td>0.000000</td>\n",
       "      <td>0.000000</td>\n",
       "      <td>1.000000</td>\n",
       "    </tr>\n",
       "    <tr>\n",
       "      <th>75%</th>\n",
       "      <td>367142.500000</td>\n",
       "      <td>0.000000</td>\n",
       "      <td>1.000000</td>\n",
       "      <td>2.025000e+05</td>\n",
       "      <td>8.086500e+05</td>\n",
       "      <td>34596.000000</td>\n",
       "      <td>6.795000e+05</td>\n",
       "      <td>0.028663</td>\n",
       "      <td>-12413.000000</td>\n",
       "      <td>-289.000000</td>\n",
       "      <td>...</td>\n",
       "      <td>0.000000</td>\n",
       "      <td>0.000000</td>\n",
       "      <td>0.000000</td>\n",
       "      <td>0.000000</td>\n",
       "      <td>0.000000</td>\n",
       "      <td>0.000000</td>\n",
       "      <td>0.000000</td>\n",
       "      <td>0.000000</td>\n",
       "      <td>0.000000</td>\n",
       "      <td>3.000000</td>\n",
       "    </tr>\n",
       "    <tr>\n",
       "      <th>max</th>\n",
       "      <td>456255.000000</td>\n",
       "      <td>1.000000</td>\n",
       "      <td>19.000000</td>\n",
       "      <td>1.170000e+08</td>\n",
       "      <td>4.050000e+06</td>\n",
       "      <td>258025.500000</td>\n",
       "      <td>4.050000e+06</td>\n",
       "      <td>0.072508</td>\n",
       "      <td>-7489.000000</td>\n",
       "      <td>365243.000000</td>\n",
       "      <td>...</td>\n",
       "      <td>1.000000</td>\n",
       "      <td>1.000000</td>\n",
       "      <td>1.000000</td>\n",
       "      <td>1.000000</td>\n",
       "      <td>4.000000</td>\n",
       "      <td>9.000000</td>\n",
       "      <td>8.000000</td>\n",
       "      <td>27.000000</td>\n",
       "      <td>261.000000</td>\n",
       "      <td>25.000000</td>\n",
       "    </tr>\n",
       "  </tbody>\n",
       "</table>\n",
       "<p>8 rows × 106 columns</p>\n",
       "</div>"
      ],
      "text/plain": [
       "          SK_ID_CURR         TARGET   CNT_CHILDREN  AMT_INCOME_TOTAL  \\\n",
       "count  307511.000000  307511.000000  307511.000000      3.075110e+05   \n",
       "mean   278180.518577       0.080729       0.417052      1.687979e+05   \n",
       "std    102790.175348       0.272419       0.722121      2.371231e+05   \n",
       "min    100002.000000       0.000000       0.000000      2.565000e+04   \n",
       "25%    189145.500000       0.000000       0.000000      1.125000e+05   \n",
       "50%    278202.000000       0.000000       0.000000      1.471500e+05   \n",
       "75%    367142.500000       0.000000       1.000000      2.025000e+05   \n",
       "max    456255.000000       1.000000      19.000000      1.170000e+08   \n",
       "\n",
       "         AMT_CREDIT    AMT_ANNUITY  AMT_GOODS_PRICE  \\\n",
       "count  3.075110e+05  307499.000000     3.072330e+05   \n",
       "mean   5.990260e+05   27108.573909     5.383962e+05   \n",
       "std    4.024908e+05   14493.737315     3.694465e+05   \n",
       "min    4.500000e+04    1615.500000     4.050000e+04   \n",
       "25%    2.700000e+05   16524.000000     2.385000e+05   \n",
       "50%    5.135310e+05   24903.000000     4.500000e+05   \n",
       "75%    8.086500e+05   34596.000000     6.795000e+05   \n",
       "max    4.050000e+06  258025.500000     4.050000e+06   \n",
       "\n",
       "       REGION_POPULATION_RELATIVE     DAYS_BIRTH  DAYS_EMPLOYED  \\\n",
       "count               307511.000000  307511.000000  307511.000000   \n",
       "mean                     0.020868  -16036.995067   63815.045904   \n",
       "std                      0.013831    4363.988632  141275.766519   \n",
       "min                      0.000290  -25229.000000  -17912.000000   \n",
       "25%                      0.010006  -19682.000000   -2760.000000   \n",
       "50%                      0.018850  -15750.000000   -1213.000000   \n",
       "75%                      0.028663  -12413.000000    -289.000000   \n",
       "max                      0.072508   -7489.000000  365243.000000   \n",
       "\n",
       "                  ...              FLAG_DOCUMENT_18  FLAG_DOCUMENT_19  \\\n",
       "count             ...                 307511.000000     307511.000000   \n",
       "mean              ...                      0.008130          0.000595   \n",
       "std               ...                      0.089798          0.024387   \n",
       "min               ...                      0.000000          0.000000   \n",
       "25%               ...                      0.000000          0.000000   \n",
       "50%               ...                      0.000000          0.000000   \n",
       "75%               ...                      0.000000          0.000000   \n",
       "max               ...                      1.000000          1.000000   \n",
       "\n",
       "       FLAG_DOCUMENT_20  FLAG_DOCUMENT_21  AMT_REQ_CREDIT_BUREAU_HOUR  \\\n",
       "count     307511.000000     307511.000000               265992.000000   \n",
       "mean           0.000507          0.000335                    0.006402   \n",
       "std            0.022518          0.018299                    0.083849   \n",
       "min            0.000000          0.000000                    0.000000   \n",
       "25%            0.000000          0.000000                    0.000000   \n",
       "50%            0.000000          0.000000                    0.000000   \n",
       "75%            0.000000          0.000000                    0.000000   \n",
       "max            1.000000          1.000000                    4.000000   \n",
       "\n",
       "       AMT_REQ_CREDIT_BUREAU_DAY  AMT_REQ_CREDIT_BUREAU_WEEK  \\\n",
       "count              265992.000000               265992.000000   \n",
       "mean                    0.007000                    0.034362   \n",
       "std                     0.110757                    0.204685   \n",
       "min                     0.000000                    0.000000   \n",
       "25%                     0.000000                    0.000000   \n",
       "50%                     0.000000                    0.000000   \n",
       "75%                     0.000000                    0.000000   \n",
       "max                     9.000000                    8.000000   \n",
       "\n",
       "       AMT_REQ_CREDIT_BUREAU_MON  AMT_REQ_CREDIT_BUREAU_QRT  \\\n",
       "count              265992.000000              265992.000000   \n",
       "mean                    0.267395                   0.265474   \n",
       "std                     0.916002                   0.794056   \n",
       "min                     0.000000                   0.000000   \n",
       "25%                     0.000000                   0.000000   \n",
       "50%                     0.000000                   0.000000   \n",
       "75%                     0.000000                   0.000000   \n",
       "max                    27.000000                 261.000000   \n",
       "\n",
       "       AMT_REQ_CREDIT_BUREAU_YEAR  \n",
       "count               265992.000000  \n",
       "mean                     1.899974  \n",
       "std                      1.869295  \n",
       "min                      0.000000  \n",
       "25%                      0.000000  \n",
       "50%                      1.000000  \n",
       "75%                      3.000000  \n",
       "max                     25.000000  \n",
       "\n",
       "[8 rows x 106 columns]"
      ]
     },
     "execution_count": 13,
     "metadata": {},
     "output_type": "execute_result"
    }
   ],
   "source": [
    "application_train.describe()"
   ]
  },
  {
   "cell_type": "code",
   "execution_count": 14,
   "metadata": {},
   "outputs": [
    {
     "data": {
      "text/plain": [
       "['SK_ID_CURR',\n",
       " 'TARGET',\n",
       " 'NAME_CONTRACT_TYPE',\n",
       " 'CODE_GENDER',\n",
       " 'FLAG_OWN_CAR',\n",
       " 'FLAG_OWN_REALTY',\n",
       " 'CNT_CHILDREN',\n",
       " 'AMT_INCOME_TOTAL',\n",
       " 'AMT_CREDIT',\n",
       " 'AMT_ANNUITY',\n",
       " 'AMT_GOODS_PRICE',\n",
       " 'NAME_TYPE_SUITE',\n",
       " 'NAME_INCOME_TYPE',\n",
       " 'NAME_EDUCATION_TYPE',\n",
       " 'NAME_FAMILY_STATUS',\n",
       " 'NAME_HOUSING_TYPE',\n",
       " 'REGION_POPULATION_RELATIVE',\n",
       " 'DAYS_BIRTH',\n",
       " 'DAYS_EMPLOYED',\n",
       " 'DAYS_REGISTRATION',\n",
       " 'DAYS_ID_PUBLISH',\n",
       " 'OWN_CAR_AGE',\n",
       " 'FLAG_MOBIL',\n",
       " 'FLAG_EMP_PHONE',\n",
       " 'FLAG_WORK_PHONE',\n",
       " 'FLAG_CONT_MOBILE',\n",
       " 'FLAG_PHONE',\n",
       " 'FLAG_EMAIL',\n",
       " 'OCCUPATION_TYPE',\n",
       " 'CNT_FAM_MEMBERS',\n",
       " 'REGION_RATING_CLIENT',\n",
       " 'REGION_RATING_CLIENT_W_CITY',\n",
       " 'WEEKDAY_APPR_PROCESS_START',\n",
       " 'HOUR_APPR_PROCESS_START',\n",
       " 'REG_REGION_NOT_LIVE_REGION',\n",
       " 'REG_REGION_NOT_WORK_REGION',\n",
       " 'LIVE_REGION_NOT_WORK_REGION',\n",
       " 'REG_CITY_NOT_LIVE_CITY',\n",
       " 'REG_CITY_NOT_WORK_CITY',\n",
       " 'LIVE_CITY_NOT_WORK_CITY',\n",
       " 'ORGANIZATION_TYPE',\n",
       " 'EXT_SOURCE_1',\n",
       " 'EXT_SOURCE_2',\n",
       " 'EXT_SOURCE_3',\n",
       " 'APARTMENTS_AVG',\n",
       " 'BASEMENTAREA_AVG',\n",
       " 'YEARS_BEGINEXPLUATATION_AVG',\n",
       " 'YEARS_BUILD_AVG',\n",
       " 'COMMONAREA_AVG',\n",
       " 'ELEVATORS_AVG',\n",
       " 'ENTRANCES_AVG',\n",
       " 'FLOORSMAX_AVG',\n",
       " 'FLOORSMIN_AVG',\n",
       " 'LANDAREA_AVG',\n",
       " 'LIVINGAPARTMENTS_AVG',\n",
       " 'LIVINGAREA_AVG',\n",
       " 'NONLIVINGAPARTMENTS_AVG',\n",
       " 'NONLIVINGAREA_AVG',\n",
       " 'APARTMENTS_MODE',\n",
       " 'BASEMENTAREA_MODE',\n",
       " 'YEARS_BEGINEXPLUATATION_MODE',\n",
       " 'YEARS_BUILD_MODE',\n",
       " 'COMMONAREA_MODE',\n",
       " 'ELEVATORS_MODE',\n",
       " 'ENTRANCES_MODE',\n",
       " 'FLOORSMAX_MODE',\n",
       " 'FLOORSMIN_MODE',\n",
       " 'LANDAREA_MODE',\n",
       " 'LIVINGAPARTMENTS_MODE',\n",
       " 'LIVINGAREA_MODE',\n",
       " 'NONLIVINGAPARTMENTS_MODE',\n",
       " 'NONLIVINGAREA_MODE',\n",
       " 'APARTMENTS_MEDI',\n",
       " 'BASEMENTAREA_MEDI',\n",
       " 'YEARS_BEGINEXPLUATATION_MEDI',\n",
       " 'YEARS_BUILD_MEDI',\n",
       " 'COMMONAREA_MEDI',\n",
       " 'ELEVATORS_MEDI',\n",
       " 'ENTRANCES_MEDI',\n",
       " 'FLOORSMAX_MEDI',\n",
       " 'FLOORSMIN_MEDI',\n",
       " 'LANDAREA_MEDI',\n",
       " 'LIVINGAPARTMENTS_MEDI',\n",
       " 'LIVINGAREA_MEDI',\n",
       " 'NONLIVINGAPARTMENTS_MEDI',\n",
       " 'NONLIVINGAREA_MEDI',\n",
       " 'FONDKAPREMONT_MODE',\n",
       " 'HOUSETYPE_MODE',\n",
       " 'TOTALAREA_MODE',\n",
       " 'WALLSMATERIAL_MODE',\n",
       " 'EMERGENCYSTATE_MODE',\n",
       " 'OBS_30_CNT_SOCIAL_CIRCLE',\n",
       " 'DEF_30_CNT_SOCIAL_CIRCLE',\n",
       " 'OBS_60_CNT_SOCIAL_CIRCLE',\n",
       " 'DEF_60_CNT_SOCIAL_CIRCLE',\n",
       " 'DAYS_LAST_PHONE_CHANGE',\n",
       " 'FLAG_DOCUMENT_2',\n",
       " 'FLAG_DOCUMENT_3',\n",
       " 'FLAG_DOCUMENT_4',\n",
       " 'FLAG_DOCUMENT_5',\n",
       " 'FLAG_DOCUMENT_6',\n",
       " 'FLAG_DOCUMENT_7',\n",
       " 'FLAG_DOCUMENT_8',\n",
       " 'FLAG_DOCUMENT_9',\n",
       " 'FLAG_DOCUMENT_10',\n",
       " 'FLAG_DOCUMENT_11',\n",
       " 'FLAG_DOCUMENT_12',\n",
       " 'FLAG_DOCUMENT_13',\n",
       " 'FLAG_DOCUMENT_14',\n",
       " 'FLAG_DOCUMENT_15',\n",
       " 'FLAG_DOCUMENT_16',\n",
       " 'FLAG_DOCUMENT_17',\n",
       " 'FLAG_DOCUMENT_18',\n",
       " 'FLAG_DOCUMENT_19',\n",
       " 'FLAG_DOCUMENT_20',\n",
       " 'FLAG_DOCUMENT_21',\n",
       " 'AMT_REQ_CREDIT_BUREAU_HOUR',\n",
       " 'AMT_REQ_CREDIT_BUREAU_DAY',\n",
       " 'AMT_REQ_CREDIT_BUREAU_WEEK',\n",
       " 'AMT_REQ_CREDIT_BUREAU_MON',\n",
       " 'AMT_REQ_CREDIT_BUREAU_QRT',\n",
       " 'AMT_REQ_CREDIT_BUREAU_YEAR']"
      ]
     },
     "execution_count": 14,
     "metadata": {},
     "output_type": "execute_result"
    }
   ],
   "source": [
    "application_train_column_names = application_train.columns.tolist()\n",
    "application_train_column_names"
   ]
  },
  {
   "cell_type": "code",
   "execution_count": 16,
   "metadata": {},
   "outputs": [],
   "source": [
    "application_train__dtypes = application_train.dtypes"
   ]
  },
  {
   "cell_type": "code",
   "execution_count": 17,
   "metadata": {},
   "outputs": [],
   "source": [
    "application_train__dtypes.to_csv('application_train__dtypes.csv')"
   ]
  },
  {
   "cell_type": "code",
   "execution_count": 18,
   "metadata": {},
   "outputs": [
    {
     "data": {
      "text/plain": [
       "SK_ID_CURR                      int64\n",
       "TARGET                          int64\n",
       "NAME_CONTRACT_TYPE             object\n",
       "CODE_GENDER                    object\n",
       "FLAG_OWN_CAR                   object\n",
       "FLAG_OWN_REALTY                object\n",
       "CNT_CHILDREN                    int64\n",
       "AMT_INCOME_TOTAL              float64\n",
       "AMT_CREDIT                    float64\n",
       "AMT_ANNUITY                   float64\n",
       "AMT_GOODS_PRICE               float64\n",
       "NAME_TYPE_SUITE                object\n",
       "NAME_INCOME_TYPE               object\n",
       "NAME_EDUCATION_TYPE            object\n",
       "NAME_FAMILY_STATUS             object\n",
       "NAME_HOUSING_TYPE              object\n",
       "REGION_POPULATION_RELATIVE    float64\n",
       "DAYS_BIRTH                      int64\n",
       "DAYS_EMPLOYED                   int64\n",
       "DAYS_REGISTRATION             float64\n",
       "DAYS_ID_PUBLISH                 int64\n",
       "OWN_CAR_AGE                   float64\n",
       "FLAG_MOBIL                      int64\n",
       "FLAG_EMP_PHONE                  int64\n",
       "FLAG_WORK_PHONE                 int64\n",
       "FLAG_CONT_MOBILE                int64\n",
       "FLAG_PHONE                      int64\n",
       "FLAG_EMAIL                      int64\n",
       "OCCUPATION_TYPE                object\n",
       "CNT_FAM_MEMBERS               float64\n",
       "                               ...   \n",
       "DEF_30_CNT_SOCIAL_CIRCLE      float64\n",
       "OBS_60_CNT_SOCIAL_CIRCLE      float64\n",
       "DEF_60_CNT_SOCIAL_CIRCLE      float64\n",
       "DAYS_LAST_PHONE_CHANGE        float64\n",
       "FLAG_DOCUMENT_2                 int64\n",
       "FLAG_DOCUMENT_3                 int64\n",
       "FLAG_DOCUMENT_4                 int64\n",
       "FLAG_DOCUMENT_5                 int64\n",
       "FLAG_DOCUMENT_6                 int64\n",
       "FLAG_DOCUMENT_7                 int64\n",
       "FLAG_DOCUMENT_8                 int64\n",
       "FLAG_DOCUMENT_9                 int64\n",
       "FLAG_DOCUMENT_10                int64\n",
       "FLAG_DOCUMENT_11                int64\n",
       "FLAG_DOCUMENT_12                int64\n",
       "FLAG_DOCUMENT_13                int64\n",
       "FLAG_DOCUMENT_14                int64\n",
       "FLAG_DOCUMENT_15                int64\n",
       "FLAG_DOCUMENT_16                int64\n",
       "FLAG_DOCUMENT_17                int64\n",
       "FLAG_DOCUMENT_18                int64\n",
       "FLAG_DOCUMENT_19                int64\n",
       "FLAG_DOCUMENT_20                int64\n",
       "FLAG_DOCUMENT_21                int64\n",
       "AMT_REQ_CREDIT_BUREAU_HOUR    float64\n",
       "AMT_REQ_CREDIT_BUREAU_DAY     float64\n",
       "AMT_REQ_CREDIT_BUREAU_WEEK    float64\n",
       "AMT_REQ_CREDIT_BUREAU_MON     float64\n",
       "AMT_REQ_CREDIT_BUREAU_QRT     float64\n",
       "AMT_REQ_CREDIT_BUREAU_YEAR    float64\n",
       "Length: 122, dtype: object"
      ]
     },
     "execution_count": 18,
     "metadata": {},
     "output_type": "execute_result"
    }
   ],
   "source": [
    "application_train__dtypes"
   ]
  },
  {
   "cell_type": "code",
   "execution_count": 19,
   "metadata": {},
   "outputs": [
    {
     "data": {
      "text/plain": [
       "{dtype('int64'): Index(['SK_ID_CURR', 'TARGET', 'CNT_CHILDREN', 'DAYS_BIRTH', 'DAYS_EMPLOYED',\n",
       "        'DAYS_ID_PUBLISH', 'FLAG_MOBIL', 'FLAG_EMP_PHONE', 'FLAG_WORK_PHONE',\n",
       "        'FLAG_CONT_MOBILE', 'FLAG_PHONE', 'FLAG_EMAIL', 'REGION_RATING_CLIENT',\n",
       "        'REGION_RATING_CLIENT_W_CITY', 'HOUR_APPR_PROCESS_START',\n",
       "        'REG_REGION_NOT_LIVE_REGION', 'REG_REGION_NOT_WORK_REGION',\n",
       "        'LIVE_REGION_NOT_WORK_REGION', 'REG_CITY_NOT_LIVE_CITY',\n",
       "        'REG_CITY_NOT_WORK_CITY', 'LIVE_CITY_NOT_WORK_CITY', 'FLAG_DOCUMENT_2',\n",
       "        'FLAG_DOCUMENT_3', 'FLAG_DOCUMENT_4', 'FLAG_DOCUMENT_5',\n",
       "        'FLAG_DOCUMENT_6', 'FLAG_DOCUMENT_7', 'FLAG_DOCUMENT_8',\n",
       "        'FLAG_DOCUMENT_9', 'FLAG_DOCUMENT_10', 'FLAG_DOCUMENT_11',\n",
       "        'FLAG_DOCUMENT_12', 'FLAG_DOCUMENT_13', 'FLAG_DOCUMENT_14',\n",
       "        'FLAG_DOCUMENT_15', 'FLAG_DOCUMENT_16', 'FLAG_DOCUMENT_17',\n",
       "        'FLAG_DOCUMENT_18', 'FLAG_DOCUMENT_19', 'FLAG_DOCUMENT_20',\n",
       "        'FLAG_DOCUMENT_21'],\n",
       "       dtype='object'),\n",
       " dtype('float64'): Index(['AMT_INCOME_TOTAL', 'AMT_CREDIT', 'AMT_ANNUITY', 'AMT_GOODS_PRICE',\n",
       "        'REGION_POPULATION_RELATIVE', 'DAYS_REGISTRATION', 'OWN_CAR_AGE',\n",
       "        'CNT_FAM_MEMBERS', 'EXT_SOURCE_1', 'EXT_SOURCE_2', 'EXT_SOURCE_3',\n",
       "        'APARTMENTS_AVG', 'BASEMENTAREA_AVG', 'YEARS_BEGINEXPLUATATION_AVG',\n",
       "        'YEARS_BUILD_AVG', 'COMMONAREA_AVG', 'ELEVATORS_AVG', 'ENTRANCES_AVG',\n",
       "        'FLOORSMAX_AVG', 'FLOORSMIN_AVG', 'LANDAREA_AVG',\n",
       "        'LIVINGAPARTMENTS_AVG', 'LIVINGAREA_AVG', 'NONLIVINGAPARTMENTS_AVG',\n",
       "        'NONLIVINGAREA_AVG', 'APARTMENTS_MODE', 'BASEMENTAREA_MODE',\n",
       "        'YEARS_BEGINEXPLUATATION_MODE', 'YEARS_BUILD_MODE', 'COMMONAREA_MODE',\n",
       "        'ELEVATORS_MODE', 'ENTRANCES_MODE', 'FLOORSMAX_MODE', 'FLOORSMIN_MODE',\n",
       "        'LANDAREA_MODE', 'LIVINGAPARTMENTS_MODE', 'LIVINGAREA_MODE',\n",
       "        'NONLIVINGAPARTMENTS_MODE', 'NONLIVINGAREA_MODE', 'APARTMENTS_MEDI',\n",
       "        'BASEMENTAREA_MEDI', 'YEARS_BEGINEXPLUATATION_MEDI', 'YEARS_BUILD_MEDI',\n",
       "        'COMMONAREA_MEDI', 'ELEVATORS_MEDI', 'ENTRANCES_MEDI', 'FLOORSMAX_MEDI',\n",
       "        'FLOORSMIN_MEDI', 'LANDAREA_MEDI', 'LIVINGAPARTMENTS_MEDI',\n",
       "        'LIVINGAREA_MEDI', 'NONLIVINGAPARTMENTS_MEDI', 'NONLIVINGAREA_MEDI',\n",
       "        'TOTALAREA_MODE', 'OBS_30_CNT_SOCIAL_CIRCLE',\n",
       "        'DEF_30_CNT_SOCIAL_CIRCLE', 'OBS_60_CNT_SOCIAL_CIRCLE',\n",
       "        'DEF_60_CNT_SOCIAL_CIRCLE', 'DAYS_LAST_PHONE_CHANGE',\n",
       "        'AMT_REQ_CREDIT_BUREAU_HOUR', 'AMT_REQ_CREDIT_BUREAU_DAY',\n",
       "        'AMT_REQ_CREDIT_BUREAU_WEEK', 'AMT_REQ_CREDIT_BUREAU_MON',\n",
       "        'AMT_REQ_CREDIT_BUREAU_QRT', 'AMT_REQ_CREDIT_BUREAU_YEAR'],\n",
       "       dtype='object'),\n",
       " dtype('O'): Index(['NAME_CONTRACT_TYPE', 'CODE_GENDER', 'FLAG_OWN_CAR', 'FLAG_OWN_REALTY',\n",
       "        'NAME_TYPE_SUITE', 'NAME_INCOME_TYPE', 'NAME_EDUCATION_TYPE',\n",
       "        'NAME_FAMILY_STATUS', 'NAME_HOUSING_TYPE', 'OCCUPATION_TYPE',\n",
       "        'WEEKDAY_APPR_PROCESS_START', 'ORGANIZATION_TYPE', 'FONDKAPREMONT_MODE',\n",
       "        'HOUSETYPE_MODE', 'WALLSMATERIAL_MODE', 'EMERGENCYSTATE_MODE'],\n",
       "       dtype='object')}"
      ]
     },
     "execution_count": 19,
     "metadata": {},
     "output_type": "execute_result"
    }
   ],
   "source": [
    "application_train.columns.to_series().groupby(application_train.dtypes).groups"
   ]
  },
  {
   "cell_type": "code",
   "execution_count": 21,
   "metadata": {},
   "outputs": [
    {
     "data": {
      "text/plain": [
       "[]"
      ]
     },
     "execution_count": 21,
     "metadata": {},
     "output_type": "execute_result"
    }
   ],
   "source": [
    "# application_train.select_dtypes(include=['bool'])\n",
    "list(application_train.select_dtypes(include=['bool']).columns)"
   ]
  },
  {
   "cell_type": "code",
   "execution_count": 22,
   "metadata": {},
   "outputs": [
    {
     "data": {
      "text/plain": [
       "['SK_ID_CURR',\n",
       " 'TARGET',\n",
       " 'CNT_CHILDREN',\n",
       " 'DAYS_BIRTH',\n",
       " 'DAYS_EMPLOYED',\n",
       " 'DAYS_ID_PUBLISH',\n",
       " 'FLAG_MOBIL',\n",
       " 'FLAG_EMP_PHONE',\n",
       " 'FLAG_WORK_PHONE',\n",
       " 'FLAG_CONT_MOBILE',\n",
       " 'FLAG_PHONE',\n",
       " 'FLAG_EMAIL',\n",
       " 'REGION_RATING_CLIENT',\n",
       " 'REGION_RATING_CLIENT_W_CITY',\n",
       " 'HOUR_APPR_PROCESS_START',\n",
       " 'REG_REGION_NOT_LIVE_REGION',\n",
       " 'REG_REGION_NOT_WORK_REGION',\n",
       " 'LIVE_REGION_NOT_WORK_REGION',\n",
       " 'REG_CITY_NOT_LIVE_CITY',\n",
       " 'REG_CITY_NOT_WORK_CITY',\n",
       " 'LIVE_CITY_NOT_WORK_CITY',\n",
       " 'FLAG_DOCUMENT_2',\n",
       " 'FLAG_DOCUMENT_3',\n",
       " 'FLAG_DOCUMENT_4',\n",
       " 'FLAG_DOCUMENT_5',\n",
       " 'FLAG_DOCUMENT_6',\n",
       " 'FLAG_DOCUMENT_7',\n",
       " 'FLAG_DOCUMENT_8',\n",
       " 'FLAG_DOCUMENT_9',\n",
       " 'FLAG_DOCUMENT_10',\n",
       " 'FLAG_DOCUMENT_11',\n",
       " 'FLAG_DOCUMENT_12',\n",
       " 'FLAG_DOCUMENT_13',\n",
       " 'FLAG_DOCUMENT_14',\n",
       " 'FLAG_DOCUMENT_15',\n",
       " 'FLAG_DOCUMENT_16',\n",
       " 'FLAG_DOCUMENT_17',\n",
       " 'FLAG_DOCUMENT_18',\n",
       " 'FLAG_DOCUMENT_19',\n",
       " 'FLAG_DOCUMENT_20',\n",
       " 'FLAG_DOCUMENT_21']"
      ]
     },
     "execution_count": 22,
     "metadata": {},
     "output_type": "execute_result"
    }
   ],
   "source": [
    "list(application_train.select_dtypes(include=['int64']).columns)"
   ]
  },
  {
   "cell_type": "code",
   "execution_count": 23,
   "metadata": {},
   "outputs": [
    {
     "data": {
      "text/plain": [
       "['AMT_INCOME_TOTAL',\n",
       " 'AMT_CREDIT',\n",
       " 'AMT_ANNUITY',\n",
       " 'AMT_GOODS_PRICE',\n",
       " 'REGION_POPULATION_RELATIVE',\n",
       " 'DAYS_REGISTRATION',\n",
       " 'OWN_CAR_AGE',\n",
       " 'CNT_FAM_MEMBERS',\n",
       " 'EXT_SOURCE_1',\n",
       " 'EXT_SOURCE_2',\n",
       " 'EXT_SOURCE_3',\n",
       " 'APARTMENTS_AVG',\n",
       " 'BASEMENTAREA_AVG',\n",
       " 'YEARS_BEGINEXPLUATATION_AVG',\n",
       " 'YEARS_BUILD_AVG',\n",
       " 'COMMONAREA_AVG',\n",
       " 'ELEVATORS_AVG',\n",
       " 'ENTRANCES_AVG',\n",
       " 'FLOORSMAX_AVG',\n",
       " 'FLOORSMIN_AVG',\n",
       " 'LANDAREA_AVG',\n",
       " 'LIVINGAPARTMENTS_AVG',\n",
       " 'LIVINGAREA_AVG',\n",
       " 'NONLIVINGAPARTMENTS_AVG',\n",
       " 'NONLIVINGAREA_AVG',\n",
       " 'APARTMENTS_MODE',\n",
       " 'BASEMENTAREA_MODE',\n",
       " 'YEARS_BEGINEXPLUATATION_MODE',\n",
       " 'YEARS_BUILD_MODE',\n",
       " 'COMMONAREA_MODE',\n",
       " 'ELEVATORS_MODE',\n",
       " 'ENTRANCES_MODE',\n",
       " 'FLOORSMAX_MODE',\n",
       " 'FLOORSMIN_MODE',\n",
       " 'LANDAREA_MODE',\n",
       " 'LIVINGAPARTMENTS_MODE',\n",
       " 'LIVINGAREA_MODE',\n",
       " 'NONLIVINGAPARTMENTS_MODE',\n",
       " 'NONLIVINGAREA_MODE',\n",
       " 'APARTMENTS_MEDI',\n",
       " 'BASEMENTAREA_MEDI',\n",
       " 'YEARS_BEGINEXPLUATATION_MEDI',\n",
       " 'YEARS_BUILD_MEDI',\n",
       " 'COMMONAREA_MEDI',\n",
       " 'ELEVATORS_MEDI',\n",
       " 'ENTRANCES_MEDI',\n",
       " 'FLOORSMAX_MEDI',\n",
       " 'FLOORSMIN_MEDI',\n",
       " 'LANDAREA_MEDI',\n",
       " 'LIVINGAPARTMENTS_MEDI',\n",
       " 'LIVINGAREA_MEDI',\n",
       " 'NONLIVINGAPARTMENTS_MEDI',\n",
       " 'NONLIVINGAREA_MEDI',\n",
       " 'TOTALAREA_MODE',\n",
       " 'OBS_30_CNT_SOCIAL_CIRCLE',\n",
       " 'DEF_30_CNT_SOCIAL_CIRCLE',\n",
       " 'OBS_60_CNT_SOCIAL_CIRCLE',\n",
       " 'DEF_60_CNT_SOCIAL_CIRCLE',\n",
       " 'DAYS_LAST_PHONE_CHANGE',\n",
       " 'AMT_REQ_CREDIT_BUREAU_HOUR',\n",
       " 'AMT_REQ_CREDIT_BUREAU_DAY',\n",
       " 'AMT_REQ_CREDIT_BUREAU_WEEK',\n",
       " 'AMT_REQ_CREDIT_BUREAU_MON',\n",
       " 'AMT_REQ_CREDIT_BUREAU_QRT',\n",
       " 'AMT_REQ_CREDIT_BUREAU_YEAR']"
      ]
     },
     "execution_count": 23,
     "metadata": {},
     "output_type": "execute_result"
    }
   ],
   "source": [
    "list(application_train.select_dtypes(include=['float64']).columns)"
   ]
  },
  {
   "cell_type": "code",
   "execution_count": 24,
   "metadata": {},
   "outputs": [
    {
     "data": {
      "text/plain": [
       "['NAME_CONTRACT_TYPE',\n",
       " 'CODE_GENDER',\n",
       " 'FLAG_OWN_CAR',\n",
       " 'FLAG_OWN_REALTY',\n",
       " 'NAME_TYPE_SUITE',\n",
       " 'NAME_INCOME_TYPE',\n",
       " 'NAME_EDUCATION_TYPE',\n",
       " 'NAME_FAMILY_STATUS',\n",
       " 'NAME_HOUSING_TYPE',\n",
       " 'OCCUPATION_TYPE',\n",
       " 'WEEKDAY_APPR_PROCESS_START',\n",
       " 'ORGANIZATION_TYPE',\n",
       " 'FONDKAPREMONT_MODE',\n",
       " 'HOUSETYPE_MODE',\n",
       " 'WALLSMATERIAL_MODE',\n",
       " 'EMERGENCYSTATE_MODE']"
      ]
     },
     "execution_count": 24,
     "metadata": {},
     "output_type": "execute_result"
    }
   ],
   "source": [
    "list(application_train.select_dtypes(include=['O']).columns)"
   ]
  },
  {
   "cell_type": "code",
   "execution_count": null,
   "metadata": {},
   "outputs": [],
   "source": []
  },
  {
   "cell_type": "code",
   "execution_count": 40,
   "metadata": {},
   "outputs": [
    {
     "data": {
      "text/plain": [
       "array([1, 0], dtype=int64)"
      ]
     },
     "execution_count": 40,
     "metadata": {},
     "output_type": "execute_result"
    }
   ],
   "source": [
    "# List of unique values in the df['name'] column\n",
    "# df.name.unique()\n",
    "application_train.TARGET.unique()"
   ]
  },
  {
   "cell_type": "code",
   "execution_count": 41,
   "metadata": {},
   "outputs": [
    {
     "data": {
      "text/plain": [
       "array([1, 0], dtype=int64)"
      ]
     },
     "execution_count": 41,
     "metadata": {},
     "output_type": "execute_result"
    }
   ],
   "source": [
    "application_train['TARGET'].unique()"
   ]
  },
  {
   "cell_type": "code",
   "execution_count": 42,
   "metadata": {},
   "outputs": [
    {
     "data": {
      "text/plain": [
       "2"
      ]
     },
     "execution_count": 42,
     "metadata": {},
     "output_type": "execute_result"
    }
   ],
   "source": [
    "# Number of unique values in the df['name'] column\n",
    "application_train.TARGET.nunique()"
   ]
  },
  {
   "cell_type": "code",
   "execution_count": 43,
   "metadata": {},
   "outputs": [
    {
     "data": {
      "text/plain": [
       "2"
      ]
     },
     "execution_count": 43,
     "metadata": {},
     "output_type": "execute_result"
    }
   ],
   "source": [
    "application_train['TARGET'].nunique()"
   ]
  },
  {
   "cell_type": "code",
   "execution_count": 44,
   "metadata": {},
   "outputs": [
    {
     "data": {
      "text/plain": [
       "0    282686\n",
       "1     24825\n",
       "Name: TARGET, dtype: int64"
      ]
     },
     "execution_count": 44,
     "metadata": {},
     "output_type": "execute_result"
    }
   ],
   "source": [
    "application_train['TARGET'].value_counts()"
   ]
  },
  {
   "cell_type": "markdown",
   "metadata": {},
   "source": [
    "https://stackoverflow.com/questions/45759966/counting-unique-values-in-a-column-in-pandas-dataframe-like-in-qlik\n",
    "\n",
    "Count distict values, use nunique:\n",
    "df['hID'].nunique()\n",
    "Count only non-null values, use count:\n",
    "df['hID'].count()\n",
    "Count total values including null values, use size attribute:\n",
    "df['hID'].size\n",
    "To add condition...\n",
    "Use boolean indexing:\n",
    "df.loc[df['mID']=='A','hID'].agg(['nunique','count','size'])\n",
    "Or, using query:\n",
    "df.query('mID == \"A\"')['hID'].agg(['nunique','count','size'])\n",
    "\n",
    "New in pandas 0.20.0 pd.DataFrame.agg\n",
    "df.agg(['count', 'size', 'nunique'])\n",
    "You've always been able to do an agg within a groupby. I used stack at the end because I like the presentation better.\n",
    "df.groupby('mID').agg(['count', 'size', 'nunique']).stack()\n",
    "\n",
    "\n",
    "https://stackoverflow.com/questions/45125408/how-to-count-the-distinct-values-across-a-column-in-pandas\n",
    "\n",
    "df[['Company', 'Date']].drop_duplicates()['Company'].value_counts()\n",
    "df.groupby('Company')['Date'].nunique()\n",
    "\n",
    "\n",
    "https://stackoverflow.com/questions/48162201/pandas-number-of-unique-values-and-sort-by-the-number-of-unique\n",
    "\n",
    "df = df.groupby('A')['B'].nunique().sort_values(ascending=False).reset_index(name='count')\n",
    "print (df)\n",
    "\n",
    "\n",
    "https://stackoverflow.com/questions/38309729/count-unique-values-with-pandas-per-groups/38309823\n",
    "\n",
    "You can retain the column name like this:\n",
    "df = df.groupby(by='domain', as_index=False).agg({'ID': pd.Series.nunique})\n",
    "The difference is that 'nunique()' returns a Series and 'agg()' returns a DataFrame.\n"
   ]
  },
  {
   "cell_type": "code",
   "execution_count": null,
   "metadata": {},
   "outputs": [],
   "source": []
  },
  {
   "cell_type": "code",
   "execution_count": 49,
   "metadata": {},
   "outputs": [
    {
     "data": {
      "text/plain": [
       "307511"
      ]
     },
     "execution_count": 49,
     "metadata": {},
     "output_type": "execute_result"
    }
   ],
   "source": [
    "len(application_train.index)"
   ]
  },
  {
   "cell_type": "code",
   "execution_count": 51,
   "metadata": {},
   "outputs": [
    {
     "data": {
      "text/plain": [
       "307511"
      ]
     },
     "execution_count": 51,
     "metadata": {},
     "output_type": "execute_result"
    }
   ],
   "source": [
    "application_train.shape[0]"
   ]
  },
  {
   "cell_type": "code",
   "execution_count": 50,
   "metadata": {},
   "outputs": [
    {
     "data": {
      "text/plain": [
       "122"
      ]
     },
     "execution_count": 50,
     "metadata": {},
     "output_type": "execute_result"
    }
   ],
   "source": [
    "len(application_train.columns)"
   ]
  },
  {
   "cell_type": "code",
   "execution_count": null,
   "metadata": {},
   "outputs": [],
   "source": [
    "application_train.shape[1]"
   ]
  },
  {
   "cell_type": "code",
   "execution_count": 53,
   "metadata": {},
   "outputs": [],
   "source": [
    "application_train__row_count, application_train__column_count = application_train.shape"
   ]
  },
  {
   "cell_type": "code",
   "execution_count": 54,
   "metadata": {},
   "outputs": [
    {
     "data": {
      "text/plain": [
       "307511"
      ]
     },
     "execution_count": 54,
     "metadata": {},
     "output_type": "execute_result"
    }
   ],
   "source": [
    "application_train__row_count"
   ]
  },
  {
   "cell_type": "code",
   "execution_count": 55,
   "metadata": {},
   "outputs": [
    {
     "data": {
      "text/plain": [
       "122"
      ]
     },
     "execution_count": 55,
     "metadata": {},
     "output_type": "execute_result"
    }
   ],
   "source": [
    "application_train__column_count"
   ]
  },
  {
   "cell_type": "code",
   "execution_count": null,
   "metadata": {},
   "outputs": [],
   "source": []
  },
  {
   "cell_type": "code",
   "execution_count": 67,
   "metadata": {},
   "outputs": [
    {
     "name": "stdout",
     "output_type": "stream",
     "text": [
      "Column Name:  SK_ID_CURR Number of Unique Values:  307511 Cardinality:  1.0\n",
      "Column Name:  TARGET Number of Unique Values:  2 Cardinality:  0.0\n",
      "Column Name:  NAME_CONTRACT_TYPE Number of Unique Values:  2 Cardinality:  0.0\n",
      "Column Name:  CODE_GENDER Number of Unique Values:  3 Cardinality:  0.0\n",
      "Column Name:  FLAG_OWN_CAR Number of Unique Values:  2 Cardinality:  0.0\n",
      "Column Name:  FLAG_OWN_REALTY Number of Unique Values:  2 Cardinality:  0.0\n",
      "Column Name:  CNT_CHILDREN Number of Unique Values:  15 Cardinality:  0.0\n",
      "Column Name:  AMT_INCOME_TOTAL Number of Unique Values:  2548 Cardinality:  0.01\n",
      "Column Name:  AMT_CREDIT Number of Unique Values:  5603 Cardinality:  0.02\n",
      "Column Name:  AMT_ANNUITY Number of Unique Values:  13672 Cardinality:  0.04\n",
      "Column Name:  AMT_GOODS_PRICE Number of Unique Values:  1002 Cardinality:  0.0\n",
      "Column Name:  NAME_TYPE_SUITE Number of Unique Values:  7 Cardinality:  0.0\n",
      "Column Name:  NAME_INCOME_TYPE Number of Unique Values:  8 Cardinality:  0.0\n",
      "Column Name:  NAME_EDUCATION_TYPE Number of Unique Values:  5 Cardinality:  0.0\n",
      "Column Name:  NAME_FAMILY_STATUS Number of Unique Values:  6 Cardinality:  0.0\n",
      "Column Name:  NAME_HOUSING_TYPE Number of Unique Values:  6 Cardinality:  0.0\n",
      "Column Name:  REGION_POPULATION_RELATIVE Number of Unique Values:  81 Cardinality:  0.0\n",
      "Column Name:  DAYS_BIRTH Number of Unique Values:  17460 Cardinality:  0.06\n",
      "Column Name:  DAYS_EMPLOYED Number of Unique Values:  12574 Cardinality:  0.04\n",
      "Column Name:  DAYS_REGISTRATION Number of Unique Values:  15688 Cardinality:  0.05\n",
      "Column Name:  DAYS_ID_PUBLISH Number of Unique Values:  6168 Cardinality:  0.02\n",
      "Column Name:  OWN_CAR_AGE Number of Unique Values:  62 Cardinality:  0.0\n",
      "Column Name:  FLAG_MOBIL Number of Unique Values:  2 Cardinality:  0.0\n",
      "Column Name:  FLAG_EMP_PHONE Number of Unique Values:  2 Cardinality:  0.0\n",
      "Column Name:  FLAG_WORK_PHONE Number of Unique Values:  2 Cardinality:  0.0\n",
      "Column Name:  FLAG_CONT_MOBILE Number of Unique Values:  2 Cardinality:  0.0\n",
      "Column Name:  FLAG_PHONE Number of Unique Values:  2 Cardinality:  0.0\n",
      "Column Name:  FLAG_EMAIL Number of Unique Values:  2 Cardinality:  0.0\n",
      "Column Name:  OCCUPATION_TYPE Number of Unique Values:  18 Cardinality:  0.0\n",
      "Column Name:  CNT_FAM_MEMBERS Number of Unique Values:  17 Cardinality:  0.0\n",
      "Column Name:  REGION_RATING_CLIENT Number of Unique Values:  3 Cardinality:  0.0\n",
      "Column Name:  REGION_RATING_CLIENT_W_CITY Number of Unique Values:  3 Cardinality:  0.0\n",
      "Column Name:  WEEKDAY_APPR_PROCESS_START Number of Unique Values:  7 Cardinality:  0.0\n",
      "Column Name:  HOUR_APPR_PROCESS_START Number of Unique Values:  24 Cardinality:  0.0\n",
      "Column Name:  REG_REGION_NOT_LIVE_REGION Number of Unique Values:  2 Cardinality:  0.0\n",
      "Column Name:  REG_REGION_NOT_WORK_REGION Number of Unique Values:  2 Cardinality:  0.0\n",
      "Column Name:  LIVE_REGION_NOT_WORK_REGION Number of Unique Values:  2 Cardinality:  0.0\n",
      "Column Name:  REG_CITY_NOT_LIVE_CITY Number of Unique Values:  2 Cardinality:  0.0\n",
      "Column Name:  REG_CITY_NOT_WORK_CITY Number of Unique Values:  2 Cardinality:  0.0\n",
      "Column Name:  LIVE_CITY_NOT_WORK_CITY Number of Unique Values:  2 Cardinality:  0.0\n",
      "Column Name:  ORGANIZATION_TYPE Number of Unique Values:  58 Cardinality:  0.0\n",
      "Column Name:  EXT_SOURCE_1 Number of Unique Values:  114584 Cardinality:  0.37\n",
      "Column Name:  EXT_SOURCE_2 Number of Unique Values:  119831 Cardinality:  0.39\n",
      "Column Name:  EXT_SOURCE_3 Number of Unique Values:  814 Cardinality:  0.0\n",
      "Column Name:  APARTMENTS_AVG Number of Unique Values:  2339 Cardinality:  0.01\n",
      "Column Name:  BASEMENTAREA_AVG Number of Unique Values:  3780 Cardinality:  0.01\n",
      "Column Name:  YEARS_BEGINEXPLUATATION_AVG Number of Unique Values:  285 Cardinality:  0.0\n",
      "Column Name:  YEARS_BUILD_AVG Number of Unique Values:  149 Cardinality:  0.0\n",
      "Column Name:  COMMONAREA_AVG Number of Unique Values:  3181 Cardinality:  0.01\n",
      "Column Name:  ELEVATORS_AVG Number of Unique Values:  257 Cardinality:  0.0\n",
      "Column Name:  ENTRANCES_AVG Number of Unique Values:  285 Cardinality:  0.0\n",
      "Column Name:  FLOORSMAX_AVG Number of Unique Values:  403 Cardinality:  0.0\n",
      "Column Name:  FLOORSMIN_AVG Number of Unique Values:  305 Cardinality:  0.0\n",
      "Column Name:  LANDAREA_AVG Number of Unique Values:  3527 Cardinality:  0.01\n",
      "Column Name:  LIVINGAPARTMENTS_AVG Number of Unique Values:  1868 Cardinality:  0.01\n",
      "Column Name:  LIVINGAREA_AVG Number of Unique Values:  5199 Cardinality:  0.02\n",
      "Column Name:  NONLIVINGAPARTMENTS_AVG Number of Unique Values:  386 Cardinality:  0.0\n",
      "Column Name:  NONLIVINGAREA_AVG Number of Unique Values:  3290 Cardinality:  0.01\n",
      "Column Name:  APARTMENTS_MODE Number of Unique Values:  760 Cardinality:  0.0\n",
      "Column Name:  BASEMENTAREA_MODE Number of Unique Values:  3841 Cardinality:  0.01\n",
      "Column Name:  YEARS_BEGINEXPLUATATION_MODE Number of Unique Values:  221 Cardinality:  0.0\n",
      "Column Name:  YEARS_BUILD_MODE Number of Unique Values:  154 Cardinality:  0.0\n",
      "Column Name:  COMMONAREA_MODE Number of Unique Values:  3128 Cardinality:  0.01\n",
      "Column Name:  ELEVATORS_MODE Number of Unique Values:  26 Cardinality:  0.0\n",
      "Column Name:  ENTRANCES_MODE Number of Unique Values:  30 Cardinality:  0.0\n",
      "Column Name:  FLOORSMAX_MODE Number of Unique Values:  25 Cardinality:  0.0\n",
      "Column Name:  FLOORSMIN_MODE Number of Unique Values:  25 Cardinality:  0.0\n",
      "Column Name:  LANDAREA_MODE Number of Unique Values:  3563 Cardinality:  0.01\n",
      "Column Name:  LIVINGAPARTMENTS_MODE Number of Unique Values:  736 Cardinality:  0.0\n",
      "Column Name:  LIVINGAREA_MODE Number of Unique Values:  5301 Cardinality:  0.02\n",
      "Column Name:  NONLIVINGAPARTMENTS_MODE Number of Unique Values:  167 Cardinality:  0.0\n",
      "Column Name:  NONLIVINGAREA_MODE Number of Unique Values:  3327 Cardinality:  0.01\n",
      "Column Name:  APARTMENTS_MEDI Number of Unique Values:  1148 Cardinality:  0.0\n",
      "Column Name:  BASEMENTAREA_MEDI Number of Unique Values:  3772 Cardinality:  0.01\n",
      "Column Name:  YEARS_BEGINEXPLUATATION_MEDI Number of Unique Values:  245 Cardinality:  0.0\n",
      "Column Name:  YEARS_BUILD_MEDI Number of Unique Values:  151 Cardinality:  0.0\n",
      "Column Name:  COMMONAREA_MEDI Number of Unique Values:  3202 Cardinality:  0.01\n",
      "Column Name:  ELEVATORS_MEDI Number of Unique Values:  46 Cardinality:  0.0\n",
      "Column Name:  ENTRANCES_MEDI Number of Unique Values:  46 Cardinality:  0.0\n",
      "Column Name:  FLOORSMAX_MEDI Number of Unique Values:  49 Cardinality:  0.0\n",
      "Column Name:  FLOORSMIN_MEDI Number of Unique Values:  47 Cardinality:  0.0\n",
      "Column Name:  LANDAREA_MEDI Number of Unique Values:  3560 Cardinality:  0.01\n",
      "Column Name:  LIVINGAPARTMENTS_MEDI Number of Unique Values:  1097 Cardinality:  0.0\n",
      "Column Name:  LIVINGAREA_MEDI Number of Unique Values:  5281 Cardinality:  0.02\n",
      "Column Name:  NONLIVINGAPARTMENTS_MEDI Number of Unique Values:  214 Cardinality:  0.0\n",
      "Column Name:  NONLIVINGAREA_MEDI Number of Unique Values:  3323 Cardinality:  0.01\n",
      "Column Name:  FONDKAPREMONT_MODE Number of Unique Values:  4 Cardinality:  0.0\n",
      "Column Name:  HOUSETYPE_MODE Number of Unique Values:  3 Cardinality:  0.0\n",
      "Column Name:  TOTALAREA_MODE Number of Unique Values:  5116 Cardinality:  0.02\n",
      "Column Name:  WALLSMATERIAL_MODE Number of Unique Values:  7 Cardinality:  0.0\n",
      "Column Name:  EMERGENCYSTATE_MODE Number of Unique Values:  2 Cardinality:  0.0\n",
      "Column Name:  OBS_30_CNT_SOCIAL_CIRCLE Number of Unique Values:  33 Cardinality:  0.0\n",
      "Column Name:  DEF_30_CNT_SOCIAL_CIRCLE Number of Unique Values:  10 Cardinality:  0.0\n",
      "Column Name:  OBS_60_CNT_SOCIAL_CIRCLE Number of Unique Values:  33 Cardinality:  0.0\n",
      "Column Name:  DEF_60_CNT_SOCIAL_CIRCLE Number of Unique Values:  9 Cardinality:  0.0\n",
      "Column Name:  DAYS_LAST_PHONE_CHANGE Number of Unique Values:  3773 Cardinality:  0.01\n",
      "Column Name:  FLAG_DOCUMENT_2 Number of Unique Values:  2 Cardinality:  0.0\n",
      "Column Name:  FLAG_DOCUMENT_3 Number of Unique Values:  2 Cardinality:  0.0\n",
      "Column Name:  FLAG_DOCUMENT_4 Number of Unique Values:  2 Cardinality:  0.0\n",
      "Column Name:  FLAG_DOCUMENT_5 Number of Unique Values:  2 Cardinality:  0.0\n",
      "Column Name:  FLAG_DOCUMENT_6 Number of Unique Values:  2 Cardinality:  0.0\n",
      "Column Name:  FLAG_DOCUMENT_7 Number of Unique Values:  2 Cardinality:  0.0\n",
      "Column Name:  FLAG_DOCUMENT_8 Number of Unique Values:  2 Cardinality:  0.0\n",
      "Column Name:  FLAG_DOCUMENT_9 Number of Unique Values:  2 Cardinality:  0.0\n",
      "Column Name:  FLAG_DOCUMENT_10 Number of Unique Values:  2 Cardinality:  0.0\n",
      "Column Name:  FLAG_DOCUMENT_11 Number of Unique Values:  2 Cardinality:  0.0\n",
      "Column Name:  FLAG_DOCUMENT_12 Number of Unique Values:  2 Cardinality:  0.0\n",
      "Column Name:  FLAG_DOCUMENT_13 Number of Unique Values:  2 Cardinality:  0.0\n",
      "Column Name:  FLAG_DOCUMENT_14 Number of Unique Values:  2 Cardinality:  0.0\n",
      "Column Name:  FLAG_DOCUMENT_15 Number of Unique Values:  2 Cardinality:  0.0\n",
      "Column Name:  FLAG_DOCUMENT_16 Number of Unique Values:  2 Cardinality:  0.0\n",
      "Column Name:  FLAG_DOCUMENT_17 Number of Unique Values:  2 Cardinality:  0.0\n",
      "Column Name:  FLAG_DOCUMENT_18 Number of Unique Values:  2 Cardinality:  0.0\n",
      "Column Name:  FLAG_DOCUMENT_19 Number of Unique Values:  2 Cardinality:  0.0\n",
      "Column Name:  FLAG_DOCUMENT_20 Number of Unique Values:  2 Cardinality:  0.0\n"
     ]
    },
    {
     "name": "stdout",
     "output_type": "stream",
     "text": [
      "Column Name:  FLAG_DOCUMENT_21 Number of Unique Values:  2 Cardinality:  0.0\n",
      "Column Name:  AMT_REQ_CREDIT_BUREAU_HOUR Number of Unique Values:  5 Cardinality:  0.0\n",
      "Column Name:  AMT_REQ_CREDIT_BUREAU_DAY Number of Unique Values:  9 Cardinality:  0.0\n",
      "Column Name:  AMT_REQ_CREDIT_BUREAU_WEEK Number of Unique Values:  9 Cardinality:  0.0\n",
      "Column Name:  AMT_REQ_CREDIT_BUREAU_MON Number of Unique Values:  24 Cardinality:  0.0\n",
      "Column Name:  AMT_REQ_CREDIT_BUREAU_QRT Number of Unique Values:  11 Cardinality:  0.0\n",
      "Column Name:  AMT_REQ_CREDIT_BUREAU_YEAR Number of Unique Values:  25 Cardinality:  0.0\n"
     ]
    }
   ],
   "source": [
    "for column_name in application_train_column_names:\n",
    "    number_of_unique_values = application_train[column_name].nunique()\n",
    "    print ('Column Name: ', column_name, 'Number of Unique Values: ', number_of_unique_values, 'Cardinality: ', round(number_of_unique_values/application_train__row_count,2))"
   ]
  },
  {
   "cell_type": "code",
   "execution_count": null,
   "metadata": {},
   "outputs": [],
   "source": []
  },
  {
   "cell_type": "code",
   "execution_count": null,
   "metadata": {},
   "outputs": [],
   "source": []
  },
  {
   "cell_type": "code",
   "execution_count": null,
   "metadata": {},
   "outputs": [],
   "source": []
  },
  {
   "cell_type": "code",
   "execution_count": null,
   "metadata": {},
   "outputs": [],
   "source": []
  },
  {
   "cell_type": "code",
   "execution_count": null,
   "metadata": {},
   "outputs": [],
   "source": []
  },
  {
   "cell_type": "code",
   "execution_count": 69,
   "metadata": {},
   "outputs": [
    {
     "data": {
      "text/plain": [
       "{'AMT_ANNUITY': None,\n",
       " 'AMT_CREDIT': None,\n",
       " 'AMT_GOODS_PRICE': None,\n",
       " 'AMT_INCOME_TOTAL': None,\n",
       " 'AMT_REQ_CREDIT_BUREAU_DAY': None,\n",
       " 'AMT_REQ_CREDIT_BUREAU_HOUR': None,\n",
       " 'AMT_REQ_CREDIT_BUREAU_MON': None,\n",
       " 'AMT_REQ_CREDIT_BUREAU_QRT': None,\n",
       " 'AMT_REQ_CREDIT_BUREAU_WEEK': None,\n",
       " 'AMT_REQ_CREDIT_BUREAU_YEAR': None,\n",
       " 'APARTMENTS_AVG': None,\n",
       " 'APARTMENTS_MEDI': None,\n",
       " 'APARTMENTS_MODE': None,\n",
       " 'BASEMENTAREA_AVG': None,\n",
       " 'BASEMENTAREA_MEDI': None,\n",
       " 'BASEMENTAREA_MODE': None,\n",
       " 'CNT_CHILDREN': None,\n",
       " 'CNT_FAM_MEMBERS': None,\n",
       " 'CODE_GENDER': None,\n",
       " 'COMMONAREA_AVG': None,\n",
       " 'COMMONAREA_MEDI': None,\n",
       " 'COMMONAREA_MODE': None,\n",
       " 'DAYS_BIRTH': None,\n",
       " 'DAYS_EMPLOYED': None,\n",
       " 'DAYS_ID_PUBLISH': None,\n",
       " 'DAYS_LAST_PHONE_CHANGE': None,\n",
       " 'DAYS_REGISTRATION': None,\n",
       " 'DEF_30_CNT_SOCIAL_CIRCLE': None,\n",
       " 'DEF_60_CNT_SOCIAL_CIRCLE': None,\n",
       " 'ELEVATORS_AVG': None,\n",
       " 'ELEVATORS_MEDI': None,\n",
       " 'ELEVATORS_MODE': None,\n",
       " 'EMERGENCYSTATE_MODE': None,\n",
       " 'ENTRANCES_AVG': None,\n",
       " 'ENTRANCES_MEDI': None,\n",
       " 'ENTRANCES_MODE': None,\n",
       " 'EXT_SOURCE_1': None,\n",
       " 'EXT_SOURCE_2': None,\n",
       " 'EXT_SOURCE_3': None,\n",
       " 'FLAG_CONT_MOBILE': None,\n",
       " 'FLAG_DOCUMENT_10': None,\n",
       " 'FLAG_DOCUMENT_11': None,\n",
       " 'FLAG_DOCUMENT_12': None,\n",
       " 'FLAG_DOCUMENT_13': None,\n",
       " 'FLAG_DOCUMENT_14': None,\n",
       " 'FLAG_DOCUMENT_15': None,\n",
       " 'FLAG_DOCUMENT_16': None,\n",
       " 'FLAG_DOCUMENT_17': None,\n",
       " 'FLAG_DOCUMENT_18': None,\n",
       " 'FLAG_DOCUMENT_19': None,\n",
       " 'FLAG_DOCUMENT_2': None,\n",
       " 'FLAG_DOCUMENT_20': None,\n",
       " 'FLAG_DOCUMENT_21': None,\n",
       " 'FLAG_DOCUMENT_3': None,\n",
       " 'FLAG_DOCUMENT_4': None,\n",
       " 'FLAG_DOCUMENT_5': None,\n",
       " 'FLAG_DOCUMENT_6': None,\n",
       " 'FLAG_DOCUMENT_7': None,\n",
       " 'FLAG_DOCUMENT_8': None,\n",
       " 'FLAG_DOCUMENT_9': None,\n",
       " 'FLAG_EMAIL': None,\n",
       " 'FLAG_EMP_PHONE': None,\n",
       " 'FLAG_MOBIL': None,\n",
       " 'FLAG_OWN_CAR': None,\n",
       " 'FLAG_OWN_REALTY': None,\n",
       " 'FLAG_PHONE': None,\n",
       " 'FLAG_WORK_PHONE': None,\n",
       " 'FLOORSMAX_AVG': None,\n",
       " 'FLOORSMAX_MEDI': None,\n",
       " 'FLOORSMAX_MODE': None,\n",
       " 'FLOORSMIN_AVG': None,\n",
       " 'FLOORSMIN_MEDI': None,\n",
       " 'FLOORSMIN_MODE': None,\n",
       " 'FONDKAPREMONT_MODE': None,\n",
       " 'HOUR_APPR_PROCESS_START': None,\n",
       " 'HOUSETYPE_MODE': None,\n",
       " 'LANDAREA_AVG': None,\n",
       " 'LANDAREA_MEDI': None,\n",
       " 'LANDAREA_MODE': None,\n",
       " 'LIVE_CITY_NOT_WORK_CITY': None,\n",
       " 'LIVE_REGION_NOT_WORK_REGION': None,\n",
       " 'LIVINGAPARTMENTS_AVG': None,\n",
       " 'LIVINGAPARTMENTS_MEDI': None,\n",
       " 'LIVINGAPARTMENTS_MODE': None,\n",
       " 'LIVINGAREA_AVG': None,\n",
       " 'LIVINGAREA_MEDI': None,\n",
       " 'LIVINGAREA_MODE': None,\n",
       " 'NAME_CONTRACT_TYPE': None,\n",
       " 'NAME_EDUCATION_TYPE': None,\n",
       " 'NAME_FAMILY_STATUS': None,\n",
       " 'NAME_HOUSING_TYPE': None,\n",
       " 'NAME_INCOME_TYPE': None,\n",
       " 'NAME_TYPE_SUITE': None,\n",
       " 'NONLIVINGAPARTMENTS_AVG': None,\n",
       " 'NONLIVINGAPARTMENTS_MEDI': None,\n",
       " 'NONLIVINGAPARTMENTS_MODE': None,\n",
       " 'NONLIVINGAREA_AVG': None,\n",
       " 'NONLIVINGAREA_MEDI': None,\n",
       " 'NONLIVINGAREA_MODE': None,\n",
       " 'OBS_30_CNT_SOCIAL_CIRCLE': None,\n",
       " 'OBS_60_CNT_SOCIAL_CIRCLE': None,\n",
       " 'OCCUPATION_TYPE': None,\n",
       " 'ORGANIZATION_TYPE': None,\n",
       " 'OWN_CAR_AGE': None,\n",
       " 'REGION_POPULATION_RELATIVE': None,\n",
       " 'REGION_RATING_CLIENT': None,\n",
       " 'REGION_RATING_CLIENT_W_CITY': None,\n",
       " 'REG_CITY_NOT_LIVE_CITY': None,\n",
       " 'REG_CITY_NOT_WORK_CITY': None,\n",
       " 'REG_REGION_NOT_LIVE_REGION': None,\n",
       " 'REG_REGION_NOT_WORK_REGION': None,\n",
       " 'SK_ID_CURR': None,\n",
       " 'TARGET': None,\n",
       " 'TOTALAREA_MODE': None,\n",
       " 'WALLSMATERIAL_MODE': None,\n",
       " 'WEEKDAY_APPR_PROCESS_START': None,\n",
       " 'YEARS_BEGINEXPLUATATION_AVG': None,\n",
       " 'YEARS_BEGINEXPLUATATION_MEDI': None,\n",
       " 'YEARS_BEGINEXPLUATATION_MODE': None,\n",
       " 'YEARS_BUILD_AVG': None,\n",
       " 'YEARS_BUILD_MEDI': None,\n",
       " 'YEARS_BUILD_MODE': None}"
      ]
     },
     "execution_count": 69,
     "metadata": {},
     "output_type": "execute_result"
    }
   ],
   "source": [
    "dict((column_name,None) for column_name in application_train_column_names)"
   ]
  },
  {
   "cell_type": "code",
   "execution_count": null,
   "metadata": {},
   "outputs": [],
   "source": []
  },
  {
   "cell_type": "code",
   "execution_count": 70,
   "metadata": {},
   "outputs": [
    {
     "data": {
      "text/plain": [
       "{'AMT_ANNUITY': 307511,\n",
       " 'AMT_CREDIT': 307511,\n",
       " 'AMT_GOODS_PRICE': 307511,\n",
       " 'AMT_INCOME_TOTAL': 307511,\n",
       " 'AMT_REQ_CREDIT_BUREAU_DAY': 307511,\n",
       " 'AMT_REQ_CREDIT_BUREAU_HOUR': 307511,\n",
       " 'AMT_REQ_CREDIT_BUREAU_MON': 307511,\n",
       " 'AMT_REQ_CREDIT_BUREAU_QRT': 307511,\n",
       " 'AMT_REQ_CREDIT_BUREAU_WEEK': 307511,\n",
       " 'AMT_REQ_CREDIT_BUREAU_YEAR': 307511,\n",
       " 'APARTMENTS_AVG': 307511,\n",
       " 'APARTMENTS_MEDI': 307511,\n",
       " 'APARTMENTS_MODE': 307511,\n",
       " 'BASEMENTAREA_AVG': 307511,\n",
       " 'BASEMENTAREA_MEDI': 307511,\n",
       " 'BASEMENTAREA_MODE': 307511,\n",
       " 'CNT_CHILDREN': 307511,\n",
       " 'CNT_FAM_MEMBERS': 307511,\n",
       " 'CODE_GENDER': 307511,\n",
       " 'COMMONAREA_AVG': 307511,\n",
       " 'COMMONAREA_MEDI': 307511,\n",
       " 'COMMONAREA_MODE': 307511,\n",
       " 'DAYS_BIRTH': 307511,\n",
       " 'DAYS_EMPLOYED': 307511,\n",
       " 'DAYS_ID_PUBLISH': 307511,\n",
       " 'DAYS_LAST_PHONE_CHANGE': 307511,\n",
       " 'DAYS_REGISTRATION': 307511,\n",
       " 'DEF_30_CNT_SOCIAL_CIRCLE': 307511,\n",
       " 'DEF_60_CNT_SOCIAL_CIRCLE': 307511,\n",
       " 'ELEVATORS_AVG': 307511,\n",
       " 'ELEVATORS_MEDI': 307511,\n",
       " 'ELEVATORS_MODE': 307511,\n",
       " 'EMERGENCYSTATE_MODE': 307511,\n",
       " 'ENTRANCES_AVG': 307511,\n",
       " 'ENTRANCES_MEDI': 307511,\n",
       " 'ENTRANCES_MODE': 307511,\n",
       " 'EXT_SOURCE_1': 307511,\n",
       " 'EXT_SOURCE_2': 307511,\n",
       " 'EXT_SOURCE_3': 307511,\n",
       " 'FLAG_CONT_MOBILE': 307511,\n",
       " 'FLAG_DOCUMENT_10': 307511,\n",
       " 'FLAG_DOCUMENT_11': 307511,\n",
       " 'FLAG_DOCUMENT_12': 307511,\n",
       " 'FLAG_DOCUMENT_13': 307511,\n",
       " 'FLAG_DOCUMENT_14': 307511,\n",
       " 'FLAG_DOCUMENT_15': 307511,\n",
       " 'FLAG_DOCUMENT_16': 307511,\n",
       " 'FLAG_DOCUMENT_17': 307511,\n",
       " 'FLAG_DOCUMENT_18': 307511,\n",
       " 'FLAG_DOCUMENT_19': 307511,\n",
       " 'FLAG_DOCUMENT_2': 307511,\n",
       " 'FLAG_DOCUMENT_20': 307511,\n",
       " 'FLAG_DOCUMENT_21': 307511,\n",
       " 'FLAG_DOCUMENT_3': 307511,\n",
       " 'FLAG_DOCUMENT_4': 307511,\n",
       " 'FLAG_DOCUMENT_5': 307511,\n",
       " 'FLAG_DOCUMENT_6': 307511,\n",
       " 'FLAG_DOCUMENT_7': 307511,\n",
       " 'FLAG_DOCUMENT_8': 307511,\n",
       " 'FLAG_DOCUMENT_9': 307511,\n",
       " 'FLAG_EMAIL': 307511,\n",
       " 'FLAG_EMP_PHONE': 307511,\n",
       " 'FLAG_MOBIL': 307511,\n",
       " 'FLAG_OWN_CAR': 307511,\n",
       " 'FLAG_OWN_REALTY': 307511,\n",
       " 'FLAG_PHONE': 307511,\n",
       " 'FLAG_WORK_PHONE': 307511,\n",
       " 'FLOORSMAX_AVG': 307511,\n",
       " 'FLOORSMAX_MEDI': 307511,\n",
       " 'FLOORSMAX_MODE': 307511,\n",
       " 'FLOORSMIN_AVG': 307511,\n",
       " 'FLOORSMIN_MEDI': 307511,\n",
       " 'FLOORSMIN_MODE': 307511,\n",
       " 'FONDKAPREMONT_MODE': 307511,\n",
       " 'HOUR_APPR_PROCESS_START': 307511,\n",
       " 'HOUSETYPE_MODE': 307511,\n",
       " 'LANDAREA_AVG': 307511,\n",
       " 'LANDAREA_MEDI': 307511,\n",
       " 'LANDAREA_MODE': 307511,\n",
       " 'LIVE_CITY_NOT_WORK_CITY': 307511,\n",
       " 'LIVE_REGION_NOT_WORK_REGION': 307511,\n",
       " 'LIVINGAPARTMENTS_AVG': 307511,\n",
       " 'LIVINGAPARTMENTS_MEDI': 307511,\n",
       " 'LIVINGAPARTMENTS_MODE': 307511,\n",
       " 'LIVINGAREA_AVG': 307511,\n",
       " 'LIVINGAREA_MEDI': 307511,\n",
       " 'LIVINGAREA_MODE': 307511,\n",
       " 'NAME_CONTRACT_TYPE': 307511,\n",
       " 'NAME_EDUCATION_TYPE': 307511,\n",
       " 'NAME_FAMILY_STATUS': 307511,\n",
       " 'NAME_HOUSING_TYPE': 307511,\n",
       " 'NAME_INCOME_TYPE': 307511,\n",
       " 'NAME_TYPE_SUITE': 307511,\n",
       " 'NONLIVINGAPARTMENTS_AVG': 307511,\n",
       " 'NONLIVINGAPARTMENTS_MEDI': 307511,\n",
       " 'NONLIVINGAPARTMENTS_MODE': 307511,\n",
       " 'NONLIVINGAREA_AVG': 307511,\n",
       " 'NONLIVINGAREA_MEDI': 307511,\n",
       " 'NONLIVINGAREA_MODE': 307511,\n",
       " 'OBS_30_CNT_SOCIAL_CIRCLE': 307511,\n",
       " 'OBS_60_CNT_SOCIAL_CIRCLE': 307511,\n",
       " 'OCCUPATION_TYPE': 307511,\n",
       " 'ORGANIZATION_TYPE': 307511,\n",
       " 'OWN_CAR_AGE': 307511,\n",
       " 'REGION_POPULATION_RELATIVE': 307511,\n",
       " 'REGION_RATING_CLIENT': 307511,\n",
       " 'REGION_RATING_CLIENT_W_CITY': 307511,\n",
       " 'REG_CITY_NOT_LIVE_CITY': 307511,\n",
       " 'REG_CITY_NOT_WORK_CITY': 307511,\n",
       " 'REG_REGION_NOT_LIVE_REGION': 307511,\n",
       " 'REG_REGION_NOT_WORK_REGION': 307511,\n",
       " 'SK_ID_CURR': 307511,\n",
       " 'TARGET': 307511,\n",
       " 'TOTALAREA_MODE': 307511,\n",
       " 'WALLSMATERIAL_MODE': 307511,\n",
       " 'WEEKDAY_APPR_PROCESS_START': 307511,\n",
       " 'YEARS_BEGINEXPLUATATION_AVG': 307511,\n",
       " 'YEARS_BEGINEXPLUATATION_MEDI': 307511,\n",
       " 'YEARS_BEGINEXPLUATATION_MODE': 307511,\n",
       " 'YEARS_BUILD_AVG': 307511,\n",
       " 'YEARS_BUILD_MEDI': 307511,\n",
       " 'YEARS_BUILD_MODE': 307511}"
      ]
     },
     "execution_count": 70,
     "metadata": {},
     "output_type": "execute_result"
    }
   ],
   "source": [
    "dict((column_name,application_train__row_count) for column_name in application_train_column_names)"
   ]
  },
  {
   "cell_type": "code",
   "execution_count": 72,
   "metadata": {},
   "outputs": [],
   "source": [
    "# https://stackoverflow.com/questions/3869487/how-do-i-create-a-dictionary-with-keys-from-a-list-and-values-defaulting-to-say\n",
    "# Generator expressions avoid the memory overhead of populating the whole list.\n",
    "# https://stackoverflow.com/questions/2241891/how-to-initialize-a-dict-with-keys-from-a-list-and-empty-value-in-python\n",
    "# dict.fromkeys(keys_list)\n",
    "# Be careful with initializing to something mutable: If you call, e.g., dict.fromkeys([1, 2, 3], []), all of the keys are mapped to the same list, and modifying one will modify them all.\n",
    "# \n",
    "# dict-comprehension solution\n",
    "# keys = [1,2,3,5,6,7]\n",
    "# {key: None for key in keys}\n",
    "#> {1: None, 2: None, 3: None, 5: None, 6: None, 7: None}\n",
    "# \n",
    "# Using a dict-comp also allows the value to be the result of calling a function\n",
    "#   (which could be passed the key as an argument, if desired)"
   ]
  },
  {
   "cell_type": "code",
   "execution_count": 78,
   "metadata": {},
   "outputs": [],
   "source": [
    "columns_row_count = {column_name:application_train__row_count for column_name in application_train_column_names}"
   ]
  },
  {
   "cell_type": "code",
   "execution_count": 79,
   "metadata": {},
   "outputs": [
    {
     "data": {
      "text/plain": [
       "{'AMT_ANNUITY': 307511,\n",
       " 'AMT_CREDIT': 307511,\n",
       " 'AMT_GOODS_PRICE': 307511,\n",
       " 'AMT_INCOME_TOTAL': 307511,\n",
       " 'AMT_REQ_CREDIT_BUREAU_DAY': 307511,\n",
       " 'AMT_REQ_CREDIT_BUREAU_HOUR': 307511,\n",
       " 'AMT_REQ_CREDIT_BUREAU_MON': 307511,\n",
       " 'AMT_REQ_CREDIT_BUREAU_QRT': 307511,\n",
       " 'AMT_REQ_CREDIT_BUREAU_WEEK': 307511,\n",
       " 'AMT_REQ_CREDIT_BUREAU_YEAR': 307511,\n",
       " 'APARTMENTS_AVG': 307511,\n",
       " 'APARTMENTS_MEDI': 307511,\n",
       " 'APARTMENTS_MODE': 307511,\n",
       " 'BASEMENTAREA_AVG': 307511,\n",
       " 'BASEMENTAREA_MEDI': 307511,\n",
       " 'BASEMENTAREA_MODE': 307511,\n",
       " 'CNT_CHILDREN': 307511,\n",
       " 'CNT_FAM_MEMBERS': 307511,\n",
       " 'CODE_GENDER': 307511,\n",
       " 'COMMONAREA_AVG': 307511,\n",
       " 'COMMONAREA_MEDI': 307511,\n",
       " 'COMMONAREA_MODE': 307511,\n",
       " 'DAYS_BIRTH': 307511,\n",
       " 'DAYS_EMPLOYED': 307511,\n",
       " 'DAYS_ID_PUBLISH': 307511,\n",
       " 'DAYS_LAST_PHONE_CHANGE': 307511,\n",
       " 'DAYS_REGISTRATION': 307511,\n",
       " 'DEF_30_CNT_SOCIAL_CIRCLE': 307511,\n",
       " 'DEF_60_CNT_SOCIAL_CIRCLE': 307511,\n",
       " 'ELEVATORS_AVG': 307511,\n",
       " 'ELEVATORS_MEDI': 307511,\n",
       " 'ELEVATORS_MODE': 307511,\n",
       " 'EMERGENCYSTATE_MODE': 307511,\n",
       " 'ENTRANCES_AVG': 307511,\n",
       " 'ENTRANCES_MEDI': 307511,\n",
       " 'ENTRANCES_MODE': 307511,\n",
       " 'EXT_SOURCE_1': 307511,\n",
       " 'EXT_SOURCE_2': 307511,\n",
       " 'EXT_SOURCE_3': 307511,\n",
       " 'FLAG_CONT_MOBILE': 307511,\n",
       " 'FLAG_DOCUMENT_10': 307511,\n",
       " 'FLAG_DOCUMENT_11': 307511,\n",
       " 'FLAG_DOCUMENT_12': 307511,\n",
       " 'FLAG_DOCUMENT_13': 307511,\n",
       " 'FLAG_DOCUMENT_14': 307511,\n",
       " 'FLAG_DOCUMENT_15': 307511,\n",
       " 'FLAG_DOCUMENT_16': 307511,\n",
       " 'FLAG_DOCUMENT_17': 307511,\n",
       " 'FLAG_DOCUMENT_18': 307511,\n",
       " 'FLAG_DOCUMENT_19': 307511,\n",
       " 'FLAG_DOCUMENT_2': 307511,\n",
       " 'FLAG_DOCUMENT_20': 307511,\n",
       " 'FLAG_DOCUMENT_21': 307511,\n",
       " 'FLAG_DOCUMENT_3': 307511,\n",
       " 'FLAG_DOCUMENT_4': 307511,\n",
       " 'FLAG_DOCUMENT_5': 307511,\n",
       " 'FLAG_DOCUMENT_6': 307511,\n",
       " 'FLAG_DOCUMENT_7': 307511,\n",
       " 'FLAG_DOCUMENT_8': 307511,\n",
       " 'FLAG_DOCUMENT_9': 307511,\n",
       " 'FLAG_EMAIL': 307511,\n",
       " 'FLAG_EMP_PHONE': 307511,\n",
       " 'FLAG_MOBIL': 307511,\n",
       " 'FLAG_OWN_CAR': 307511,\n",
       " 'FLAG_OWN_REALTY': 307511,\n",
       " 'FLAG_PHONE': 307511,\n",
       " 'FLAG_WORK_PHONE': 307511,\n",
       " 'FLOORSMAX_AVG': 307511,\n",
       " 'FLOORSMAX_MEDI': 307511,\n",
       " 'FLOORSMAX_MODE': 307511,\n",
       " 'FLOORSMIN_AVG': 307511,\n",
       " 'FLOORSMIN_MEDI': 307511,\n",
       " 'FLOORSMIN_MODE': 307511,\n",
       " 'FONDKAPREMONT_MODE': 307511,\n",
       " 'HOUR_APPR_PROCESS_START': 307511,\n",
       " 'HOUSETYPE_MODE': 307511,\n",
       " 'LANDAREA_AVG': 307511,\n",
       " 'LANDAREA_MEDI': 307511,\n",
       " 'LANDAREA_MODE': 307511,\n",
       " 'LIVE_CITY_NOT_WORK_CITY': 307511,\n",
       " 'LIVE_REGION_NOT_WORK_REGION': 307511,\n",
       " 'LIVINGAPARTMENTS_AVG': 307511,\n",
       " 'LIVINGAPARTMENTS_MEDI': 307511,\n",
       " 'LIVINGAPARTMENTS_MODE': 307511,\n",
       " 'LIVINGAREA_AVG': 307511,\n",
       " 'LIVINGAREA_MEDI': 307511,\n",
       " 'LIVINGAREA_MODE': 307511,\n",
       " 'NAME_CONTRACT_TYPE': 307511,\n",
       " 'NAME_EDUCATION_TYPE': 307511,\n",
       " 'NAME_FAMILY_STATUS': 307511,\n",
       " 'NAME_HOUSING_TYPE': 307511,\n",
       " 'NAME_INCOME_TYPE': 307511,\n",
       " 'NAME_TYPE_SUITE': 307511,\n",
       " 'NONLIVINGAPARTMENTS_AVG': 307511,\n",
       " 'NONLIVINGAPARTMENTS_MEDI': 307511,\n",
       " 'NONLIVINGAPARTMENTS_MODE': 307511,\n",
       " 'NONLIVINGAREA_AVG': 307511,\n",
       " 'NONLIVINGAREA_MEDI': 307511,\n",
       " 'NONLIVINGAREA_MODE': 307511,\n",
       " 'OBS_30_CNT_SOCIAL_CIRCLE': 307511,\n",
       " 'OBS_60_CNT_SOCIAL_CIRCLE': 307511,\n",
       " 'OCCUPATION_TYPE': 307511,\n",
       " 'ORGANIZATION_TYPE': 307511,\n",
       " 'OWN_CAR_AGE': 307511,\n",
       " 'REGION_POPULATION_RELATIVE': 307511,\n",
       " 'REGION_RATING_CLIENT': 307511,\n",
       " 'REGION_RATING_CLIENT_W_CITY': 307511,\n",
       " 'REG_CITY_NOT_LIVE_CITY': 307511,\n",
       " 'REG_CITY_NOT_WORK_CITY': 307511,\n",
       " 'REG_REGION_NOT_LIVE_REGION': 307511,\n",
       " 'REG_REGION_NOT_WORK_REGION': 307511,\n",
       " 'SK_ID_CURR': 307511,\n",
       " 'TARGET': 307511,\n",
       " 'TOTALAREA_MODE': 307511,\n",
       " 'WALLSMATERIAL_MODE': 307511,\n",
       " 'WEEKDAY_APPR_PROCESS_START': 307511,\n",
       " 'YEARS_BEGINEXPLUATATION_AVG': 307511,\n",
       " 'YEARS_BEGINEXPLUATATION_MEDI': 307511,\n",
       " 'YEARS_BEGINEXPLUATATION_MODE': 307511,\n",
       " 'YEARS_BUILD_AVG': 307511,\n",
       " 'YEARS_BUILD_MEDI': 307511,\n",
       " 'YEARS_BUILD_MODE': 307511}"
      ]
     },
     "execution_count": 79,
     "metadata": {},
     "output_type": "execute_result"
    }
   ],
   "source": [
    "columns_row_count"
   ]
  },
  {
   "cell_type": "code",
   "execution_count": 80,
   "metadata": {},
   "outputs": [],
   "source": [
    "columns_number_of_unique_values = {column_name:None for column_name in application_train_column_names}"
   ]
  },
  {
   "cell_type": "code",
   "execution_count": 81,
   "metadata": {},
   "outputs": [
    {
     "data": {
      "text/plain": [
       "{'AMT_ANNUITY': None,\n",
       " 'AMT_CREDIT': None,\n",
       " 'AMT_GOODS_PRICE': None,\n",
       " 'AMT_INCOME_TOTAL': None,\n",
       " 'AMT_REQ_CREDIT_BUREAU_DAY': None,\n",
       " 'AMT_REQ_CREDIT_BUREAU_HOUR': None,\n",
       " 'AMT_REQ_CREDIT_BUREAU_MON': None,\n",
       " 'AMT_REQ_CREDIT_BUREAU_QRT': None,\n",
       " 'AMT_REQ_CREDIT_BUREAU_WEEK': None,\n",
       " 'AMT_REQ_CREDIT_BUREAU_YEAR': None,\n",
       " 'APARTMENTS_AVG': None,\n",
       " 'APARTMENTS_MEDI': None,\n",
       " 'APARTMENTS_MODE': None,\n",
       " 'BASEMENTAREA_AVG': None,\n",
       " 'BASEMENTAREA_MEDI': None,\n",
       " 'BASEMENTAREA_MODE': None,\n",
       " 'CNT_CHILDREN': None,\n",
       " 'CNT_FAM_MEMBERS': None,\n",
       " 'CODE_GENDER': None,\n",
       " 'COMMONAREA_AVG': None,\n",
       " 'COMMONAREA_MEDI': None,\n",
       " 'COMMONAREA_MODE': None,\n",
       " 'DAYS_BIRTH': None,\n",
       " 'DAYS_EMPLOYED': None,\n",
       " 'DAYS_ID_PUBLISH': None,\n",
       " 'DAYS_LAST_PHONE_CHANGE': None,\n",
       " 'DAYS_REGISTRATION': None,\n",
       " 'DEF_30_CNT_SOCIAL_CIRCLE': None,\n",
       " 'DEF_60_CNT_SOCIAL_CIRCLE': None,\n",
       " 'ELEVATORS_AVG': None,\n",
       " 'ELEVATORS_MEDI': None,\n",
       " 'ELEVATORS_MODE': None,\n",
       " 'EMERGENCYSTATE_MODE': None,\n",
       " 'ENTRANCES_AVG': None,\n",
       " 'ENTRANCES_MEDI': None,\n",
       " 'ENTRANCES_MODE': None,\n",
       " 'EXT_SOURCE_1': None,\n",
       " 'EXT_SOURCE_2': None,\n",
       " 'EXT_SOURCE_3': None,\n",
       " 'FLAG_CONT_MOBILE': None,\n",
       " 'FLAG_DOCUMENT_10': None,\n",
       " 'FLAG_DOCUMENT_11': None,\n",
       " 'FLAG_DOCUMENT_12': None,\n",
       " 'FLAG_DOCUMENT_13': None,\n",
       " 'FLAG_DOCUMENT_14': None,\n",
       " 'FLAG_DOCUMENT_15': None,\n",
       " 'FLAG_DOCUMENT_16': None,\n",
       " 'FLAG_DOCUMENT_17': None,\n",
       " 'FLAG_DOCUMENT_18': None,\n",
       " 'FLAG_DOCUMENT_19': None,\n",
       " 'FLAG_DOCUMENT_2': None,\n",
       " 'FLAG_DOCUMENT_20': None,\n",
       " 'FLAG_DOCUMENT_21': None,\n",
       " 'FLAG_DOCUMENT_3': None,\n",
       " 'FLAG_DOCUMENT_4': None,\n",
       " 'FLAG_DOCUMENT_5': None,\n",
       " 'FLAG_DOCUMENT_6': None,\n",
       " 'FLAG_DOCUMENT_7': None,\n",
       " 'FLAG_DOCUMENT_8': None,\n",
       " 'FLAG_DOCUMENT_9': None,\n",
       " 'FLAG_EMAIL': None,\n",
       " 'FLAG_EMP_PHONE': None,\n",
       " 'FLAG_MOBIL': None,\n",
       " 'FLAG_OWN_CAR': None,\n",
       " 'FLAG_OWN_REALTY': None,\n",
       " 'FLAG_PHONE': None,\n",
       " 'FLAG_WORK_PHONE': None,\n",
       " 'FLOORSMAX_AVG': None,\n",
       " 'FLOORSMAX_MEDI': None,\n",
       " 'FLOORSMAX_MODE': None,\n",
       " 'FLOORSMIN_AVG': None,\n",
       " 'FLOORSMIN_MEDI': None,\n",
       " 'FLOORSMIN_MODE': None,\n",
       " 'FONDKAPREMONT_MODE': None,\n",
       " 'HOUR_APPR_PROCESS_START': None,\n",
       " 'HOUSETYPE_MODE': None,\n",
       " 'LANDAREA_AVG': None,\n",
       " 'LANDAREA_MEDI': None,\n",
       " 'LANDAREA_MODE': None,\n",
       " 'LIVE_CITY_NOT_WORK_CITY': None,\n",
       " 'LIVE_REGION_NOT_WORK_REGION': None,\n",
       " 'LIVINGAPARTMENTS_AVG': None,\n",
       " 'LIVINGAPARTMENTS_MEDI': None,\n",
       " 'LIVINGAPARTMENTS_MODE': None,\n",
       " 'LIVINGAREA_AVG': None,\n",
       " 'LIVINGAREA_MEDI': None,\n",
       " 'LIVINGAREA_MODE': None,\n",
       " 'NAME_CONTRACT_TYPE': None,\n",
       " 'NAME_EDUCATION_TYPE': None,\n",
       " 'NAME_FAMILY_STATUS': None,\n",
       " 'NAME_HOUSING_TYPE': None,\n",
       " 'NAME_INCOME_TYPE': None,\n",
       " 'NAME_TYPE_SUITE': None,\n",
       " 'NONLIVINGAPARTMENTS_AVG': None,\n",
       " 'NONLIVINGAPARTMENTS_MEDI': None,\n",
       " 'NONLIVINGAPARTMENTS_MODE': None,\n",
       " 'NONLIVINGAREA_AVG': None,\n",
       " 'NONLIVINGAREA_MEDI': None,\n",
       " 'NONLIVINGAREA_MODE': None,\n",
       " 'OBS_30_CNT_SOCIAL_CIRCLE': None,\n",
       " 'OBS_60_CNT_SOCIAL_CIRCLE': None,\n",
       " 'OCCUPATION_TYPE': None,\n",
       " 'ORGANIZATION_TYPE': None,\n",
       " 'OWN_CAR_AGE': None,\n",
       " 'REGION_POPULATION_RELATIVE': None,\n",
       " 'REGION_RATING_CLIENT': None,\n",
       " 'REGION_RATING_CLIENT_W_CITY': None,\n",
       " 'REG_CITY_NOT_LIVE_CITY': None,\n",
       " 'REG_CITY_NOT_WORK_CITY': None,\n",
       " 'REG_REGION_NOT_LIVE_REGION': None,\n",
       " 'REG_REGION_NOT_WORK_REGION': None,\n",
       " 'SK_ID_CURR': None,\n",
       " 'TARGET': None,\n",
       " 'TOTALAREA_MODE': None,\n",
       " 'WALLSMATERIAL_MODE': None,\n",
       " 'WEEKDAY_APPR_PROCESS_START': None,\n",
       " 'YEARS_BEGINEXPLUATATION_AVG': None,\n",
       " 'YEARS_BEGINEXPLUATATION_MEDI': None,\n",
       " 'YEARS_BEGINEXPLUATATION_MODE': None,\n",
       " 'YEARS_BUILD_AVG': None,\n",
       " 'YEARS_BUILD_MEDI': None,\n",
       " 'YEARS_BUILD_MODE': None}"
      ]
     },
     "execution_count": 81,
     "metadata": {},
     "output_type": "execute_result"
    }
   ],
   "source": [
    "columns_number_of_unique_values"
   ]
  },
  {
   "cell_type": "code",
   "execution_count": 82,
   "metadata": {},
   "outputs": [],
   "source": [
    "for column_name in columns_number_of_unique_values:\n",
    "    columns_number_of_unique_values[column_name] = application_train[column_name].nunique()"
   ]
  },
  {
   "cell_type": "code",
   "execution_count": 83,
   "metadata": {},
   "outputs": [
    {
     "data": {
      "text/plain": [
       "{'AMT_ANNUITY': 13672,\n",
       " 'AMT_CREDIT': 5603,\n",
       " 'AMT_GOODS_PRICE': 1002,\n",
       " 'AMT_INCOME_TOTAL': 2548,\n",
       " 'AMT_REQ_CREDIT_BUREAU_DAY': 9,\n",
       " 'AMT_REQ_CREDIT_BUREAU_HOUR': 5,\n",
       " 'AMT_REQ_CREDIT_BUREAU_MON': 24,\n",
       " 'AMT_REQ_CREDIT_BUREAU_QRT': 11,\n",
       " 'AMT_REQ_CREDIT_BUREAU_WEEK': 9,\n",
       " 'AMT_REQ_CREDIT_BUREAU_YEAR': 25,\n",
       " 'APARTMENTS_AVG': 2339,\n",
       " 'APARTMENTS_MEDI': 1148,\n",
       " 'APARTMENTS_MODE': 760,\n",
       " 'BASEMENTAREA_AVG': 3780,\n",
       " 'BASEMENTAREA_MEDI': 3772,\n",
       " 'BASEMENTAREA_MODE': 3841,\n",
       " 'CNT_CHILDREN': 15,\n",
       " 'CNT_FAM_MEMBERS': 17,\n",
       " 'CODE_GENDER': 3,\n",
       " 'COMMONAREA_AVG': 3181,\n",
       " 'COMMONAREA_MEDI': 3202,\n",
       " 'COMMONAREA_MODE': 3128,\n",
       " 'DAYS_BIRTH': 17460,\n",
       " 'DAYS_EMPLOYED': 12574,\n",
       " 'DAYS_ID_PUBLISH': 6168,\n",
       " 'DAYS_LAST_PHONE_CHANGE': 3773,\n",
       " 'DAYS_REGISTRATION': 15688,\n",
       " 'DEF_30_CNT_SOCIAL_CIRCLE': 10,\n",
       " 'DEF_60_CNT_SOCIAL_CIRCLE': 9,\n",
       " 'ELEVATORS_AVG': 257,\n",
       " 'ELEVATORS_MEDI': 46,\n",
       " 'ELEVATORS_MODE': 26,\n",
       " 'EMERGENCYSTATE_MODE': 2,\n",
       " 'ENTRANCES_AVG': 285,\n",
       " 'ENTRANCES_MEDI': 46,\n",
       " 'ENTRANCES_MODE': 30,\n",
       " 'EXT_SOURCE_1': 114584,\n",
       " 'EXT_SOURCE_2': 119831,\n",
       " 'EXT_SOURCE_3': 814,\n",
       " 'FLAG_CONT_MOBILE': 2,\n",
       " 'FLAG_DOCUMENT_10': 2,\n",
       " 'FLAG_DOCUMENT_11': 2,\n",
       " 'FLAG_DOCUMENT_12': 2,\n",
       " 'FLAG_DOCUMENT_13': 2,\n",
       " 'FLAG_DOCUMENT_14': 2,\n",
       " 'FLAG_DOCUMENT_15': 2,\n",
       " 'FLAG_DOCUMENT_16': 2,\n",
       " 'FLAG_DOCUMENT_17': 2,\n",
       " 'FLAG_DOCUMENT_18': 2,\n",
       " 'FLAG_DOCUMENT_19': 2,\n",
       " 'FLAG_DOCUMENT_2': 2,\n",
       " 'FLAG_DOCUMENT_20': 2,\n",
       " 'FLAG_DOCUMENT_21': 2,\n",
       " 'FLAG_DOCUMENT_3': 2,\n",
       " 'FLAG_DOCUMENT_4': 2,\n",
       " 'FLAG_DOCUMENT_5': 2,\n",
       " 'FLAG_DOCUMENT_6': 2,\n",
       " 'FLAG_DOCUMENT_7': 2,\n",
       " 'FLAG_DOCUMENT_8': 2,\n",
       " 'FLAG_DOCUMENT_9': 2,\n",
       " 'FLAG_EMAIL': 2,\n",
       " 'FLAG_EMP_PHONE': 2,\n",
       " 'FLAG_MOBIL': 2,\n",
       " 'FLAG_OWN_CAR': 2,\n",
       " 'FLAG_OWN_REALTY': 2,\n",
       " 'FLAG_PHONE': 2,\n",
       " 'FLAG_WORK_PHONE': 2,\n",
       " 'FLOORSMAX_AVG': 403,\n",
       " 'FLOORSMAX_MEDI': 49,\n",
       " 'FLOORSMAX_MODE': 25,\n",
       " 'FLOORSMIN_AVG': 305,\n",
       " 'FLOORSMIN_MEDI': 47,\n",
       " 'FLOORSMIN_MODE': 25,\n",
       " 'FONDKAPREMONT_MODE': 4,\n",
       " 'HOUR_APPR_PROCESS_START': 24,\n",
       " 'HOUSETYPE_MODE': 3,\n",
       " 'LANDAREA_AVG': 3527,\n",
       " 'LANDAREA_MEDI': 3560,\n",
       " 'LANDAREA_MODE': 3563,\n",
       " 'LIVE_CITY_NOT_WORK_CITY': 2,\n",
       " 'LIVE_REGION_NOT_WORK_REGION': 2,\n",
       " 'LIVINGAPARTMENTS_AVG': 1868,\n",
       " 'LIVINGAPARTMENTS_MEDI': 1097,\n",
       " 'LIVINGAPARTMENTS_MODE': 736,\n",
       " 'LIVINGAREA_AVG': 5199,\n",
       " 'LIVINGAREA_MEDI': 5281,\n",
       " 'LIVINGAREA_MODE': 5301,\n",
       " 'NAME_CONTRACT_TYPE': 2,\n",
       " 'NAME_EDUCATION_TYPE': 5,\n",
       " 'NAME_FAMILY_STATUS': 6,\n",
       " 'NAME_HOUSING_TYPE': 6,\n",
       " 'NAME_INCOME_TYPE': 8,\n",
       " 'NAME_TYPE_SUITE': 7,\n",
       " 'NONLIVINGAPARTMENTS_AVG': 386,\n",
       " 'NONLIVINGAPARTMENTS_MEDI': 214,\n",
       " 'NONLIVINGAPARTMENTS_MODE': 167,\n",
       " 'NONLIVINGAREA_AVG': 3290,\n",
       " 'NONLIVINGAREA_MEDI': 3323,\n",
       " 'NONLIVINGAREA_MODE': 3327,\n",
       " 'OBS_30_CNT_SOCIAL_CIRCLE': 33,\n",
       " 'OBS_60_CNT_SOCIAL_CIRCLE': 33,\n",
       " 'OCCUPATION_TYPE': 18,\n",
       " 'ORGANIZATION_TYPE': 58,\n",
       " 'OWN_CAR_AGE': 62,\n",
       " 'REGION_POPULATION_RELATIVE': 81,\n",
       " 'REGION_RATING_CLIENT': 3,\n",
       " 'REGION_RATING_CLIENT_W_CITY': 3,\n",
       " 'REG_CITY_NOT_LIVE_CITY': 2,\n",
       " 'REG_CITY_NOT_WORK_CITY': 2,\n",
       " 'REG_REGION_NOT_LIVE_REGION': 2,\n",
       " 'REG_REGION_NOT_WORK_REGION': 2,\n",
       " 'SK_ID_CURR': 307511,\n",
       " 'TARGET': 2,\n",
       " 'TOTALAREA_MODE': 5116,\n",
       " 'WALLSMATERIAL_MODE': 7,\n",
       " 'WEEKDAY_APPR_PROCESS_START': 7,\n",
       " 'YEARS_BEGINEXPLUATATION_AVG': 285,\n",
       " 'YEARS_BEGINEXPLUATATION_MEDI': 245,\n",
       " 'YEARS_BEGINEXPLUATATION_MODE': 221,\n",
       " 'YEARS_BUILD_AVG': 149,\n",
       " 'YEARS_BUILD_MEDI': 151,\n",
       " 'YEARS_BUILD_MODE': 154}"
      ]
     },
     "execution_count": 83,
     "metadata": {},
     "output_type": "execute_result"
    }
   ],
   "source": [
    "columns_number_of_unique_values"
   ]
  },
  {
   "cell_type": "code",
   "execution_count": 84,
   "metadata": {},
   "outputs": [],
   "source": [
    "columns_cardinality = {column_name:None for column_name in application_train_column_names}"
   ]
  },
  {
   "cell_type": "code",
   "execution_count": 85,
   "metadata": {},
   "outputs": [
    {
     "data": {
      "text/plain": [
       "{'AMT_ANNUITY': None,\n",
       " 'AMT_CREDIT': None,\n",
       " 'AMT_GOODS_PRICE': None,\n",
       " 'AMT_INCOME_TOTAL': None,\n",
       " 'AMT_REQ_CREDIT_BUREAU_DAY': None,\n",
       " 'AMT_REQ_CREDIT_BUREAU_HOUR': None,\n",
       " 'AMT_REQ_CREDIT_BUREAU_MON': None,\n",
       " 'AMT_REQ_CREDIT_BUREAU_QRT': None,\n",
       " 'AMT_REQ_CREDIT_BUREAU_WEEK': None,\n",
       " 'AMT_REQ_CREDIT_BUREAU_YEAR': None,\n",
       " 'APARTMENTS_AVG': None,\n",
       " 'APARTMENTS_MEDI': None,\n",
       " 'APARTMENTS_MODE': None,\n",
       " 'BASEMENTAREA_AVG': None,\n",
       " 'BASEMENTAREA_MEDI': None,\n",
       " 'BASEMENTAREA_MODE': None,\n",
       " 'CNT_CHILDREN': None,\n",
       " 'CNT_FAM_MEMBERS': None,\n",
       " 'CODE_GENDER': None,\n",
       " 'COMMONAREA_AVG': None,\n",
       " 'COMMONAREA_MEDI': None,\n",
       " 'COMMONAREA_MODE': None,\n",
       " 'DAYS_BIRTH': None,\n",
       " 'DAYS_EMPLOYED': None,\n",
       " 'DAYS_ID_PUBLISH': None,\n",
       " 'DAYS_LAST_PHONE_CHANGE': None,\n",
       " 'DAYS_REGISTRATION': None,\n",
       " 'DEF_30_CNT_SOCIAL_CIRCLE': None,\n",
       " 'DEF_60_CNT_SOCIAL_CIRCLE': None,\n",
       " 'ELEVATORS_AVG': None,\n",
       " 'ELEVATORS_MEDI': None,\n",
       " 'ELEVATORS_MODE': None,\n",
       " 'EMERGENCYSTATE_MODE': None,\n",
       " 'ENTRANCES_AVG': None,\n",
       " 'ENTRANCES_MEDI': None,\n",
       " 'ENTRANCES_MODE': None,\n",
       " 'EXT_SOURCE_1': None,\n",
       " 'EXT_SOURCE_2': None,\n",
       " 'EXT_SOURCE_3': None,\n",
       " 'FLAG_CONT_MOBILE': None,\n",
       " 'FLAG_DOCUMENT_10': None,\n",
       " 'FLAG_DOCUMENT_11': None,\n",
       " 'FLAG_DOCUMENT_12': None,\n",
       " 'FLAG_DOCUMENT_13': None,\n",
       " 'FLAG_DOCUMENT_14': None,\n",
       " 'FLAG_DOCUMENT_15': None,\n",
       " 'FLAG_DOCUMENT_16': None,\n",
       " 'FLAG_DOCUMENT_17': None,\n",
       " 'FLAG_DOCUMENT_18': None,\n",
       " 'FLAG_DOCUMENT_19': None,\n",
       " 'FLAG_DOCUMENT_2': None,\n",
       " 'FLAG_DOCUMENT_20': None,\n",
       " 'FLAG_DOCUMENT_21': None,\n",
       " 'FLAG_DOCUMENT_3': None,\n",
       " 'FLAG_DOCUMENT_4': None,\n",
       " 'FLAG_DOCUMENT_5': None,\n",
       " 'FLAG_DOCUMENT_6': None,\n",
       " 'FLAG_DOCUMENT_7': None,\n",
       " 'FLAG_DOCUMENT_8': None,\n",
       " 'FLAG_DOCUMENT_9': None,\n",
       " 'FLAG_EMAIL': None,\n",
       " 'FLAG_EMP_PHONE': None,\n",
       " 'FLAG_MOBIL': None,\n",
       " 'FLAG_OWN_CAR': None,\n",
       " 'FLAG_OWN_REALTY': None,\n",
       " 'FLAG_PHONE': None,\n",
       " 'FLAG_WORK_PHONE': None,\n",
       " 'FLOORSMAX_AVG': None,\n",
       " 'FLOORSMAX_MEDI': None,\n",
       " 'FLOORSMAX_MODE': None,\n",
       " 'FLOORSMIN_AVG': None,\n",
       " 'FLOORSMIN_MEDI': None,\n",
       " 'FLOORSMIN_MODE': None,\n",
       " 'FONDKAPREMONT_MODE': None,\n",
       " 'HOUR_APPR_PROCESS_START': None,\n",
       " 'HOUSETYPE_MODE': None,\n",
       " 'LANDAREA_AVG': None,\n",
       " 'LANDAREA_MEDI': None,\n",
       " 'LANDAREA_MODE': None,\n",
       " 'LIVE_CITY_NOT_WORK_CITY': None,\n",
       " 'LIVE_REGION_NOT_WORK_REGION': None,\n",
       " 'LIVINGAPARTMENTS_AVG': None,\n",
       " 'LIVINGAPARTMENTS_MEDI': None,\n",
       " 'LIVINGAPARTMENTS_MODE': None,\n",
       " 'LIVINGAREA_AVG': None,\n",
       " 'LIVINGAREA_MEDI': None,\n",
       " 'LIVINGAREA_MODE': None,\n",
       " 'NAME_CONTRACT_TYPE': None,\n",
       " 'NAME_EDUCATION_TYPE': None,\n",
       " 'NAME_FAMILY_STATUS': None,\n",
       " 'NAME_HOUSING_TYPE': None,\n",
       " 'NAME_INCOME_TYPE': None,\n",
       " 'NAME_TYPE_SUITE': None,\n",
       " 'NONLIVINGAPARTMENTS_AVG': None,\n",
       " 'NONLIVINGAPARTMENTS_MEDI': None,\n",
       " 'NONLIVINGAPARTMENTS_MODE': None,\n",
       " 'NONLIVINGAREA_AVG': None,\n",
       " 'NONLIVINGAREA_MEDI': None,\n",
       " 'NONLIVINGAREA_MODE': None,\n",
       " 'OBS_30_CNT_SOCIAL_CIRCLE': None,\n",
       " 'OBS_60_CNT_SOCIAL_CIRCLE': None,\n",
       " 'OCCUPATION_TYPE': None,\n",
       " 'ORGANIZATION_TYPE': None,\n",
       " 'OWN_CAR_AGE': None,\n",
       " 'REGION_POPULATION_RELATIVE': None,\n",
       " 'REGION_RATING_CLIENT': None,\n",
       " 'REGION_RATING_CLIENT_W_CITY': None,\n",
       " 'REG_CITY_NOT_LIVE_CITY': None,\n",
       " 'REG_CITY_NOT_WORK_CITY': None,\n",
       " 'REG_REGION_NOT_LIVE_REGION': None,\n",
       " 'REG_REGION_NOT_WORK_REGION': None,\n",
       " 'SK_ID_CURR': None,\n",
       " 'TARGET': None,\n",
       " 'TOTALAREA_MODE': None,\n",
       " 'WALLSMATERIAL_MODE': None,\n",
       " 'WEEKDAY_APPR_PROCESS_START': None,\n",
       " 'YEARS_BEGINEXPLUATATION_AVG': None,\n",
       " 'YEARS_BEGINEXPLUATATION_MEDI': None,\n",
       " 'YEARS_BEGINEXPLUATATION_MODE': None,\n",
       " 'YEARS_BUILD_AVG': None,\n",
       " 'YEARS_BUILD_MEDI': None,\n",
       " 'YEARS_BUILD_MODE': None}"
      ]
     },
     "execution_count": 85,
     "metadata": {},
     "output_type": "execute_result"
    }
   ],
   "source": [
    "columns_cardinality"
   ]
  },
  {
   "cell_type": "code",
   "execution_count": 86,
   "metadata": {},
   "outputs": [],
   "source": [
    "for column_name in columns_cardinality:\n",
    "    columns_cardinality[column_name] = columns_number_of_unique_values[column_name]/application_train__row_count"
   ]
  },
  {
   "cell_type": "code",
   "execution_count": 87,
   "metadata": {},
   "outputs": [
    {
     "data": {
      "text/plain": [
       "{'AMT_ANNUITY': 0.04446019817177272,\n",
       " 'AMT_CREDIT': 0.01822048642162394,\n",
       " 'AMT_GOODS_PRICE': 0.0032584200239991414,\n",
       " 'AMT_INCOME_TOTAL': 0.008285882456237337,\n",
       " 'AMT_REQ_CREDIT_BUREAU_DAY': 2.9267245724543187e-05,\n",
       " 'AMT_REQ_CREDIT_BUREAU_HOUR': 1.6259580958079547e-05,\n",
       " 'AMT_REQ_CREDIT_BUREAU_MON': 7.804598859878183e-05,\n",
       " 'AMT_REQ_CREDIT_BUREAU_QRT': 3.577107810777501e-05,\n",
       " 'AMT_REQ_CREDIT_BUREAU_WEEK': 2.9267245724543187e-05,\n",
       " 'AMT_REQ_CREDIT_BUREAU_YEAR': 8.129790479039775e-05,\n",
       " 'APARTMENTS_AVG': 0.007606231972189612,\n",
       " 'APARTMENTS_MEDI': 0.0037331997879750645,\n",
       " 'APARTMENTS_MODE': 0.0024714563056280913,\n",
       " 'BASEMENTAREA_AVG': 0.01229224320430814,\n",
       " 'BASEMENTAREA_MEDI': 0.012266227874775212,\n",
       " 'BASEMENTAREA_MODE': 0.01249061009199671,\n",
       " 'CNT_CHILDREN': 4.8778742874238645e-05,\n",
       " 'CNT_FAM_MEMBERS': 5.528257525747047e-05,\n",
       " 'CODE_GENDER': 9.755748574847729e-06,\n",
       " 'COMMONAREA_AVG': 0.010344345405530208,\n",
       " 'COMMONAREA_MEDI': 0.010412635645554143,\n",
       " 'COMMONAREA_MODE': 0.010171993847374565,\n",
       " 'DAYS_BIRTH': 0.05677845670561378,\n",
       " 'DAYS_EMPLOYED': 0.040889594193378447,\n",
       " 'DAYS_ID_PUBLISH': 0.02005781906988693,\n",
       " 'DAYS_LAST_PHONE_CHANGE': 0.012269479790966827,\n",
       " 'DAYS_REGISTRATION': 0.05101606121407039,\n",
       " 'DEF_30_CNT_SOCIAL_CIRCLE': 3.2519161916159095e-05,\n",
       " 'DEF_60_CNT_SOCIAL_CIRCLE': 2.9267245724543187e-05,\n",
       " 'ELEVATORS_AVG': 0.0008357424612452888,\n",
       " 'ELEVATORS_MEDI': 0.00014958814481433184,\n",
       " 'ELEVATORS_MODE': 8.454982098201365e-05,\n",
       " 'EMERGENCYSTATE_MODE': 6.503832383231819e-06,\n",
       " 'ENTRANCES_AVG': 0.0009267961146105343,\n",
       " 'ENTRANCES_MEDI': 0.00014958814481433184,\n",
       " 'ENTRANCES_MODE': 9.755748574847729e-05,\n",
       " 'EXT_SOURCE_1': 0.3726175649001174,\n",
       " 'EXT_SOURCE_2': 0.3896803691575261,\n",
       " 'EXT_SOURCE_3': 0.0026470597799753506,\n",
       " 'FLAG_CONT_MOBILE': 6.503832383231819e-06,\n",
       " 'FLAG_DOCUMENT_10': 6.503832383231819e-06,\n",
       " 'FLAG_DOCUMENT_11': 6.503832383231819e-06,\n",
       " 'FLAG_DOCUMENT_12': 6.503832383231819e-06,\n",
       " 'FLAG_DOCUMENT_13': 6.503832383231819e-06,\n",
       " 'FLAG_DOCUMENT_14': 6.503832383231819e-06,\n",
       " 'FLAG_DOCUMENT_15': 6.503832383231819e-06,\n",
       " 'FLAG_DOCUMENT_16': 6.503832383231819e-06,\n",
       " 'FLAG_DOCUMENT_17': 6.503832383231819e-06,\n",
       " 'FLAG_DOCUMENT_18': 6.503832383231819e-06,\n",
       " 'FLAG_DOCUMENT_19': 6.503832383231819e-06,\n",
       " 'FLAG_DOCUMENT_2': 6.503832383231819e-06,\n",
       " 'FLAG_DOCUMENT_20': 6.503832383231819e-06,\n",
       " 'FLAG_DOCUMENT_21': 6.503832383231819e-06,\n",
       " 'FLAG_DOCUMENT_3': 6.503832383231819e-06,\n",
       " 'FLAG_DOCUMENT_4': 6.503832383231819e-06,\n",
       " 'FLAG_DOCUMENT_5': 6.503832383231819e-06,\n",
       " 'FLAG_DOCUMENT_6': 6.503832383231819e-06,\n",
       " 'FLAG_DOCUMENT_7': 6.503832383231819e-06,\n",
       " 'FLAG_DOCUMENT_8': 6.503832383231819e-06,\n",
       " 'FLAG_DOCUMENT_9': 6.503832383231819e-06,\n",
       " 'FLAG_EMAIL': 6.503832383231819e-06,\n",
       " 'FLAG_EMP_PHONE': 6.503832383231819e-06,\n",
       " 'FLAG_MOBIL': 6.503832383231819e-06,\n",
       " 'FLAG_OWN_CAR': 6.503832383231819e-06,\n",
       " 'FLAG_OWN_REALTY': 6.503832383231819e-06,\n",
       " 'FLAG_PHONE': 6.503832383231819e-06,\n",
       " 'FLAG_WORK_PHONE': 6.503832383231819e-06,\n",
       " 'FLOORSMAX_AVG': 0.0013105222252212116,\n",
       " 'FLOORSMAX_MEDI': 0.00015934389338917958,\n",
       " 'FLOORSMAX_MODE': 8.129790479039775e-05,\n",
       " 'FLOORSMIN_AVG': 0.0009918344384428524,\n",
       " 'FLOORSMIN_MEDI': 0.00015284006100594775,\n",
       " 'FLOORSMIN_MODE': 8.129790479039775e-05,\n",
       " 'FONDKAPREMONT_MODE': 1.3007664766463638e-05,\n",
       " 'HOUR_APPR_PROCESS_START': 7.804598859878183e-05,\n",
       " 'HOUSETYPE_MODE': 9.755748574847729e-06,\n",
       " 'LANDAREA_AVG': 0.011469508407829314,\n",
       " 'LANDAREA_MEDI': 0.011576821642152638,\n",
       " 'LANDAREA_MODE': 0.011586577390727486,\n",
       " 'LIVE_CITY_NOT_WORK_CITY': 6.503832383231819e-06,\n",
       " 'LIVE_REGION_NOT_WORK_REGION': 6.503832383231819e-06,\n",
       " 'LIVINGAPARTMENTS_AVG': 0.006074579445938519,\n",
       " 'LIVINGAPARTMENTS_MEDI': 0.003567352062202653,\n",
       " 'LIVINGAPARTMENTS_MODE': 0.0023934103170293094,\n",
       " 'LIVINGAREA_AVG': 0.016906712280211116,\n",
       " 'LIVINGAREA_MEDI': 0.01717336940792362,\n",
       " 'LIVINGAREA_MODE': 0.017238407731755938,\n",
       " 'NAME_CONTRACT_TYPE': 6.503832383231819e-06,\n",
       " 'NAME_EDUCATION_TYPE': 1.6259580958079547e-05,\n",
       " 'NAME_FAMILY_STATUS': 1.9511497149695458e-05,\n",
       " 'NAME_HOUSING_TYPE': 1.9511497149695458e-05,\n",
       " 'NAME_INCOME_TYPE': 2.6015329532927276e-05,\n",
       " 'NAME_TYPE_SUITE': 2.276341334131137e-05,\n",
       " 'NONLIVINGAPARTMENTS_AVG': 0.001255239649963741,\n",
       " 'NONLIVINGAPARTMENTS_MEDI': 0.0006959100650058047,\n",
       " 'NONLIVINGAPARTMENTS_MODE': 0.000543070003999857,\n",
       " 'NONLIVINGAREA_AVG': 0.010698804270416343,\n",
       " 'NONLIVINGAREA_MEDI': 0.010806117504739667,\n",
       " 'NONLIVINGAREA_MODE': 0.010819125169506132,\n",
       " 'OBS_30_CNT_SOCIAL_CIRCLE': 0.00010731323432332502,\n",
       " 'OBS_60_CNT_SOCIAL_CIRCLE': 0.00010731323432332502,\n",
       " 'OCCUPATION_TYPE': 5.8534491449086374e-05,\n",
       " 'ORGANIZATION_TYPE': 0.00018861113911372275,\n",
       " 'OWN_CAR_AGE': 0.0002016188038801864,\n",
       " 'REGION_POPULATION_RELATIVE': 0.00026340521152088867,\n",
       " 'REGION_RATING_CLIENT': 9.755748574847729e-06,\n",
       " 'REGION_RATING_CLIENT_W_CITY': 9.755748574847729e-06,\n",
       " 'REG_CITY_NOT_LIVE_CITY': 6.503832383231819e-06,\n",
       " 'REG_CITY_NOT_WORK_CITY': 6.503832383231819e-06,\n",
       " 'REG_REGION_NOT_LIVE_REGION': 6.503832383231819e-06,\n",
       " 'REG_REGION_NOT_WORK_REGION': 6.503832383231819e-06,\n",
       " 'SK_ID_CURR': 1.0,\n",
       " 'TARGET': 6.503832383231819e-06,\n",
       " 'TOTALAREA_MODE': 0.016636803236306993,\n",
       " 'WALLSMATERIAL_MODE': 2.276341334131137e-05,\n",
       " 'WEEKDAY_APPR_PROCESS_START': 2.276341334131137e-05,\n",
       " 'YEARS_BEGINEXPLUATATION_AVG': 0.0009267961146105343,\n",
       " 'YEARS_BEGINEXPLUATATION_MEDI': 0.0007967194669458978,\n",
       " 'YEARS_BEGINEXPLUATATION_MODE': 0.000718673478347116,\n",
       " 'YEARS_BUILD_AVG': 0.00048453551255077057,\n",
       " 'YEARS_BUILD_MEDI': 0.0004910393449340023,\n",
       " 'YEARS_BUILD_MODE': 0.0005007950935088501}"
      ]
     },
     "execution_count": 87,
     "metadata": {},
     "output_type": "execute_result"
    }
   ],
   "source": [
    "columns_cardinality"
   ]
  },
  {
   "cell_type": "code",
   "execution_count": 96,
   "metadata": {},
   "outputs": [
    {
     "name": "stdout",
     "output_type": "stream",
     "text": [
      "TARGET dtype:  int64\n",
      "NAME_CONTRACT_TYPE dtype:  object\n",
      "FLAG_OWN_CAR dtype:  object\n",
      "FLAG_OWN_REALTY dtype:  object\n",
      "FLAG_MOBIL dtype:  int64\n",
      "FLAG_EMP_PHONE dtype:  int64\n",
      "FLAG_WORK_PHONE dtype:  int64\n",
      "FLAG_CONT_MOBILE dtype:  int64\n",
      "FLAG_PHONE dtype:  int64\n",
      "FLAG_EMAIL dtype:  int64\n",
      "REG_REGION_NOT_LIVE_REGION dtype:  int64\n",
      "REG_REGION_NOT_WORK_REGION dtype:  int64\n",
      "LIVE_REGION_NOT_WORK_REGION dtype:  int64\n",
      "REG_CITY_NOT_LIVE_CITY dtype:  int64\n",
      "REG_CITY_NOT_WORK_CITY dtype:  int64\n",
      "LIVE_CITY_NOT_WORK_CITY dtype:  int64\n",
      "EMERGENCYSTATE_MODE dtype:  object\n",
      "FLAG_DOCUMENT_2 dtype:  int64\n",
      "FLAG_DOCUMENT_3 dtype:  int64\n",
      "FLAG_DOCUMENT_4 dtype:  int64\n",
      "FLAG_DOCUMENT_5 dtype:  int64\n",
      "FLAG_DOCUMENT_6 dtype:  int64\n",
      "FLAG_DOCUMENT_7 dtype:  int64\n",
      "FLAG_DOCUMENT_8 dtype:  int64\n",
      "FLAG_DOCUMENT_9 dtype:  int64\n",
      "FLAG_DOCUMENT_10 dtype:  int64\n",
      "FLAG_DOCUMENT_11 dtype:  int64\n",
      "FLAG_DOCUMENT_12 dtype:  int64\n",
      "FLAG_DOCUMENT_13 dtype:  int64\n",
      "FLAG_DOCUMENT_14 dtype:  int64\n",
      "FLAG_DOCUMENT_15 dtype:  int64\n",
      "FLAG_DOCUMENT_16 dtype:  int64\n",
      "FLAG_DOCUMENT_17 dtype:  int64\n",
      "FLAG_DOCUMENT_18 dtype:  int64\n",
      "FLAG_DOCUMENT_19 dtype:  int64\n",
      "FLAG_DOCUMENT_20 dtype:  int64\n",
      "FLAG_DOCUMENT_21 dtype:  int64\n"
     ]
    }
   ],
   "source": [
    "for column_name in columns_number_of_unique_values:\n",
    "    if columns_number_of_unique_values[column_name] == 2:\n",
    "        print (column_name, 'dtype: ', application_train[column_name].dtype)"
   ]
  },
  {
   "cell_type": "code",
   "execution_count": null,
   "metadata": {},
   "outputs": [],
   "source": []
  },
  {
   "cell_type": "code",
   "execution_count": null,
   "metadata": {},
   "outputs": [],
   "source": []
  },
  {
   "cell_type": "code",
   "execution_count": null,
   "metadata": {},
   "outputs": [],
   "source": [
    "\"\"\"\n",
    "# http://pbpython.com/pandas-list-dict.html\n",
    "The “default” manner to create a DataFrame from python is to use a list of dictionaries.\n",
    "In this case each dictionary key is used for the column headings.\n",
    "A default index will be created automatically:\n",
    "sales = [{'account': 'Jones LLC', 'Jan': 150, 'Feb': 200, 'Mar': 140},\n",
    "         {'account': 'Alpha Co',  'Jan': 200, 'Feb': 210, 'Mar': 215},\n",
    "         {'account': 'Blue Inc',  'Jan': 50,  'Feb': 90,  'Mar': 95 }]\n",
    "df = pd.DataFrame(sales)\n",
    "\n",
    "\"\"\""
   ]
  },
  {
   "cell_type": "code",
   "execution_count": null,
   "metadata": {},
   "outputs": [],
   "source": []
  },
  {
   "cell_type": "code",
   "execution_count": null,
   "metadata": {},
   "outputs": [],
   "source": []
  },
  {
   "cell_type": "code",
   "execution_count": null,
   "metadata": {},
   "outputs": [],
   "source": []
  },
  {
   "cell_type": "code",
   "execution_count": 56,
   "metadata": {},
   "outputs": [
    {
     "data": {
      "text/plain": [
       "{}"
      ]
     },
     "execution_count": 56,
     "metadata": {},
     "output_type": "execute_result"
    }
   ],
   "source": [
    "empty_dictionary = {}\n",
    "empty_dictionary"
   ]
  },
  {
   "cell_type": "code",
   "execution_count": 58,
   "metadata": {},
   "outputs": [
    {
     "data": {
      "text/plain": [
       "False"
      ]
     },
     "execution_count": 58,
     "metadata": {},
     "output_type": "execute_result"
    }
   ],
   "source": [
    "any(empty_dictionary)"
   ]
  },
  {
   "cell_type": "code",
   "execution_count": 59,
   "metadata": {},
   "outputs": [
    {
     "data": {
      "text/plain": [
       "0"
      ]
     },
     "execution_count": 59,
     "metadata": {},
     "output_type": "execute_result"
    }
   ],
   "source": [
    "len(empty_dictionary)"
   ]
  },
  {
   "cell_type": "code",
   "execution_count": 64,
   "metadata": {},
   "outputs": [
    {
     "data": {
      "text/plain": [
       "False"
      ]
     },
     "execution_count": 64,
     "metadata": {},
     "output_type": "execute_result"
    }
   ],
   "source": [
    "bool(empty_dictionary)"
   ]
  },
  {
   "cell_type": "code",
   "execution_count": 61,
   "metadata": {},
   "outputs": [
    {
     "data": {
      "text/plain": [
       "{0: False}"
      ]
     },
     "execution_count": 61,
     "metadata": {},
     "output_type": "execute_result"
    }
   ],
   "source": [
    "falsy_dictionary = {0:False}\n",
    "falsy_dictionary"
   ]
  },
  {
   "cell_type": "code",
   "execution_count": 62,
   "metadata": {},
   "outputs": [
    {
     "data": {
      "text/plain": [
       "False"
      ]
     },
     "execution_count": 62,
     "metadata": {},
     "output_type": "execute_result"
    }
   ],
   "source": [
    "any(falsy_dictionary)"
   ]
  },
  {
   "cell_type": "code",
   "execution_count": 63,
   "metadata": {},
   "outputs": [
    {
     "data": {
      "text/plain": [
       "1"
      ]
     },
     "execution_count": 63,
     "metadata": {},
     "output_type": "execute_result"
    }
   ],
   "source": [
    "len(falsy_dictionary)"
   ]
  },
  {
   "cell_type": "code",
   "execution_count": 65,
   "metadata": {},
   "outputs": [
    {
     "data": {
      "text/plain": [
       "True"
      ]
     },
     "execution_count": 65,
     "metadata": {},
     "output_type": "execute_result"
    }
   ],
   "source": [
    "bool(falsy_dictionary)"
   ]
  },
  {
   "cell_type": "code",
   "execution_count": null,
   "metadata": {},
   "outputs": [],
   "source": []
  },
  {
   "cell_type": "code",
   "execution_count": null,
   "metadata": {},
   "outputs": [],
   "source": [
    "\"\"\"\n",
    "# https://stackoverflow.com/questions/23177439/python-checking-if-a-dictionary-is-empty-doesnt-seem-to-work\n",
    "test_dict = {}\n",
    "\n",
    "# Option 1\n",
    "if not test_dict:\n",
    "    print \"Dict is Empty\"\n",
    "\n",
    "# Option 2\n",
    "if not bool(test_dict):\n",
    "    print \"Dict is Empty\"\n",
    "\n",
    "# Option 3\n",
    "if len(test_dict) == 0:\n",
    "    print \"Dict is Empty\"\n",
    "\n",
    "# The first test in the answer above is true not only if the dict exists and is empty, but also if test_dict is None.\n",
    "# So use this test only when you know that the dict object exists (or when the difference does not matter).\n",
    "# The second way also has that behavior.\n",
    "# Only the third way barks if test_dict is None.\n",
    "\"\"\""
   ]
  },
  {
   "cell_type": "code",
   "execution_count": null,
   "metadata": {},
   "outputs": [],
   "source": []
  },
  {
   "cell_type": "code",
   "execution_count": null,
   "metadata": {},
   "outputs": [],
   "source": []
  },
  {
   "cell_type": "code",
   "execution_count": null,
   "metadata": {},
   "outputs": [],
   "source": []
  },
  {
   "cell_type": "code",
   "execution_count": null,
   "metadata": {},
   "outputs": [],
   "source": [
    "application_train_as_objects = pd.read_table(path + 'application_train.csv', sep=',', dtype=object)"
   ]
  },
  {
   "cell_type": "code",
   "execution_count": null,
   "metadata": {},
   "outputs": [],
   "source": [
    "application_train_column_names"
   ]
  },
  {
   "cell_type": "code",
   "execution_count": null,
   "metadata": {},
   "outputs": [],
   "source": []
  },
  {
   "cell_type": "code",
   "execution_count": null,
   "metadata": {},
   "outputs": [],
   "source": [
    "# https://stackoverflow.com/questions/18667410/how-can-i-check-if-a-string-only-contains-letters-in-python\n",
    "\n",
    "if string.isalpha():\n",
    "    print(\"It's all letters\")\n",
    "\n",
    "# NOTE: using [A-Za-z ]+ will not match names with non ASCII letterss\n",
    "# NOTE: using \\w includes digits\n",
    "import re\n",
    "def only_letters(tested_string):\n",
    "    #match = re.match(\"^[ABCDEFGHJKLM]*$\", tested_string)\n",
    "    #match = re.match(\"^[A-HJ-M]*$\", tested_string)\n",
    "    match = re.match(\"^[A-Za-z]*$\", tested_string)\n",
    "    return match is not None\n",
    "\n",
    "import re\n",
    "def only_letters(string):\n",
    "    return re.match(r'[a-z\\s]+$',string,2) # JWB: What's with the \",2\"?\n",
    "\n",
    "def only_letters(string):\n",
    "    return all(letter.isalpha() for letter in string)\n",
    "\n",
    "def only_letters(s):\n",
    "    for c in s:\n",
    "        cat = unicodedata.category(c)\n",
    "        # Lu: Category: Letter, Uppercase (https://codepoints.net/search?gc=Lu)\n",
    "        # Ll: Category: Letter, Lowercase (https://codepoints.net/search?gc=Ll)\n",
    "        # Lt: Category: Letter, Titlecase (https://codepoints.net/search?gc=Lt)\n",
    "        # Lm: Category: Letter, Modifier  (https://codepoints.net/search?gc=Lm)\n",
    "        # Lo: Category: Letter, Other     (https://codepoints.net/search?gc=Lo)\n",
    "        # Latin-1: There are no Lm or Lt category codepoints in the Latin-1 subset of Unicode and only 2 Lo characters, ª (U+00AA) and º (U+00BA), Feminine and Masculine Ordinal Indicator).\n",
    "        if cat not in ('Lu','Ll','Lo'):\n",
    "            return False\n",
    "    return True\n",
    "\n",
    "# https://stackoverflow.com/questions/29460405/checking-if-string-is-only-letters-and-spaces-python\n",
    "# To require that the string contains only alphas and spaces:\n",
    "if all(x.isalpha() or x.isspace() for x in string):\n",
    "    print(\"Only alphabetical letters and spaces: yes\")\n",
    "else:\n",
    "    print(\"Only alphabetical letters and spaces: no\")\n",
    "# To require that the string contains at least one alpha and at least one space:\n",
    "if any(x.isalpha() for x in string) and any(x.isspace() for x in string):\n",
    "# To require that the string contains at least one alpha, at least one space, and only alphas and spaces:\n",
    "if (any(x.isalpha() for x in string)\n",
    "    and any(x.isspace() for x in string)\n",
    "    and all(x.isalpha() or x.isspace() for x in string)):\n"
   ]
  },
  {
   "cell_type": "code",
   "execution_count": null,
   "metadata": {},
   "outputs": [],
   "source": [
    "#locale.getlocale()\n",
    "#> NameError: name 'locale' is not defined"
   ]
  },
  {
   "cell_type": "code",
   "execution_count": null,
   "metadata": {},
   "outputs": [],
   "source": [
    "'dog'.isalpha()"
   ]
  },
  {
   "cell_type": "code",
   "execution_count": null,
   "metadata": {},
   "outputs": [],
   "source": [
    "'äöå'.isalpha()"
   ]
  },
  {
   "cell_type": "code",
   "execution_count": null,
   "metadata": {},
   "outputs": [],
   "source": [
    "'привіт'.isalpha()"
   ]
  },
  {
   "cell_type": "code",
   "execution_count": null,
   "metadata": {},
   "outputs": [],
   "source": [
    "u'привіт'.isalpha()"
   ]
  },
  {
   "cell_type": "code",
   "execution_count": null,
   "metadata": {},
   "outputs": [],
   "source": [
    "repr('äöå')"
   ]
  },
  {
   "cell_type": "code",
   "execution_count": null,
   "metadata": {},
   "outputs": [],
   "source": [
    "ascii('äöå')"
   ]
  },
  {
   "cell_type": "code",
   "execution_count": null,
   "metadata": {},
   "outputs": [],
   "source": []
  },
  {
   "cell_type": "code",
   "execution_count": null,
   "metadata": {},
   "outputs": [],
   "source": [
    "# https://stackoverflow.com/questions/4286637/python-isalpha-and-scandics\n",
    "# http://en.wikipedia.org/wiki/Windows-1252\n",
    "s = '\\xe4\\xf6\\xe5'\n",
    "import unicodedata\n",
    "for c in s:\n",
    "    u = c.decode('1252')\n",
    "    print (ascii(c), ascii(u), unicodedata.name(u, '<no name>'))\n",
    "#'\\xe4' u'\\xe4' LATIN SMALL LETTER A WITH DIAERESIS\n",
    "#'\\xf6' u'\\xf6' LATIN SMALL LETTER O WITH DIAERESIS\n",
    "#'\\xe5' u'\\xe5' LATIN SMALL LETTER A WITH RING ABOVE\n",
    "s.isalpha()"
   ]
  },
  {
   "cell_type": "code",
   "execution_count": null,
   "metadata": {},
   "outputs": [],
   "source": []
  },
  {
   "cell_type": "code",
   "execution_count": null,
   "metadata": {},
   "outputs": [],
   "source": [
    "# The isalpha() methods returns “True” if all characters in the string are alphabets, Otherwise, It returns “False”.\n",
    "# This function is used to check if the argument contains any alphabets characters such as:\n",
    "#     ABCDEFGHIJKLMNOPQRSTUVWXYZabcdefghijklmnopqrstuvwxyz\n",
    "# Both uppercase and lowercase alphabets return “True”\n",
    "# Space is not considered to be alphabet, therefore it returns “False”\n",
    "\n",
    "def is_plain_text(string):\n",
    "    if string != 0:\n",
    "            # require that the string contains only alphas\n",
    "            #if all(character.isalpha() for character in string)\n",
    "            # require that the string contains only alphas and spaces\n",
    "            if all(character.isalpha() or character.isspace() for character in string):\n",
    "                return True\n",
    "            else:\n",
    "                return False\n",
    "    else:\n",
    "            return None"
   ]
  },
  {
   "cell_type": "code",
   "execution_count": null,
   "metadata": {},
   "outputs": [],
   "source": [
    "is_plain_text(application_train_as_objects['SK_ID_CURR'])\n",
    "#TypeError: 'numpy.bool_' object is not iterable"
   ]
  },
  {
   "cell_type": "code",
   "execution_count": null,
   "metadata": {},
   "outputs": [],
   "source": []
  },
  {
   "cell_type": "code",
   "execution_count": null,
   "metadata": {},
   "outputs": [],
   "source": [
    "application_train_as_objects['SK_ID_CURR'].dtype"
   ]
  },
  {
   "cell_type": "code",
   "execution_count": null,
   "metadata": {},
   "outputs": [],
   "source": [
    "application_train_as_objects['SK_ID_CURR'].str.isdigit().any()"
   ]
  },
  {
   "cell_type": "code",
   "execution_count": null,
   "metadata": {},
   "outputs": [],
   "source": [
    "application_train_as_objects['SK_ID_CURR'].str.isdigit().all()"
   ]
  },
  {
   "cell_type": "code",
   "execution_count": null,
   "metadata": {},
   "outputs": [],
   "source": [
    "application_train_as_objects['SK_ID_CURR'].str.isalpha().any()"
   ]
  },
  {
   "cell_type": "code",
   "execution_count": null,
   "metadata": {},
   "outputs": [],
   "source": [
    "application_train_as_objects['SK_ID_CURR'].str.isalpha().all()"
   ]
  },
  {
   "cell_type": "code",
   "execution_count": null,
   "metadata": {},
   "outputs": [],
   "source": [
    "df[pd.to_numeric(df.A, errors='coerce').notnull()]"
   ]
  },
  {
   "cell_type": "code",
   "execution_count": null,
   "metadata": {},
   "outputs": [],
   "source": []
  },
  {
   "cell_type": "code",
   "execution_count": null,
   "metadata": {},
   "outputs": [],
   "source": [
    "application_train['SK_ID_CURR'].count()"
   ]
  },
  {
   "cell_type": "code",
   "execution_count": null,
   "metadata": {},
   "outputs": [],
   "source": [
    "application_train['SK_ID_CURR'].value_counts()"
   ]
  },
  {
   "cell_type": "code",
   "execution_count": null,
   "metadata": {},
   "outputs": [],
   "source": [
    "# checking for uniqueness:\n",
    "print(len(application_train['SK_ID_CURR'].unique()))"
   ]
  },
  {
   "cell_type": "code",
   "execution_count": null,
   "metadata": {},
   "outputs": [],
   "source": []
  },
  {
   "cell_type": "code",
   "execution_count": null,
   "metadata": {},
   "outputs": [],
   "source": [
    "# How many classes\n",
    "application_train['TARGET'].nunique()"
   ]
  },
  {
   "cell_type": "code",
   "execution_count": null,
   "metadata": {},
   "outputs": [],
   "source": [
    "# Distribution of those classes\n",
    "application_train['TARGET'].value_counts(dropna=False)"
   ]
  },
  {
   "cell_type": "code",
   "execution_count": null,
   "metadata": {},
   "outputs": [],
   "source": []
  },
  {
   "cell_type": "code",
   "execution_count": null,
   "metadata": {},
   "outputs": [],
   "source": [
    "dtypes = application_train.dtypes\n",
    "dtypes = dtypes[dtypes != 'object']\n",
    "features = list(set(dtypes.index) - set(['TARGET']))\n",
    "len(features)"
   ]
  },
  {
   "cell_type": "code",
   "execution_count": null,
   "metadata": {},
   "outputs": [],
   "source": [
    "X = df[features]\n",
    "y = df['TARGET']"
   ]
  },
  {
   "cell_type": "code",
   "execution_count": null,
   "metadata": {},
   "outputs": [],
   "source": []
  },
  {
   "cell_type": "code",
   "execution_count": null,
   "metadata": {},
   "outputs": [],
   "source": [
    "id_column = ['SK_ID_CURR']"
   ]
  },
  {
   "cell_type": "code",
   "execution_count": null,
   "metadata": {},
   "outputs": [],
   "source": [
    "target_column = ['TARGET']"
   ]
  },
  {
   "cell_type": "code",
   "execution_count": null,
   "metadata": {},
   "outputs": [],
   "source": [
    "boolean_columns = ['FLAG_OWN_CAR', 'FLAG_OWN_REALTY', 'FLAG_MOBIL', 'FLAG_EMP_PHONE', 'FLAG_WORK_PHONE', 'FLAG_CONT_MOBILE', 'FLAG_PHONE', 'FLAG_EMAIL', 'REG_REGION_NOT_LIVE_REGION', 'REG_REGION_NOT_WORK_REGION', 'LIVE_REGION_NOT_WORK_REGION', 'REG_CITY_NOT_LIVE_CITY', 'REG_CITY_NOT_WORK_CITY', 'LIVE_CITY_NOT_WORK_CITY', 'FLAG_DOCUMENT_2', 'FLAG_DOCUMENT_3', 'FLAG_DOCUMENT_4', 'FLAG_DOCUMENT_5', 'FLAG_DOCUMENT_6', 'FLAG_DOCUMENT_7', 'FLAG_DOCUMENT_8', 'FLAG_DOCUMENT_9', 'FLAG_DOCUMENT_10', 'FLAG_DOCUMENT_11', 'FLAG_DOCUMENT_12', 'FLAG_DOCUMENT_13', 'FLAG_DOCUMENT_14', 'FLAG_DOCUMENT_15', 'FLAG_DOCUMENT_16', 'FLAG_DOCUMENT_17', 'FLAG_DOCUMENT_18', 'FLAG_DOCUMENT_19', 'FLAG_DOCUMENT_20', 'FLAG_DOCUMENT_21']"
   ]
  },
  {
   "cell_type": "code",
   "execution_count": null,
   "metadata": {},
   "outputs": [],
   "source": [
    "categorical_columns = ['NAME_CONTRACT_TYPE', 'CODE_GENDER', 'NAME_TYPE_SUITE', 'NAME_INCOME_TYPE', 'NAME_EDUCATION_TYPE', 'NAME_FAMILY_STATUS', 'NAME_HOUSING_TYPE', 'OCCUPATION_TYPE', 'WEEKDAY_APPR_PROCESS_START', 'ORGANIZATION_TYPE', 'FONDKAPREMONT_MODE', 'HOUSETYPE_MODE', 'WALLSMATERIAL_MODE', 'EMERGENCYSTATE_MODE']"
   ]
  },
  {
   "cell_type": "code",
   "execution_count": null,
   "metadata": {},
   "outputs": [],
   "source": [
    "object_columns = []"
   ]
  },
  {
   "cell_type": "code",
   "execution_count": null,
   "metadata": {},
   "outputs": [],
   "source": [
    "numerical_columns = []"
   ]
  },
  {
   "cell_type": "code",
   "execution_count": null,
   "metadata": {},
   "outputs": [],
   "source": [
    "int_columns = []"
   ]
  },
  {
   "cell_type": "code",
   "execution_count": null,
   "metadata": {},
   "outputs": [],
   "source": [
    "float_columns = []"
   ]
  },
  {
   "cell_type": "code",
   "execution_count": null,
   "metadata": {},
   "outputs": [],
   "source": [
    "datetime_columns = []"
   ]
  },
  {
   "cell_type": "code",
   "execution_count": null,
   "metadata": {},
   "outputs": [],
   "source": [
    "date_columns = []"
   ]
  },
  {
   "cell_type": "code",
   "execution_count": null,
   "metadata": {},
   "outputs": [],
   "source": [
    "nondata_columns = ['SK_ID_CURR']"
   ]
  },
  {
   "cell_type": "code",
   "execution_count": null,
   "metadata": {},
   "outputs": [],
   "source": []
  },
  {
   "cell_type": "code",
   "execution_count": null,
   "metadata": {},
   "outputs": [],
   "source": [
    "target_distribution = application_train['TARGET'].value_counts()\n",
    "target_distribution.plot.pie(figsize=(10, 10),\n",
    "                             title='Target Distribution',\n",
    "                             fontsize=15, \n",
    "                             legend=True,\n",
    "                             autopct=lambda v: \"{:0.1f}%\".format(v))"
   ]
  },
  {
   "cell_type": "code",
   "execution_count": 97,
   "metadata": {},
   "outputs": [
    {
     "data": {
      "text/plain": [
       "SK_ID_CURR                         0\n",
       "TARGET                             0\n",
       "NAME_CONTRACT_TYPE                 0\n",
       "CODE_GENDER                        0\n",
       "FLAG_OWN_CAR                       0\n",
       "FLAG_OWN_REALTY                    0\n",
       "CNT_CHILDREN                       0\n",
       "AMT_INCOME_TOTAL                   0\n",
       "AMT_CREDIT                         0\n",
       "AMT_ANNUITY                       12\n",
       "AMT_GOODS_PRICE                  278\n",
       "NAME_TYPE_SUITE                 1292\n",
       "NAME_INCOME_TYPE                   0\n",
       "NAME_EDUCATION_TYPE                0\n",
       "NAME_FAMILY_STATUS                 0\n",
       "NAME_HOUSING_TYPE                  0\n",
       "REGION_POPULATION_RELATIVE         0\n",
       "DAYS_BIRTH                         0\n",
       "DAYS_EMPLOYED                      0\n",
       "DAYS_REGISTRATION                  0\n",
       "DAYS_ID_PUBLISH                    0\n",
       "OWN_CAR_AGE                   202929\n",
       "FLAG_MOBIL                         0\n",
       "FLAG_EMP_PHONE                     0\n",
       "FLAG_WORK_PHONE                    0\n",
       "FLAG_CONT_MOBILE                   0\n",
       "FLAG_PHONE                         0\n",
       "FLAG_EMAIL                         0\n",
       "OCCUPATION_TYPE                96391\n",
       "CNT_FAM_MEMBERS                    2\n",
       "                               ...  \n",
       "DEF_30_CNT_SOCIAL_CIRCLE        1021\n",
       "OBS_60_CNT_SOCIAL_CIRCLE        1021\n",
       "DEF_60_CNT_SOCIAL_CIRCLE        1021\n",
       "DAYS_LAST_PHONE_CHANGE             1\n",
       "FLAG_DOCUMENT_2                    0\n",
       "FLAG_DOCUMENT_3                    0\n",
       "FLAG_DOCUMENT_4                    0\n",
       "FLAG_DOCUMENT_5                    0\n",
       "FLAG_DOCUMENT_6                    0\n",
       "FLAG_DOCUMENT_7                    0\n",
       "FLAG_DOCUMENT_8                    0\n",
       "FLAG_DOCUMENT_9                    0\n",
       "FLAG_DOCUMENT_10                   0\n",
       "FLAG_DOCUMENT_11                   0\n",
       "FLAG_DOCUMENT_12                   0\n",
       "FLAG_DOCUMENT_13                   0\n",
       "FLAG_DOCUMENT_14                   0\n",
       "FLAG_DOCUMENT_15                   0\n",
       "FLAG_DOCUMENT_16                   0\n",
       "FLAG_DOCUMENT_17                   0\n",
       "FLAG_DOCUMENT_18                   0\n",
       "FLAG_DOCUMENT_19                   0\n",
       "FLAG_DOCUMENT_20                   0\n",
       "FLAG_DOCUMENT_21                   0\n",
       "AMT_REQ_CREDIT_BUREAU_HOUR     41519\n",
       "AMT_REQ_CREDIT_BUREAU_DAY      41519\n",
       "AMT_REQ_CREDIT_BUREAU_WEEK     41519\n",
       "AMT_REQ_CREDIT_BUREAU_MON      41519\n",
       "AMT_REQ_CREDIT_BUREAU_QRT      41519\n",
       "AMT_REQ_CREDIT_BUREAU_YEAR     41519\n",
       "Length: 122, dtype: int64"
      ]
     },
     "execution_count": 97,
     "metadata": {},
     "output_type": "execute_result"
    }
   ],
   "source": [
    "total_nans = application_train.isnull().sum()\n",
    "total_nans"
   ]
  },
  {
   "cell_type": "code",
   "execution_count": null,
   "metadata": {},
   "outputs": [],
   "source": [
    "nan_precents = (application_train.isnull().sum()/application_train.isnull().count()*100)\n",
    "feature_overview_df  = pd.concat([total_nans, nan_precents], axis=1, keys=['NaN Count', 'NaN Pencent'])\n",
    "feature_overview_df['Type'] = [application_train[c].dtype for c in feature_overview_df.index]\n",
    "pd.set_option('display.max_rows', None)\n",
    "display(feature_overview_df)\n",
    "pd.set_option('display.max_rows', 20)"
   ]
  },
  {
   "cell_type": "code",
   "execution_count": null,
   "metadata": {},
   "outputs": [],
   "source": [
    "all_application_is_nan_df = pd.DataFrame()\n",
    "for column in application_train.columns:\n",
    "    if application_train[column].isnull().sum() == 0:\n",
    "        continue\n",
    "    all_application_is_nan_df['is_nan_' + column] = application_train[column].isnull()\n",
    "    all_application_is_nan_df['is_nan_' + column] = all_application_is_nan_df['is_nan_' + column].map(lambda v: 1 if v else 0)\n",
    "all_application_is_nan_df['target'] = application_train['TARGET']\n",
    "all_application_is_nan_df = all_application_is_nan_df[pd.notnull(all_application_is_nan_df['target'])]"
   ]
  },
  {
   "cell_type": "code",
   "execution_count": null,
   "metadata": {},
   "outputs": [],
   "source": [
    "display(all_application_is_nan_df)"
   ]
  },
  {
   "cell_type": "code",
   "execution_count": null,
   "metadata": {},
   "outputs": [],
   "source": [
    "Y = all_application_is_nan_df.pop('target')\n",
    "X = all_application_is_nan_df"
   ]
  },
  {
   "cell_type": "code",
   "execution_count": null,
   "metadata": {},
   "outputs": [],
   "source": [
    "train_X, valid_X, train_Y, valid_Y = train_test_split(X, Y, test_size=0.2, random_state=2018)"
   ]
  },
  {
   "cell_type": "code",
   "execution_count": null,
   "metadata": {},
   "outputs": [],
   "source": [
    "clf = LGBMClassifier(n_estimators=200, learning_rate=0.01)"
   ]
  },
  {
   "cell_type": "code",
   "execution_count": null,
   "metadata": {},
   "outputs": [],
   "source": [
    "clf.fit(\n",
    "        train_X,\n",
    "        train_Y,\n",
    "        eval_set=[(train_X, train_Y), (valid_X, valid_Y)],\n",
    "        eval_metric='auc',\n",
    "        early_stopping_rounds=50,\n",
    "        verbose=False\n",
    "       )"
   ]
  },
  {
   "cell_type": "code",
   "execution_count": null,
   "metadata": {},
   "outputs": [],
   "source": [
    "plot_importance(clf, figsize=(10,10))"
   ]
  },
  {
   "cell_type": "code",
   "execution_count": null,
   "metadata": {},
   "outputs": [],
   "source": [
    "#print(\"only showing the distribution for the first few columns, edit the counter to show all distribution\")\n",
    "#show_feature_count = 10\n",
    "#for column in all_application_df.columns:\n",
    "#   if show_feature_count == 0:\n",
    "#        break\n",
    "#    show_feature_count -= 1\n",
    "#    draw_feature_distribution(all_application_df, column)"
   ]
  },
  {
   "cell_type": "code",
   "execution_count": null,
   "metadata": {},
   "outputs": [],
   "source": [
    "draw_feature_distribution(application_train, 'TARGET')"
   ]
  },
  {
   "cell_type": "code",
   "execution_count": null,
   "metadata": {},
   "outputs": [],
   "source": [
    "draw_feature_distribution(application_train, 'DAYS_EMPLOYED')\n",
    "# ToDo(JamesBalcomb): fix \"ValueError: max() arg is an empty sequence\" - add check for 'class_t_values'"
   ]
  },
  {
   "cell_type": "code",
   "execution_count": null,
   "metadata": {},
   "outputs": [],
   "source": [
    "#EXT_SOURCE_1\n",
    "#EXT_SOURCE_2\n",
    "#EXT_SOURCE_3"
   ]
  },
  {
   "cell_type": "code",
   "execution_count": null,
   "metadata": {},
   "outputs": [],
   "source": [
    "draw_feature_distribution(application_train, 'EXT_SOURCE_1')"
   ]
  },
  {
   "cell_type": "code",
   "execution_count": null,
   "metadata": {},
   "outputs": [],
   "source": [
    "draw_feature_distribution(application_train, 'EXT_SOURCE_2')"
   ]
  },
  {
   "cell_type": "code",
   "execution_count": null,
   "metadata": {},
   "outputs": [],
   "source": [
    "draw_feature_distribution(application_train, 'EXT_SOURCE_3')"
   ]
  },
  {
   "cell_type": "code",
   "execution_count": null,
   "metadata": {},
   "outputs": [],
   "source": []
  },
  {
   "cell_type": "markdown",
   "metadata": {},
   "source": [
    "# EXT_SOURCE_1, EXT_SOURCE_2, EXT_SOURCE_3\n",
    "\n",
    "Q: Is there a relationship between any of these three continuous variables and the binary classification target variable?\n",
    "A: Yes, but EXT_SOURCE_2 is oddly shapen."
   ]
  },
  {
   "cell_type": "code",
   "execution_count": null,
   "metadata": {},
   "outputs": [],
   "source": [
    "# Seaborn Violin Plot - correlation; distribution and density\n",
    "sns.violinplot(x='TARGET', y='EXT_SOURCE_1', data=application_train)"
   ]
  },
  {
   "cell_type": "code",
   "execution_count": null,
   "metadata": {},
   "outputs": [],
   "source": [
    "# Seaborn Violin Plot - correlation; distribution and density\n",
    "sns.violinplot(x='TARGET', y='EXT_SOURCE_2', data=application_train)"
   ]
  },
  {
   "cell_type": "code",
   "execution_count": null,
   "metadata": {},
   "outputs": [],
   "source": [
    "# Seaborn Violin Plot - correlation; distribution and density\n",
    "sns.violinplot(x='TARGET', y='EXT_SOURCE_3', data=application_train)"
   ]
  },
  {
   "cell_type": "code",
   "execution_count": null,
   "metadata": {},
   "outputs": [],
   "source": [
    "application_train.hist(column='EXT_SOURCE_1', # Column to plot\n",
    "              figsize=(8,8),                  # Plot size\n",
    "              color=\"blue\"                    # Plot color\n",
    "              )"
   ]
  },
  {
   "cell_type": "code",
   "execution_count": null,
   "metadata": {},
   "outputs": [],
   "source": [
    "application_train.hist(column='EXT_SOURCE_2', # Column to plot\n",
    "              figsize=(8,8),                  # Plot size\n",
    "              color=\"blue\"                    # Plot color\n",
    "              )"
   ]
  },
  {
   "cell_type": "code",
   "execution_count": null,
   "metadata": {},
   "outputs": [],
   "source": [
    "application_train.hist(column='EXT_SOURCE_3', # Column to plot\n",
    "              figsize=(8,8),                  # Plot size\n",
    "              color=\"blue\"                    # Plot color\n",
    "              )"
   ]
  },
  {
   "cell_type": "code",
   "execution_count": null,
   "metadata": {},
   "outputs": [],
   "source": []
  },
  {
   "cell_type": "code",
   "execution_count": null,
   "metadata": {},
   "outputs": [],
   "source": [
    "# https://gist.github.com/ltfschoen/4c5d2cf26b8be5355043273493a6b8b9#file-proportions_of_missing_data_in_dataframe_columns-py\n",
    "def get_percentage_missing(series):\n",
    "    \"\"\" Calculates percentage of NaN values in DataFrame\n",
    "    :param series: Pandas DataFrame object\n",
    "    :return: float\n",
    "    \"\"\"\n",
    "    num = series.isnull().sum()\n",
    "    den = len(series)\n",
    "    return round(num / den, 2)"
   ]
  },
  {
   "cell_type": "code",
   "execution_count": null,
   "metadata": {},
   "outputs": [],
   "source": [
    "get_percentage_missing(application_train['EXT_SOURCE_1'])"
   ]
  },
  {
   "cell_type": "code",
   "execution_count": null,
   "metadata": {},
   "outputs": [],
   "source": [
    "get_percentage_missing(application_train['EXT_SOURCE_2'])"
   ]
  },
  {
   "cell_type": "code",
   "execution_count": null,
   "metadata": {},
   "outputs": [],
   "source": [
    "get_percentage_missing(application_train['EXT_SOURCE_3'])"
   ]
  },
  {
   "cell_type": "code",
   "execution_count": null,
   "metadata": {},
   "outputs": [],
   "source": []
  },
  {
   "cell_type": "code",
   "execution_count": null,
   "metadata": {},
   "outputs": [],
   "source": [
    "# # https://datascience.stackexchange.com/questions/12645/how-to-count-the-number-of-missing-values-in-each-row-in-pandas-dataframe\n",
    "# # Count of Missing Values per Column\n",
    "# df.isnull().sum(axis=0)\n",
    "# # Count of Missing Values per Row\n",
    "# df.isnull().sum(axis=1)"
   ]
  },
  {
   "cell_type": "code",
   "execution_count": null,
   "metadata": {},
   "outputs": [],
   "source": []
  },
  {
   "cell_type": "code",
   "execution_count": null,
   "metadata": {},
   "outputs": [],
   "source": [
    "# https://towardsdatascience.com/the-tale-of-missing-values-in-python-c96beb0e8a9d\n",
    "# If the missing value isn’t identified as NaN , then we have to first convert or replace such non NaN entry with a NaN.\n",
    "data_name[‘column_name’].replace(0, np.nan, inplace= True)"
   ]
  },
  {
   "cell_type": "code",
   "execution_count": null,
   "metadata": {},
   "outputs": [],
   "source": []
  },
  {
   "cell_type": "code",
   "execution_count": null,
   "metadata": {},
   "outputs": [],
   "source": [
    "# https://gist.github.com/ltfschoen/4c5d2cf26b8be5355043273493a6b8b9#file-proportions_of_missing_data_in_dataframe_columns-py\n",
    "df = application_train\n",
    "# Only include columns that contain any NaN values\n",
    "df_with_any_null_values = df[df.columns[df.isnull().any()].tolist()]\n",
    "\n",
    "get_percentage_missing(df_with_any_null_values)\n",
    "\n",
    "# Iterate over columns in DataFrame and delete those with where >30% of the values are null/NaN\n",
    "for name, values in df_with_any_null_values.iteritems():\n",
    "    # print(\"%r: %r\" % (name, values))\n",
    "    if get_percentage_missing(df_with_any_null_values[name]) > 0.30:\n",
    "        print(\"Deleting Column %r: \" % (name))\n",
    "        # df_with_any_null_values.drop(name, axis=1, inplace=True)"
   ]
  },
  {
   "cell_type": "code",
   "execution_count": null,
   "metadata": {},
   "outputs": [],
   "source": []
  },
  {
   "cell_type": "code",
   "execution_count": null,
   "metadata": {},
   "outputs": [],
   "source": [
    "plt.figure(figsize=(12,5))\n",
    "plt.title(\"Distribution of EXT_SOURCE_1\")\n",
    "ax = sns.distplot(application_train[\"EXT_SOURCE_1\"].dropna())"
   ]
  },
  {
   "cell_type": "code",
   "execution_count": null,
   "metadata": {},
   "outputs": [],
   "source": [
    "plt.figure(figsize=(12,5))\n",
    "plt.title(\"Distribution of EXT_SOURCE_2\")\n",
    "ax = sns.distplot(application_train[\"EXT_SOURCE_2\"].dropna())"
   ]
  },
  {
   "cell_type": "code",
   "execution_count": null,
   "metadata": {},
   "outputs": [],
   "source": [
    "plt.figure(figsize=(12,5))\n",
    "plt.title(\"Distribution of EXT_SOURCE_3\")\n",
    "ax = sns.distplot(application_train[\"EXT_SOURCE_3\"].dropna())"
   ]
  },
  {
   "cell_type": "code",
   "execution_count": null,
   "metadata": {},
   "outputs": [],
   "source": []
  },
  {
   "cell_type": "code",
   "execution_count": null,
   "metadata": {},
   "outputs": [],
   "source": [
    "application_train['EXT_SOURCE_AVG'] = application_train[['EXT_SOURCE_1', 'EXT_SOURCE_2', 'EXT_SOURCE_3']].mean(axis=1)"
   ]
  },
  {
   "cell_type": "code",
   "execution_count": null,
   "metadata": {},
   "outputs": [],
   "source": [
    "plt.figure(figsize=(12,5))\n",
    "plt.title(\"Distribution of EXT_SOURCE_AVG\")\n",
    "ax = sns.distplot(application_train[\"EXT_SOURCE_AVG\"].dropna())"
   ]
  },
  {
   "cell_type": "code",
   "execution_count": null,
   "metadata": {},
   "outputs": [],
   "source": []
  },
  {
   "cell_type": "code",
   "execution_count": null,
   "metadata": {},
   "outputs": [],
   "source": [
    "# https://stackoverflow.com/questions/35277075/python-pandas-counting-the-occurrences-of-a-specific-value\n",
    "#df.loc[df.education == '9th', 'education'].count()\n",
    "#(df.education == '9th').sum()\n",
    "#df.query('education == \"9th\"').education.count()"
   ]
  },
  {
   "cell_type": "code",
   "execution_count": null,
   "metadata": {},
   "outputs": [],
   "source": [
    "application_train.loc[application_train.EXT_SOURCE_1 == 0.0, 'EXT_SOURCE_1'].count()"
   ]
  },
  {
   "cell_type": "code",
   "execution_count": null,
   "metadata": {},
   "outputs": [],
   "source": [
    "application_train.loc[application_train.EXT_SOURCE_2 == 0.0, 'EXT_SOURCE_2'].count()"
   ]
  },
  {
   "cell_type": "code",
   "execution_count": null,
   "metadata": {},
   "outputs": [],
   "source": [
    "application_train.loc[application_train.EXT_SOURCE_3 == 0.0, 'EXT_SOURCE_3'].count()"
   ]
  },
  {
   "cell_type": "code",
   "execution_count": null,
   "metadata": {},
   "outputs": [],
   "source": []
  },
  {
   "cell_type": "code",
   "execution_count": null,
   "metadata": {},
   "outputs": [],
   "source": [
    "application_train['EXT_SOURCE_1'].value_counts()"
   ]
  },
  {
   "cell_type": "code",
   "execution_count": null,
   "metadata": {},
   "outputs": [],
   "source": [
    "application_train['EXT_SOURCE_2'].value_counts()"
   ]
  },
  {
   "cell_type": "code",
   "execution_count": null,
   "metadata": {},
   "outputs": [],
   "source": [
    "application_train['EXT_SOURCE_3'].value_counts()\n",
    "# application_train['EXT_SOURCE_3'].value_counts()[:20]\n",
    "# # ValueError: index must be monotonic increasing or decreasing"
   ]
  },
  {
   "cell_type": "code",
   "execution_count": null,
   "metadata": {},
   "outputs": [],
   "source": []
  },
  {
   "cell_type": "code",
   "execution_count": null,
   "metadata": {},
   "outputs": [],
   "source": [
    "application_train['EXT_SOURCE_1'].describe()"
   ]
  },
  {
   "cell_type": "code",
   "execution_count": null,
   "metadata": {},
   "outputs": [],
   "source": [
    "application_train['EXT_SOURCE_2'].describe()"
   ]
  },
  {
   "cell_type": "code",
   "execution_count": null,
   "metadata": {},
   "outputs": [],
   "source": [
    "application_train['EXT_SOURCE_3'].describe()"
   ]
  },
  {
   "cell_type": "code",
   "execution_count": null,
   "metadata": {},
   "outputs": [],
   "source": []
  },
  {
   "cell_type": "code",
   "execution_count": null,
   "metadata": {},
   "outputs": [],
   "source": [
    "application_train['EXT_SOURCE_1'].plot(kind='hist', bins=[0.0,0.1,0.2,0.3,0.4,0.5,0.6,0.7,0.8,0.9,1.0])"
   ]
  },
  {
   "cell_type": "code",
   "execution_count": null,
   "metadata": {},
   "outputs": [],
   "source": [
    "application_train['EXT_SOURCE_1'].plot(kind='hist', bins=[0.0,0.2,0.4,0.6,0.8,1.0])"
   ]
  },
  {
   "cell_type": "code",
   "execution_count": null,
   "metadata": {},
   "outputs": [],
   "source": [
    "application_train['EXT_SOURCE_2'].plot(kind='hist', bins=[0.0,0.2,0.4,0.6,0.8,1.0])"
   ]
  },
  {
   "cell_type": "code",
   "execution_count": null,
   "metadata": {},
   "outputs": [],
   "source": [
    "application_train['EXT_SOURCE_3'].plot(kind='hist', bins=[0.0,0.2,0.4,0.6,0.8,1.0])"
   ]
  },
  {
   "cell_type": "code",
   "execution_count": null,
   "metadata": {},
   "outputs": [],
   "source": []
  },
  {
   "cell_type": "code",
   "execution_count": null,
   "metadata": {},
   "outputs": [],
   "source": [
    "# https://community.modeanalytics.com/python/tutorial/python-histograms-boxplots-and-distributions/\n",
    "bin_values = np.arange(start=0, stop=1, step=0.2)\n",
    "us_mq_airlines_index = application_train['TARGET'].isin(['US','MQ']) # create index\n",
    "us_mq_airlines = application_train[us_mq_airlines_index] # select rows\n",
    "group_carriers = us_mq_airlines.groupby('TARGET')['EXT_SOURCE_1'] # group values\n",
    "group_carriers.plot(kind='hist', bins=bin_values, figsize=[12,6], alpha=.4, legend=True) # alpha for transparency"
   ]
  },
  {
   "cell_type": "code",
   "execution_count": null,
   "metadata": {},
   "outputs": [],
   "source": []
  },
  {
   "cell_type": "code",
   "execution_count": null,
   "metadata": {},
   "outputs": [],
   "source": [
    "application_train['EXT_SOURCE_1'].plot(kind='box', figsize=[16,8])"
   ]
  },
  {
   "cell_type": "code",
   "execution_count": null,
   "metadata": {},
   "outputs": [],
   "source": [
    "application_train['EXT_SOURCE_2'].plot(kind='box', figsize=[16,8])"
   ]
  },
  {
   "cell_type": "code",
   "execution_count": null,
   "metadata": {},
   "outputs": [],
   "source": [
    "application_train['EXT_SOURCE_3'].plot(kind='box', figsize=[16,8])"
   ]
  },
  {
   "cell_type": "code",
   "execution_count": null,
   "metadata": {},
   "outputs": [],
   "source": []
  },
  {
   "cell_type": "code",
   "execution_count": null,
   "metadata": {},
   "outputs": [],
   "source": [
    "# Define a function to create the scatterplot. This makes it easy to\n",
    "# reuse code within and across notebooks\n",
    "def scatterplot(x_data, y_data, x_label, y_label, title):\n",
    "\n",
    "    # Create the plot object\n",
    "    _, ax = plt.subplots()\n",
    "\n",
    "    # Plot the data, set the size (s), color and transparency (alpha) of the points\n",
    "    ax.scatter(x_data, y_data, s = 30, color = '#539caf', alpha = 0.75)\n",
    "\n",
    "    # Label the axes and provide a title\n",
    "    ax.set_title(title)\n",
    "    ax.set_xlabel(x_label)\n",
    "    ax.set_ylabel(y_label)"
   ]
  },
  {
   "cell_type": "code",
   "execution_count": null,
   "metadata": {},
   "outputs": [],
   "source": [
    "## Call the function to create plot\n",
    "#scatterplot(x_data = daily_data['temp']\n",
    "#            , y_data = daily_data['cnt']\n",
    "#            , x_label = 'Normalized temperature (C)'\n",
    "#            , y_label = 'Check outs'\n",
    "#            , title = 'Number of Check Outs vs Temperature')"
   ]
  },
  {
   "cell_type": "code",
   "execution_count": null,
   "metadata": {},
   "outputs": [],
   "source": [
    "# Call the function to create plot\n",
    "scatterplot(x_data = application_train['EXT_SOURCE_1']\n",
    "            , y_data = application_train['EXT_SOURCE_2']\n",
    "            , x_label = 'EXT_SOURCE_1'\n",
    "            , y_label = 'EXT_SOURCE_2'\n",
    "            , title = 'EXT_SOURCE_1 vs. EXT_SOURCE_2'\n",
    "           )"
   ]
  },
  {
   "cell_type": "code",
   "execution_count": null,
   "metadata": {},
   "outputs": [],
   "source": [
    "# Call the function to create plot\n",
    "scatterplot(x_data = application_train['EXT_SOURCE_1']\n",
    "            , y_data = application_train['EXT_SOURCE_3']\n",
    "            , x_label = 'EXT_SOURCE_1'\n",
    "            , y_label = 'EXT_SOURCE_2'\n",
    "            , title = 'EXT_SOURCE_1 vs. EXT_SOURCE_3'\n",
    "           )"
   ]
  },
  {
   "cell_type": "code",
   "execution_count": null,
   "metadata": {},
   "outputs": [],
   "source": [
    "# Call the function to create plot\n",
    "scatterplot(x_data = application_train['EXT_SOURCE_2']\n",
    "            , y_data = application_train['EXT_SOURCE_3']\n",
    "            , x_label = 'EXT_SOURCE_2'\n",
    "            , y_label = 'EXT_SOURCE_3'\n",
    "            , title = 'EXT_SOURCE_2 vs. EXT_SOURCE_3'\n",
    "           )"
   ]
  },
  {
   "cell_type": "code",
   "execution_count": null,
   "metadata": {},
   "outputs": [],
   "source": []
  },
  {
   "cell_type": "code",
   "execution_count": null,
   "metadata": {},
   "outputs": [],
   "source": [
    "application_train__ext_source_1__dropna = application_train.loc[:,['EXT_SOURCE_1','TARGET']]\n",
    "application_train__ext_source_1__dropna.dropna(inplace = True)\n",
    "scipy.stats.pointbiserialr(application_train__ext_source_1__dropna['EXT_SOURCE_1'], application_train__ext_source_1__dropna['TARGET'])"
   ]
  },
  {
   "cell_type": "code",
   "execution_count": null,
   "metadata": {},
   "outputs": [],
   "source": [
    "application_train__ext_source_2__dropna = application_train.loc[:,['EXT_SOURCE_2','TARGET']]\n",
    "application_train__ext_source_2__dropna.dropna(inplace = True)\n",
    "scipy.stats.pointbiserialr(application_train__ext_source_2__dropna['EXT_SOURCE_2'], application_train__ext_source_2__dropna['TARGET'])"
   ]
  },
  {
   "cell_type": "code",
   "execution_count": null,
   "metadata": {},
   "outputs": [],
   "source": [
    "application_train__ext_source_3__dropna = application_train.loc[:,['EXT_SOURCE_3','TARGET']]\n",
    "application_train__ext_source_3__dropna.dropna(inplace = True)\n",
    "scipy.stats.pointbiserialr(application_train__ext_source_3__dropna['EXT_SOURCE_3'], application_train__ext_source_3__dropna['TARGET'])"
   ]
  },
  {
   "cell_type": "code",
   "execution_count": null,
   "metadata": {},
   "outputs": [],
   "source": []
  },
  {
   "cell_type": "code",
   "execution_count": null,
   "metadata": {},
   "outputs": [],
   "source": [
    "scipy.stats.pearsonr(application_train__ext_source_1__dropna['EXT_SOURCE_1'], application_train__ext_source_1__dropna['TARGET'])"
   ]
  },
  {
   "cell_type": "code",
   "execution_count": null,
   "metadata": {},
   "outputs": [],
   "source": [
    "scipy.stats.pearsonr(application_train__ext_source_2__dropna['EXT_SOURCE_2'], application_train__ext_source_2__dropna['TARGET'])"
   ]
  },
  {
   "cell_type": "code",
   "execution_count": null,
   "metadata": {},
   "outputs": [],
   "source": [
    "scipy.stats.pearsonr(application_train__ext_source_3__dropna['EXT_SOURCE_3'], application_train__ext_source_3__dropna['TARGET'])"
   ]
  },
  {
   "cell_type": "code",
   "execution_count": null,
   "metadata": {},
   "outputs": [],
   "source": []
  },
  {
   "cell_type": "code",
   "execution_count": null,
   "metadata": {},
   "outputs": [],
   "source": [
    "np.corrcoef(application_train__ext_source_1__dropna['EXT_SOURCE_1'], application_train__ext_source_1__dropna['TARGET'])"
   ]
  },
  {
   "cell_type": "code",
   "execution_count": null,
   "metadata": {},
   "outputs": [],
   "source": [
    "np.corrcoef(application_train__ext_source_2__dropna['EXT_SOURCE_2'], application_train__ext_source_2__dropna['TARGET'])"
   ]
  },
  {
   "cell_type": "code",
   "execution_count": null,
   "metadata": {},
   "outputs": [],
   "source": [
    "np.corrcoef(application_train__ext_source_3__dropna['EXT_SOURCE_3'], application_train__ext_source_3__dropna['TARGET'])"
   ]
  },
  {
   "cell_type": "code",
   "execution_count": null,
   "metadata": {},
   "outputs": [],
   "source": []
  },
  {
   "cell_type": "code",
   "execution_count": null,
   "metadata": {},
   "outputs": [],
   "source": []
  },
  {
   "cell_type": "code",
   "execution_count": null,
   "metadata": {},
   "outputs": [],
   "source": []
  },
  {
   "cell_type": "code",
   "execution_count": null,
   "metadata": {},
   "outputs": [],
   "source": []
  },
  {
   "cell_type": "code",
   "execution_count": null,
   "metadata": {},
   "outputs": [],
   "source": [
    "temp = previous_application[\"NAME_CONTRACT_TYPE\"].value_counts()\n",
    "fig = {\n",
    "  \"data\": [\n",
    "    {\n",
    "      \"values\": temp.values,\n",
    "      \"labels\": temp.index,\n",
    "      \"domain\": {\"x\": [0, .48]},\n",
    "      #\"name\": \"Types of Loans\",\n",
    "      #\"hoverinfo\":\"label+percent+name\",\n",
    "      \"hole\": .7,\n",
    "      \"type\": \"pie\"\n",
    "    },\n",
    "    \n",
    "    ],\n",
    "  \"layout\": {\n",
    "        \"title\":\"Contract product type of previous application\",\n",
    "        \"annotations\": [\n",
    "            {\n",
    "                \"font\": {\n",
    "                    \"size\": 20\n",
    "                },\n",
    "                \"showarrow\": False,\n",
    "                \"text\": \"Contract product type\",\n",
    "                \"x\": 0.12,\n",
    "                \"y\": 0.5\n",
    "            }\n",
    "            \n",
    "        ]\n",
    "    }\n",
    "}\n",
    "iplot(fig, filename='donut')"
   ]
  },
  {
   "cell_type": "code",
   "execution_count": null,
   "metadata": {},
   "outputs": [],
   "source": []
  },
  {
   "cell_type": "markdown",
   "metadata": {},
   "source": [
    "# Pearson Correlation of features"
   ]
  },
  {
   "cell_type": "code",
   "execution_count": null,
   "metadata": {},
   "outputs": [],
   "source": [
    "data = [\n",
    "    go.Heatmap(\n",
    "        z=application_train.corr().values,\n",
    "        x=application_train.columns.values,\n",
    "        y=application_train.columns.values,\n",
    "        colorscale='Viridis',\n",
    "        reversescale = False,\n",
    "        text = True ,\n",
    "        opacity = 1.0 )\n",
    "]\n",
    "\n",
    "layout = go.Layout(\n",
    "    title='Pearson Correlation of features',\n",
    "    xaxis = dict(ticks='', nticks=36),\n",
    "    yaxis = dict(ticks='' ),\n",
    "    width = 900, height = 700,\n",
    "margin=dict(\n",
    "    l=240,\n",
    "),)\n",
    "\n",
    "fig = go.Figure(data=data, layout=layout)\n",
    "py.iplot(fig, filename='labelled-heatmap')"
   ]
  },
  {
   "cell_type": "code",
   "execution_count": null,
   "metadata": {},
   "outputs": [],
   "source": []
  },
  {
   "cell_type": "markdown",
   "metadata": {},
   "source": [
    "# Multicollinearity\n",
    "https://stackoverflow.com/questions/25676145/capturing-high-multi-collinearity-in-statsmodels/44012251#44012251\n",
    "https://stackoverflow.com/questions/25676145/capturing-high-multi-collinearity-in-statsmodels/25833792#25833792\n",
    "https://onlinecourses.science.psu.edu/stat501/node/347/\n"
   ]
  },
  {
   "cell_type": "code",
   "execution_count": null,
   "metadata": {},
   "outputs": [],
   "source": [
    "## https://stackoverflow.com/questions/25676145/capturing-high-multi-collinearity-in-statsmodels/44012251#44012251\n",
    "##...looking for a single number that captured the collinearity\n",
    "##...options include the determinant and condition number of the correlation matrix\n",
    "##...determinant of the correlation matrix will \"range from 0 (Perfect Collinearity) to 1 (No Collinearity)\""
   ]
  },
  {
   "cell_type": "code",
   "execution_count": null,
   "metadata": {},
   "outputs": [],
   "source": [
    "# Compute correlation matrices\n",
    "pearson_product_moment_correlation_coefficients = np.corrcoef(application_train, rowvar=0)\n",
    "## https://docs.scipy.org/doc/numpy/reference/generated/numpy.corrcoef.html\n",
    "## Return Pearson product-moment correlation coefficients."
   ]
  },
  {
   "cell_type": "code",
   "execution_count": null,
   "metadata": {},
   "outputs": [],
   "source": [
    "# Compare the determinants\n",
    "print np.linalg.det(pearson_product_moment_correlation_coefficients)"
   ]
  },
  {
   "cell_type": "code",
   "execution_count": null,
   "metadata": {},
   "outputs": [],
   "source": [
    "# the condition number of the covariance matrix will approach infinity with perfect linear dependence\n",
    "print np.linalg.cond(pearson_product_moment_correlation_coefficients)"
   ]
  },
  {
   "cell_type": "code",
   "execution_count": null,
   "metadata": {},
   "outputs": [],
   "source": []
  },
  {
   "cell_type": "code",
   "execution_count": null,
   "metadata": {},
   "outputs": [],
   "source": [
    "application_train.info()"
   ]
  },
  {
   "cell_type": "code",
   "execution_count": null,
   "metadata": {},
   "outputs": [],
   "source": [
    "application_train.info(memory_usage='deep')"
   ]
  },
  {
   "cell_type": "code",
   "execution_count": null,
   "metadata": {},
   "outputs": [],
   "source": [
    "application_train.memory_usage()"
   ]
  },
  {
   "cell_type": "code",
   "execution_count": null,
   "metadata": {},
   "outputs": [],
   "source": [
    "application_train.memory_usage(index=False)"
   ]
  },
  {
   "cell_type": "code",
   "execution_count": null,
   "metadata": {},
   "outputs": [],
   "source": []
  },
  {
   "cell_type": "code",
   "execution_count": null,
   "metadata": {},
   "outputs": [],
   "source": [
    "# https://towardsdatascience.com/automated-feature-engineering-in-python-99baf11cc219\n",
    "# Group loans by client id and calculate mean, max, min of loans\n",
    "stats = loans.groupby('client_id')['loan_amount'].agg(['mean', 'max', 'min'])\n",
    "stats.columns = ['mean_loan_amount', 'max_loan_amount', 'min_loan_amount']\n",
    "\n",
    "# Merge with the clients dataframe\n",
    "stats = clients.merge(stats, left_on = 'client_id', right_index=True, how = 'left')\n",
    "\n",
    "stats.head(10)"
   ]
  },
  {
   "cell_type": "code",
   "execution_count": null,
   "metadata": {},
   "outputs": [],
   "source": []
  },
  {
   "cell_type": "code",
   "execution_count": 98,
   "metadata": {},
   "outputs": [
    {
     "data": {
      "text/plain": [
       "(0.658352492788782, 0.34164750721121795)"
      ]
     },
     "execution_count": 98,
     "metadata": {},
     "output_type": "execute_result"
    }
   ],
   "source": [
    "#F      202448\n",
    "#M      105059\n",
    "#XNA         4\n",
    "#Name: CODE_GENDER, dtype: int64\n",
    "202448 / (202448 + 105059), 105059 / (202448 + 105059)"
   ]
  },
  {
   "cell_type": "code",
   "execution_count": 99,
   "metadata": {},
   "outputs": [
    {
     "data": {
      "text/plain": [
       "(2.633409971155128, 1.3665900288448718)"
      ]
     },
     "execution_count": 99,
     "metadata": {},
     "output_type": "execute_result"
    }
   ],
   "source": [
    "#F      202448\n",
    "#M      105059\n",
    "#XNA         4\n",
    "#Name: CODE_GENDER, dtype: int64\n",
    "(4 * 0.658352492788782), (4 * 0.34164750721121795)"
   ]
  },
  {
   "cell_type": "code",
   "execution_count": 100,
   "metadata": {},
   "outputs": [],
   "source": [
    "# Female: 202448 (0.6584) Male: 105059 (0.3417)"
   ]
  },
  {
   "cell_type": "code",
   "execution_count": null,
   "metadata": {},
   "outputs": [],
   "source": []
  }
 ],
 "metadata": {
  "kernelspec": {
   "display_name": "Python 3",
   "language": "python",
   "name": "python3"
  },
  "language_info": {
   "codemirror_mode": {
    "name": "ipython",
    "version": 3
   },
   "file_extension": ".py",
   "mimetype": "text/x-python",
   "name": "python",
   "nbconvert_exporter": "python",
   "pygments_lexer": "ipython3",
   "version": "3.6.3"
  }
 },
 "nbformat": 4,
 "nbformat_minor": 2
}
