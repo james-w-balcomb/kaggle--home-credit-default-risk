{
 "cells": [
  {
   "cell_type": "code",
   "execution_count": 1,
   "metadata": {},
   "outputs": [
    {
     "data": {
      "text/html": [
       "<script>requirejs.config({paths: { 'plotly': ['https://cdn.plot.ly/plotly-latest.min']},});if(!window.Plotly) {{require(['plotly'],function(plotly) {window.Plotly=plotly;});}}</script>"
      ],
      "text/vnd.plotly.v1+html": [
       "<script>requirejs.config({paths: { 'plotly': ['https://cdn.plot.ly/plotly-latest.min']},});if(!window.Plotly) {{require(['plotly'],function(plotly) {window.Plotly=plotly;});}}</script>"
      ]
     },
     "metadata": {},
     "output_type": "display_data"
    },
    {
     "name": "stdout",
     "output_type": "stream",
     "text": [
      "Python version: 3.6.3 |Anaconda custom (64-bit)| (default, Oct 15 2017, 03:27:45) [MSC v.1900 64 bit (AMD64)]\n",
      "pandas version: 0.20.3\n",
      "NumPy version: 1.14.3\n",
      "SciPy version: 1.1.0\n",
      "scikit-learn version: 0.19.1\n",
      "matplotlib version: 2.1.0\n",
      "IPython version: 6.1.0\n",
      "Using Hard-Coded Configuration for data_file_path\n",
      "data_file_path:  C:/Development/kaggle--home-credit-default-risk/data/\n",
      "data_file_name:  application_train.csv\n"
     ]
    }
   ],
   "source": [
    "%run NB01-Load.ipynb"
   ]
  },
  {
   "cell_type": "code",
   "execution_count": 2,
   "metadata": {},
   "outputs": [],
   "source": [
    "# Current Data-Frame\n",
    "df_current = 'application_train'"
   ]
  },
  {
   "cell_type": "code",
   "execution_count": 3,
   "metadata": {},
   "outputs": [],
   "source": [
    "# Master Data-Frame\n",
    "df_master = 'application_train'"
   ]
  },
  {
   "cell_type": "code",
   "execution_count": 4,
   "metadata": {},
   "outputs": [
    {
     "name": "stdout",
     "output_type": "stream",
     "text": [
      "\n",
      " df_row_count:  307511 \n",
      " df_column_count:  122 \n",
      "\n"
     ]
    }
   ],
   "source": [
    "# Count of Rows\n",
    "# Count of Columns\n",
    "df_row_count, df_column_count = df.shape\n",
    "print('\\n', 'df_row_count: ', df_row_count, '\\n', 'df_column_count: ', df_column_count, '\\n')"
   ]
  },
  {
   "cell_type": "code",
   "execution_count": 5,
   "metadata": {},
   "outputs": [
    {
     "name": "stdout",
     "output_type": "stream",
     "text": [
      "\n",
      " df_values_count_total:  37516342 \n",
      "\n"
     ]
    }
   ],
   "source": [
    "# Total Values Count\n",
    "df_values_count_total = df_row_count * df_column_count\n",
    "print('\\n', 'df_values_count_total: ', df_values_count_total, '\\n')"
   ]
  },
  {
   "cell_type": "code",
   "execution_count": 6,
   "metadata": {},
   "outputs": [
    {
     "name": "stdout",
     "output_type": "stream",
     "text": [
      "\n",
      " df_column_names:  \n",
      " ['SK_ID_CURR', 'TARGET', 'NAME_CONTRACT_TYPE', 'CODE_GENDER', 'FLAG_OWN_CAR', 'FLAG_OWN_REALTY', 'CNT_CHILDREN', 'AMT_INCOME_TOTAL', 'AMT_CREDIT', 'AMT_ANNUITY', 'AMT_GOODS_PRICE', 'NAME_TYPE_SUITE', 'NAME_INCOME_TYPE', 'NAME_EDUCATION_TYPE', 'NAME_FAMILY_STATUS', 'NAME_HOUSING_TYPE', 'REGION_POPULATION_RELATIVE', 'DAYS_BIRTH', 'DAYS_EMPLOYED', 'DAYS_REGISTRATION', 'DAYS_ID_PUBLISH', 'OWN_CAR_AGE', 'FLAG_MOBIL', 'FLAG_EMP_PHONE', 'FLAG_WORK_PHONE', 'FLAG_CONT_MOBILE', 'FLAG_PHONE', 'FLAG_EMAIL', 'OCCUPATION_TYPE', 'CNT_FAM_MEMBERS', 'REGION_RATING_CLIENT', 'REGION_RATING_CLIENT_W_CITY', 'WEEKDAY_APPR_PROCESS_START', 'HOUR_APPR_PROCESS_START', 'REG_REGION_NOT_LIVE_REGION', 'REG_REGION_NOT_WORK_REGION', 'LIVE_REGION_NOT_WORK_REGION', 'REG_CITY_NOT_LIVE_CITY', 'REG_CITY_NOT_WORK_CITY', 'LIVE_CITY_NOT_WORK_CITY', 'ORGANIZATION_TYPE', 'EXT_SOURCE_1', 'EXT_SOURCE_2', 'EXT_SOURCE_3', 'APARTMENTS_AVG', 'BASEMENTAREA_AVG', 'YEARS_BEGINEXPLUATATION_AVG', 'YEARS_BUILD_AVG', 'COMMONAREA_AVG', 'ELEVATORS_AVG', 'ENTRANCES_AVG', 'FLOORSMAX_AVG', 'FLOORSMIN_AVG', 'LANDAREA_AVG', 'LIVINGAPARTMENTS_AVG', 'LIVINGAREA_AVG', 'NONLIVINGAPARTMENTS_AVG', 'NONLIVINGAREA_AVG', 'APARTMENTS_MODE', 'BASEMENTAREA_MODE', 'YEARS_BEGINEXPLUATATION_MODE', 'YEARS_BUILD_MODE', 'COMMONAREA_MODE', 'ELEVATORS_MODE', 'ENTRANCES_MODE', 'FLOORSMAX_MODE', 'FLOORSMIN_MODE', 'LANDAREA_MODE', 'LIVINGAPARTMENTS_MODE', 'LIVINGAREA_MODE', 'NONLIVINGAPARTMENTS_MODE', 'NONLIVINGAREA_MODE', 'APARTMENTS_MEDI', 'BASEMENTAREA_MEDI', 'YEARS_BEGINEXPLUATATION_MEDI', 'YEARS_BUILD_MEDI', 'COMMONAREA_MEDI', 'ELEVATORS_MEDI', 'ENTRANCES_MEDI', 'FLOORSMAX_MEDI', 'FLOORSMIN_MEDI', 'LANDAREA_MEDI', 'LIVINGAPARTMENTS_MEDI', 'LIVINGAREA_MEDI', 'NONLIVINGAPARTMENTS_MEDI', 'NONLIVINGAREA_MEDI', 'FONDKAPREMONT_MODE', 'HOUSETYPE_MODE', 'TOTALAREA_MODE', 'WALLSMATERIAL_MODE', 'EMERGENCYSTATE_MODE', 'OBS_30_CNT_SOCIAL_CIRCLE', 'DEF_30_CNT_SOCIAL_CIRCLE', 'OBS_60_CNT_SOCIAL_CIRCLE', 'DEF_60_CNT_SOCIAL_CIRCLE', 'DAYS_LAST_PHONE_CHANGE', 'FLAG_DOCUMENT_2', 'FLAG_DOCUMENT_3', 'FLAG_DOCUMENT_4', 'FLAG_DOCUMENT_5', 'FLAG_DOCUMENT_6', 'FLAG_DOCUMENT_7', 'FLAG_DOCUMENT_8', 'FLAG_DOCUMENT_9', 'FLAG_DOCUMENT_10', 'FLAG_DOCUMENT_11', 'FLAG_DOCUMENT_12', 'FLAG_DOCUMENT_13', 'FLAG_DOCUMENT_14', 'FLAG_DOCUMENT_15', 'FLAG_DOCUMENT_16', 'FLAG_DOCUMENT_17', 'FLAG_DOCUMENT_18', 'FLAG_DOCUMENT_19', 'FLAG_DOCUMENT_20', 'FLAG_DOCUMENT_21', 'AMT_REQ_CREDIT_BUREAU_HOUR', 'AMT_REQ_CREDIT_BUREAU_DAY', 'AMT_REQ_CREDIT_BUREAU_WEEK', 'AMT_REQ_CREDIT_BUREAU_MON', 'AMT_REQ_CREDIT_BUREAU_QRT', 'AMT_REQ_CREDIT_BUREAU_YEAR'] \n",
      "\n"
     ]
    }
   ],
   "source": [
    "# Column Names\n",
    "df_column_names = df.columns.tolist()\n",
    "print('\\n', 'df_column_names: ', '\\n', df_column_names, '\\n')"
   ]
  },
  {
   "cell_type": "code",
   "execution_count": 7,
   "metadata": {},
   "outputs": [
    {
     "name": "stdout",
     "output_type": "stream",
     "text": [
      "\n",
      " df_column_dtypes:  \n",
      " SK_ID_CURR                      int64\n",
      "TARGET                          int64\n",
      "NAME_CONTRACT_TYPE             object\n",
      "CODE_GENDER                    object\n",
      "FLAG_OWN_CAR                   object\n",
      "FLAG_OWN_REALTY                object\n",
      "CNT_CHILDREN                    int64\n",
      "AMT_INCOME_TOTAL              float64\n",
      "AMT_CREDIT                    float64\n",
      "AMT_ANNUITY                   float64\n",
      "AMT_GOODS_PRICE               float64\n",
      "NAME_TYPE_SUITE                object\n",
      "NAME_INCOME_TYPE               object\n",
      "NAME_EDUCATION_TYPE            object\n",
      "NAME_FAMILY_STATUS             object\n",
      "NAME_HOUSING_TYPE              object\n",
      "REGION_POPULATION_RELATIVE    float64\n",
      "DAYS_BIRTH                      int64\n",
      "DAYS_EMPLOYED                   int64\n",
      "DAYS_REGISTRATION             float64\n",
      "DAYS_ID_PUBLISH                 int64\n",
      "OWN_CAR_AGE                   float64\n",
      "FLAG_MOBIL                      int64\n",
      "FLAG_EMP_PHONE                  int64\n",
      "FLAG_WORK_PHONE                 int64\n",
      "FLAG_CONT_MOBILE                int64\n",
      "FLAG_PHONE                      int64\n",
      "FLAG_EMAIL                      int64\n",
      "OCCUPATION_TYPE                object\n",
      "CNT_FAM_MEMBERS               float64\n",
      "                               ...   \n",
      "DEF_30_CNT_SOCIAL_CIRCLE      float64\n",
      "OBS_60_CNT_SOCIAL_CIRCLE      float64\n",
      "DEF_60_CNT_SOCIAL_CIRCLE      float64\n",
      "DAYS_LAST_PHONE_CHANGE        float64\n",
      "FLAG_DOCUMENT_2                 int64\n",
      "FLAG_DOCUMENT_3                 int64\n",
      "FLAG_DOCUMENT_4                 int64\n",
      "FLAG_DOCUMENT_5                 int64\n",
      "FLAG_DOCUMENT_6                 int64\n",
      "FLAG_DOCUMENT_7                 int64\n",
      "FLAG_DOCUMENT_8                 int64\n",
      "FLAG_DOCUMENT_9                 int64\n",
      "FLAG_DOCUMENT_10                int64\n",
      "FLAG_DOCUMENT_11                int64\n",
      "FLAG_DOCUMENT_12                int64\n",
      "FLAG_DOCUMENT_13                int64\n",
      "FLAG_DOCUMENT_14                int64\n",
      "FLAG_DOCUMENT_15                int64\n",
      "FLAG_DOCUMENT_16                int64\n",
      "FLAG_DOCUMENT_17                int64\n",
      "FLAG_DOCUMENT_18                int64\n",
      "FLAG_DOCUMENT_19                int64\n",
      "FLAG_DOCUMENT_20                int64\n",
      "FLAG_DOCUMENT_21                int64\n",
      "AMT_REQ_CREDIT_BUREAU_HOUR    float64\n",
      "AMT_REQ_CREDIT_BUREAU_DAY     float64\n",
      "AMT_REQ_CREDIT_BUREAU_WEEK    float64\n",
      "AMT_REQ_CREDIT_BUREAU_MON     float64\n",
      "AMT_REQ_CREDIT_BUREAU_QRT     float64\n",
      "AMT_REQ_CREDIT_BUREAU_YEAR    float64\n",
      "Length: 122, dtype: object \n",
      "\n"
     ]
    }
   ],
   "source": [
    "# Column Data Types\n",
    "df_column_dtypes = df.dtypes\n",
    "print('\\n', 'df_column_dtypes: ', '\\n', df_column_dtypes, '\\n')"
   ]
  },
  {
   "cell_type": "code",
   "execution_count": 8,
   "metadata": {},
   "outputs": [
    {
     "name": "stdout",
     "output_type": "stream",
     "text": [
      "\n",
      " df_column_dtype_groups:  \n",
      " {dtype('int64'): Index(['SK_ID_CURR', 'TARGET', 'CNT_CHILDREN', 'DAYS_BIRTH', 'DAYS_EMPLOYED',\n",
      "       'DAYS_ID_PUBLISH', 'FLAG_MOBIL', 'FLAG_EMP_PHONE', 'FLAG_WORK_PHONE',\n",
      "       'FLAG_CONT_MOBILE', 'FLAG_PHONE', 'FLAG_EMAIL', 'REGION_RATING_CLIENT',\n",
      "       'REGION_RATING_CLIENT_W_CITY', 'HOUR_APPR_PROCESS_START',\n",
      "       'REG_REGION_NOT_LIVE_REGION', 'REG_REGION_NOT_WORK_REGION',\n",
      "       'LIVE_REGION_NOT_WORK_REGION', 'REG_CITY_NOT_LIVE_CITY',\n",
      "       'REG_CITY_NOT_WORK_CITY', 'LIVE_CITY_NOT_WORK_CITY', 'FLAG_DOCUMENT_2',\n",
      "       'FLAG_DOCUMENT_3', 'FLAG_DOCUMENT_4', 'FLAG_DOCUMENT_5',\n",
      "       'FLAG_DOCUMENT_6', 'FLAG_DOCUMENT_7', 'FLAG_DOCUMENT_8',\n",
      "       'FLAG_DOCUMENT_9', 'FLAG_DOCUMENT_10', 'FLAG_DOCUMENT_11',\n",
      "       'FLAG_DOCUMENT_12', 'FLAG_DOCUMENT_13', 'FLAG_DOCUMENT_14',\n",
      "       'FLAG_DOCUMENT_15', 'FLAG_DOCUMENT_16', 'FLAG_DOCUMENT_17',\n",
      "       'FLAG_DOCUMENT_18', 'FLAG_DOCUMENT_19', 'FLAG_DOCUMENT_20',\n",
      "       'FLAG_DOCUMENT_21'],\n",
      "      dtype='object'), dtype('float64'): Index(['AMT_INCOME_TOTAL', 'AMT_CREDIT', 'AMT_ANNUITY', 'AMT_GOODS_PRICE',\n",
      "       'REGION_POPULATION_RELATIVE', 'DAYS_REGISTRATION', 'OWN_CAR_AGE',\n",
      "       'CNT_FAM_MEMBERS', 'EXT_SOURCE_1', 'EXT_SOURCE_2', 'EXT_SOURCE_3',\n",
      "       'APARTMENTS_AVG', 'BASEMENTAREA_AVG', 'YEARS_BEGINEXPLUATATION_AVG',\n",
      "       'YEARS_BUILD_AVG', 'COMMONAREA_AVG', 'ELEVATORS_AVG', 'ENTRANCES_AVG',\n",
      "       'FLOORSMAX_AVG', 'FLOORSMIN_AVG', 'LANDAREA_AVG',\n",
      "       'LIVINGAPARTMENTS_AVG', 'LIVINGAREA_AVG', 'NONLIVINGAPARTMENTS_AVG',\n",
      "       'NONLIVINGAREA_AVG', 'APARTMENTS_MODE', 'BASEMENTAREA_MODE',\n",
      "       'YEARS_BEGINEXPLUATATION_MODE', 'YEARS_BUILD_MODE', 'COMMONAREA_MODE',\n",
      "       'ELEVATORS_MODE', 'ENTRANCES_MODE', 'FLOORSMAX_MODE', 'FLOORSMIN_MODE',\n",
      "       'LANDAREA_MODE', 'LIVINGAPARTMENTS_MODE', 'LIVINGAREA_MODE',\n",
      "       'NONLIVINGAPARTMENTS_MODE', 'NONLIVINGAREA_MODE', 'APARTMENTS_MEDI',\n",
      "       'BASEMENTAREA_MEDI', 'YEARS_BEGINEXPLUATATION_MEDI', 'YEARS_BUILD_MEDI',\n",
      "       'COMMONAREA_MEDI', 'ELEVATORS_MEDI', 'ENTRANCES_MEDI', 'FLOORSMAX_MEDI',\n",
      "       'FLOORSMIN_MEDI', 'LANDAREA_MEDI', 'LIVINGAPARTMENTS_MEDI',\n",
      "       'LIVINGAREA_MEDI', 'NONLIVINGAPARTMENTS_MEDI', 'NONLIVINGAREA_MEDI',\n",
      "       'TOTALAREA_MODE', 'OBS_30_CNT_SOCIAL_CIRCLE',\n",
      "       'DEF_30_CNT_SOCIAL_CIRCLE', 'OBS_60_CNT_SOCIAL_CIRCLE',\n",
      "       'DEF_60_CNT_SOCIAL_CIRCLE', 'DAYS_LAST_PHONE_CHANGE',\n",
      "       'AMT_REQ_CREDIT_BUREAU_HOUR', 'AMT_REQ_CREDIT_BUREAU_DAY',\n",
      "       'AMT_REQ_CREDIT_BUREAU_WEEK', 'AMT_REQ_CREDIT_BUREAU_MON',\n",
      "       'AMT_REQ_CREDIT_BUREAU_QRT', 'AMT_REQ_CREDIT_BUREAU_YEAR'],\n",
      "      dtype='object'), dtype('O'): Index(['NAME_CONTRACT_TYPE', 'CODE_GENDER', 'FLAG_OWN_CAR', 'FLAG_OWN_REALTY',\n",
      "       'NAME_TYPE_SUITE', 'NAME_INCOME_TYPE', 'NAME_EDUCATION_TYPE',\n",
      "       'NAME_FAMILY_STATUS', 'NAME_HOUSING_TYPE', 'OCCUPATION_TYPE',\n",
      "       'WEEKDAY_APPR_PROCESS_START', 'ORGANIZATION_TYPE', 'FONDKAPREMONT_MODE',\n",
      "       'HOUSETYPE_MODE', 'WALLSMATERIAL_MODE', 'EMERGENCYSTATE_MODE'],\n",
      "      dtype='object')} \n",
      "\n"
     ]
    }
   ],
   "source": [
    "# Column Data Types Groups\n",
    "df_column_dtype_groups = df.columns.to_series().groupby(df.dtypes).groups\n",
    "print('\\n', 'df_column_dtype_groups: ', '\\n', df_column_dtype_groups, '\\n')"
   ]
  },
  {
   "cell_type": "code",
   "execution_count": 9,
   "metadata": {},
   "outputs": [
    {
     "name": "stdout",
     "output_type": "stream",
     "text": [
      "\n",
      " df_missing_values_flag:  True \n",
      "\n"
     ]
    }
   ],
   "source": [
    "# Any Missing Values\n",
    "df_missing_values_flag = df.isnull().values.any()\n",
    "print('\\n', 'df_missing_values_flag: ', df_missing_values_flag, '\\n')"
   ]
  },
  {
   "cell_type": "code",
   "execution_count": 10,
   "metadata": {},
   "outputs": [
    {
     "name": "stdout",
     "output_type": "stream",
     "text": [
      "\n",
      " df_missing_values_count_total:  9152465 \n",
      "\n"
     ]
    }
   ],
   "source": [
    "# Total Missing Values Count\n",
    "df_missing_values_count_total = df.isnull().sum().sum()\n",
    "print('\\n', 'df_missing_values_count_total: ', df_missing_values_count_total, '\\n')"
   ]
  },
  {
   "cell_type": "code",
   "execution_count": 11,
   "metadata": {},
   "outputs": [
    {
     "name": "stdout",
     "output_type": "stream",
     "text": [
      "\n",
      " df_missing_values_percentage_total:  0.24395941907129431 \n",
      "\n"
     ]
    }
   ],
   "source": [
    "# Total Missing Values Percentage\n",
    "df_missing_values_percentage_total = df_missing_values_count_total / df_values_count_total\n",
    "print('\\n', 'df_missing_values_percentage_total: ', df_missing_values_percentage_total, '\\n')"
   ]
  },
  {
   "cell_type": "code",
   "execution_count": 12,
   "metadata": {},
   "outputs": [],
   "source": [
    "# Count of Columns with/without Missing Values\n",
    "#df_missing_values_column_count"
   ]
  },
  {
   "cell_type": "code",
   "execution_count": 13,
   "metadata": {},
   "outputs": [],
   "source": [
    "# Count of Rows with/without Missing Values\n",
    "#df_missing_values_row_count"
   ]
  },
  {
   "cell_type": "code",
   "execution_count": 14,
   "metadata": {},
   "outputs": [],
   "source": [
    "# Percentage of Columns with/without Missing Values\n",
    "#df_missing_values_column_percentage"
   ]
  },
  {
   "cell_type": "code",
   "execution_count": 15,
   "metadata": {},
   "outputs": [],
   "source": [
    "# Percentage of Rows with/without Missing Values\n",
    "#df_missing_values_row_percentage"
   ]
  },
  {
   "cell_type": "code",
   "execution_count": 16,
   "metadata": {},
   "outputs": [
    {
     "name": "stdout",
     "output_type": "stream",
     "text": [
      "\n",
      " df_columns_row_count:  \n",
      " {'SK_ID_CURR': 307511, 'TARGET': 307511, 'NAME_CONTRACT_TYPE': 307511, 'CODE_GENDER': 307511, 'FLAG_OWN_CAR': 307511, 'FLAG_OWN_REALTY': 307511, 'CNT_CHILDREN': 307511, 'AMT_INCOME_TOTAL': 307511, 'AMT_CREDIT': 307511, 'AMT_ANNUITY': 307511, 'AMT_GOODS_PRICE': 307511, 'NAME_TYPE_SUITE': 307511, 'NAME_INCOME_TYPE': 307511, 'NAME_EDUCATION_TYPE': 307511, 'NAME_FAMILY_STATUS': 307511, 'NAME_HOUSING_TYPE': 307511, 'REGION_POPULATION_RELATIVE': 307511, 'DAYS_BIRTH': 307511, 'DAYS_EMPLOYED': 307511, 'DAYS_REGISTRATION': 307511, 'DAYS_ID_PUBLISH': 307511, 'OWN_CAR_AGE': 307511, 'FLAG_MOBIL': 307511, 'FLAG_EMP_PHONE': 307511, 'FLAG_WORK_PHONE': 307511, 'FLAG_CONT_MOBILE': 307511, 'FLAG_PHONE': 307511, 'FLAG_EMAIL': 307511, 'OCCUPATION_TYPE': 307511, 'CNT_FAM_MEMBERS': 307511, 'REGION_RATING_CLIENT': 307511, 'REGION_RATING_CLIENT_W_CITY': 307511, 'WEEKDAY_APPR_PROCESS_START': 307511, 'HOUR_APPR_PROCESS_START': 307511, 'REG_REGION_NOT_LIVE_REGION': 307511, 'REG_REGION_NOT_WORK_REGION': 307511, 'LIVE_REGION_NOT_WORK_REGION': 307511, 'REG_CITY_NOT_LIVE_CITY': 307511, 'REG_CITY_NOT_WORK_CITY': 307511, 'LIVE_CITY_NOT_WORK_CITY': 307511, 'ORGANIZATION_TYPE': 307511, 'EXT_SOURCE_1': 307511, 'EXT_SOURCE_2': 307511, 'EXT_SOURCE_3': 307511, 'APARTMENTS_AVG': 307511, 'BASEMENTAREA_AVG': 307511, 'YEARS_BEGINEXPLUATATION_AVG': 307511, 'YEARS_BUILD_AVG': 307511, 'COMMONAREA_AVG': 307511, 'ELEVATORS_AVG': 307511, 'ENTRANCES_AVG': 307511, 'FLOORSMAX_AVG': 307511, 'FLOORSMIN_AVG': 307511, 'LANDAREA_AVG': 307511, 'LIVINGAPARTMENTS_AVG': 307511, 'LIVINGAREA_AVG': 307511, 'NONLIVINGAPARTMENTS_AVG': 307511, 'NONLIVINGAREA_AVG': 307511, 'APARTMENTS_MODE': 307511, 'BASEMENTAREA_MODE': 307511, 'YEARS_BEGINEXPLUATATION_MODE': 307511, 'YEARS_BUILD_MODE': 307511, 'COMMONAREA_MODE': 307511, 'ELEVATORS_MODE': 307511, 'ENTRANCES_MODE': 307511, 'FLOORSMAX_MODE': 307511, 'FLOORSMIN_MODE': 307511, 'LANDAREA_MODE': 307511, 'LIVINGAPARTMENTS_MODE': 307511, 'LIVINGAREA_MODE': 307511, 'NONLIVINGAPARTMENTS_MODE': 307511, 'NONLIVINGAREA_MODE': 307511, 'APARTMENTS_MEDI': 307511, 'BASEMENTAREA_MEDI': 307511, 'YEARS_BEGINEXPLUATATION_MEDI': 307511, 'YEARS_BUILD_MEDI': 307511, 'COMMONAREA_MEDI': 307511, 'ELEVATORS_MEDI': 307511, 'ENTRANCES_MEDI': 307511, 'FLOORSMAX_MEDI': 307511, 'FLOORSMIN_MEDI': 307511, 'LANDAREA_MEDI': 307511, 'LIVINGAPARTMENTS_MEDI': 307511, 'LIVINGAREA_MEDI': 307511, 'NONLIVINGAPARTMENTS_MEDI': 307511, 'NONLIVINGAREA_MEDI': 307511, 'FONDKAPREMONT_MODE': 307511, 'HOUSETYPE_MODE': 307511, 'TOTALAREA_MODE': 307511, 'WALLSMATERIAL_MODE': 307511, 'EMERGENCYSTATE_MODE': 307511, 'OBS_30_CNT_SOCIAL_CIRCLE': 307511, 'DEF_30_CNT_SOCIAL_CIRCLE': 307511, 'OBS_60_CNT_SOCIAL_CIRCLE': 307511, 'DEF_60_CNT_SOCIAL_CIRCLE': 307511, 'DAYS_LAST_PHONE_CHANGE': 307511, 'FLAG_DOCUMENT_2': 307511, 'FLAG_DOCUMENT_3': 307511, 'FLAG_DOCUMENT_4': 307511, 'FLAG_DOCUMENT_5': 307511, 'FLAG_DOCUMENT_6': 307511, 'FLAG_DOCUMENT_7': 307511, 'FLAG_DOCUMENT_8': 307511, 'FLAG_DOCUMENT_9': 307511, 'FLAG_DOCUMENT_10': 307511, 'FLAG_DOCUMENT_11': 307511, 'FLAG_DOCUMENT_12': 307511, 'FLAG_DOCUMENT_13': 307511, 'FLAG_DOCUMENT_14': 307511, 'FLAG_DOCUMENT_15': 307511, 'FLAG_DOCUMENT_16': 307511, 'FLAG_DOCUMENT_17': 307511, 'FLAG_DOCUMENT_18': 307511, 'FLAG_DOCUMENT_19': 307511, 'FLAG_DOCUMENT_20': 307511, 'FLAG_DOCUMENT_21': 307511, 'AMT_REQ_CREDIT_BUREAU_HOUR': 307511, 'AMT_REQ_CREDIT_BUREAU_DAY': 307511, 'AMT_REQ_CREDIT_BUREAU_WEEK': 307511, 'AMT_REQ_CREDIT_BUREAU_MON': 307511, 'AMT_REQ_CREDIT_BUREAU_QRT': 307511, 'AMT_REQ_CREDIT_BUREAU_YEAR': 307511} \n",
      "\n"
     ]
    }
   ],
   "source": [
    "# Count of Rows Per Column\n",
    "df_columns_row_count = {column_name:df_row_count for column_name in df_column_names}\n",
    "print('\\n', 'df_columns_row_count: ', '\\n', df_columns_row_count, '\\n')"
   ]
  },
  {
   "cell_type": "code",
   "execution_count": 17,
   "metadata": {},
   "outputs": [
    {
     "name": "stdout",
     "output_type": "stream",
     "text": [
      "\n",
      " df_columns_number_of_unique_values:  \n",
      " {'SK_ID_CURR': 307511, 'TARGET': 2, 'NAME_CONTRACT_TYPE': 2, 'CODE_GENDER': 3, 'FLAG_OWN_CAR': 2, 'FLAG_OWN_REALTY': 2, 'CNT_CHILDREN': 15, 'AMT_INCOME_TOTAL': 2548, 'AMT_CREDIT': 5603, 'AMT_ANNUITY': 13672, 'AMT_GOODS_PRICE': 1002, 'NAME_TYPE_SUITE': 7, 'NAME_INCOME_TYPE': 8, 'NAME_EDUCATION_TYPE': 5, 'NAME_FAMILY_STATUS': 6, 'NAME_HOUSING_TYPE': 6, 'REGION_POPULATION_RELATIVE': 81, 'DAYS_BIRTH': 17460, 'DAYS_EMPLOYED': 12574, 'DAYS_REGISTRATION': 15688, 'DAYS_ID_PUBLISH': 6168, 'OWN_CAR_AGE': 62, 'FLAG_MOBIL': 2, 'FLAG_EMP_PHONE': 2, 'FLAG_WORK_PHONE': 2, 'FLAG_CONT_MOBILE': 2, 'FLAG_PHONE': 2, 'FLAG_EMAIL': 2, 'OCCUPATION_TYPE': 18, 'CNT_FAM_MEMBERS': 17, 'REGION_RATING_CLIENT': 3, 'REGION_RATING_CLIENT_W_CITY': 3, 'WEEKDAY_APPR_PROCESS_START': 7, 'HOUR_APPR_PROCESS_START': 24, 'REG_REGION_NOT_LIVE_REGION': 2, 'REG_REGION_NOT_WORK_REGION': 2, 'LIVE_REGION_NOT_WORK_REGION': 2, 'REG_CITY_NOT_LIVE_CITY': 2, 'REG_CITY_NOT_WORK_CITY': 2, 'LIVE_CITY_NOT_WORK_CITY': 2, 'ORGANIZATION_TYPE': 58, 'EXT_SOURCE_1': 114584, 'EXT_SOURCE_2': 119831, 'EXT_SOURCE_3': 814, 'APARTMENTS_AVG': 2339, 'BASEMENTAREA_AVG': 3780, 'YEARS_BEGINEXPLUATATION_AVG': 285, 'YEARS_BUILD_AVG': 149, 'COMMONAREA_AVG': 3181, 'ELEVATORS_AVG': 257, 'ENTRANCES_AVG': 285, 'FLOORSMAX_AVG': 403, 'FLOORSMIN_AVG': 305, 'LANDAREA_AVG': 3527, 'LIVINGAPARTMENTS_AVG': 1868, 'LIVINGAREA_AVG': 5199, 'NONLIVINGAPARTMENTS_AVG': 386, 'NONLIVINGAREA_AVG': 3290, 'APARTMENTS_MODE': 760, 'BASEMENTAREA_MODE': 3841, 'YEARS_BEGINEXPLUATATION_MODE': 221, 'YEARS_BUILD_MODE': 154, 'COMMONAREA_MODE': 3128, 'ELEVATORS_MODE': 26, 'ENTRANCES_MODE': 30, 'FLOORSMAX_MODE': 25, 'FLOORSMIN_MODE': 25, 'LANDAREA_MODE': 3563, 'LIVINGAPARTMENTS_MODE': 736, 'LIVINGAREA_MODE': 5301, 'NONLIVINGAPARTMENTS_MODE': 167, 'NONLIVINGAREA_MODE': 3327, 'APARTMENTS_MEDI': 1148, 'BASEMENTAREA_MEDI': 3772, 'YEARS_BEGINEXPLUATATION_MEDI': 245, 'YEARS_BUILD_MEDI': 151, 'COMMONAREA_MEDI': 3202, 'ELEVATORS_MEDI': 46, 'ENTRANCES_MEDI': 46, 'FLOORSMAX_MEDI': 49, 'FLOORSMIN_MEDI': 47, 'LANDAREA_MEDI': 3560, 'LIVINGAPARTMENTS_MEDI': 1097, 'LIVINGAREA_MEDI': 5281, 'NONLIVINGAPARTMENTS_MEDI': 214, 'NONLIVINGAREA_MEDI': 3323, 'FONDKAPREMONT_MODE': 4, 'HOUSETYPE_MODE': 3, 'TOTALAREA_MODE': 5116, 'WALLSMATERIAL_MODE': 7, 'EMERGENCYSTATE_MODE': 2, 'OBS_30_CNT_SOCIAL_CIRCLE': 33, 'DEF_30_CNT_SOCIAL_CIRCLE': 10, 'OBS_60_CNT_SOCIAL_CIRCLE': 33, 'DEF_60_CNT_SOCIAL_CIRCLE': 9, 'DAYS_LAST_PHONE_CHANGE': 3773, 'FLAG_DOCUMENT_2': 2, 'FLAG_DOCUMENT_3': 2, 'FLAG_DOCUMENT_4': 2, 'FLAG_DOCUMENT_5': 2, 'FLAG_DOCUMENT_6': 2, 'FLAG_DOCUMENT_7': 2, 'FLAG_DOCUMENT_8': 2, 'FLAG_DOCUMENT_9': 2, 'FLAG_DOCUMENT_10': 2, 'FLAG_DOCUMENT_11': 2, 'FLAG_DOCUMENT_12': 2, 'FLAG_DOCUMENT_13': 2, 'FLAG_DOCUMENT_14': 2, 'FLAG_DOCUMENT_15': 2, 'FLAG_DOCUMENT_16': 2, 'FLAG_DOCUMENT_17': 2, 'FLAG_DOCUMENT_18': 2, 'FLAG_DOCUMENT_19': 2, 'FLAG_DOCUMENT_20': 2, 'FLAG_DOCUMENT_21': 2, 'AMT_REQ_CREDIT_BUREAU_HOUR': 5, 'AMT_REQ_CREDIT_BUREAU_DAY': 9, 'AMT_REQ_CREDIT_BUREAU_WEEK': 9, 'AMT_REQ_CREDIT_BUREAU_MON': 24, 'AMT_REQ_CREDIT_BUREAU_QRT': 11, 'AMT_REQ_CREDIT_BUREAU_YEAR': 25} \n",
      "\n"
     ]
    }
   ],
   "source": [
    "# Count of Unique Values Per Column\n",
    "df_columns_number_of_unique_values = {column_name:None for column_name in df_column_names}\n",
    "for column_name in df_columns_number_of_unique_values:\n",
    "    df_columns_number_of_unique_values[column_name] = df[column_name].nunique()\n",
    "print('\\n', 'df_columns_number_of_unique_values: ', '\\n', df_columns_number_of_unique_values, '\\n')"
   ]
  },
  {
   "cell_type": "code",
   "execution_count": 18,
   "metadata": {},
   "outputs": [
    {
     "name": "stdout",
     "output_type": "stream",
     "text": [
      "\n",
      " df_columns_percentage_of_unique_values:  \n",
      " {'SK_ID_CURR': 1.0, 'TARGET': 6.503832383231819e-06, 'NAME_CONTRACT_TYPE': 6.503832383231819e-06, 'CODE_GENDER': 9.755748574847729e-06, 'FLAG_OWN_CAR': 6.503832383231819e-06, 'FLAG_OWN_REALTY': 6.503832383231819e-06, 'CNT_CHILDREN': 4.8778742874238645e-05, 'AMT_INCOME_TOTAL': 0.008285882456237337, 'AMT_CREDIT': 0.01822048642162394, 'AMT_ANNUITY': 0.04446019817177272, 'AMT_GOODS_PRICE': 0.0032584200239991414, 'NAME_TYPE_SUITE': 2.276341334131137e-05, 'NAME_INCOME_TYPE': 2.6015329532927276e-05, 'NAME_EDUCATION_TYPE': 1.6259580958079547e-05, 'NAME_FAMILY_STATUS': 1.9511497149695458e-05, 'NAME_HOUSING_TYPE': 1.9511497149695458e-05, 'REGION_POPULATION_RELATIVE': 0.00026340521152088867, 'DAYS_BIRTH': 0.05677845670561378, 'DAYS_EMPLOYED': 0.040889594193378447, 'DAYS_REGISTRATION': 0.05101606121407039, 'DAYS_ID_PUBLISH': 0.02005781906988693, 'OWN_CAR_AGE': 0.0002016188038801864, 'FLAG_MOBIL': 6.503832383231819e-06, 'FLAG_EMP_PHONE': 6.503832383231819e-06, 'FLAG_WORK_PHONE': 6.503832383231819e-06, 'FLAG_CONT_MOBILE': 6.503832383231819e-06, 'FLAG_PHONE': 6.503832383231819e-06, 'FLAG_EMAIL': 6.503832383231819e-06, 'OCCUPATION_TYPE': 5.8534491449086374e-05, 'CNT_FAM_MEMBERS': 5.528257525747047e-05, 'REGION_RATING_CLIENT': 9.755748574847729e-06, 'REGION_RATING_CLIENT_W_CITY': 9.755748574847729e-06, 'WEEKDAY_APPR_PROCESS_START': 2.276341334131137e-05, 'HOUR_APPR_PROCESS_START': 7.804598859878183e-05, 'REG_REGION_NOT_LIVE_REGION': 6.503832383231819e-06, 'REG_REGION_NOT_WORK_REGION': 6.503832383231819e-06, 'LIVE_REGION_NOT_WORK_REGION': 6.503832383231819e-06, 'REG_CITY_NOT_LIVE_CITY': 6.503832383231819e-06, 'REG_CITY_NOT_WORK_CITY': 6.503832383231819e-06, 'LIVE_CITY_NOT_WORK_CITY': 6.503832383231819e-06, 'ORGANIZATION_TYPE': 0.00018861113911372275, 'EXT_SOURCE_1': 0.3726175649001174, 'EXT_SOURCE_2': 0.3896803691575261, 'EXT_SOURCE_3': 0.0026470597799753506, 'APARTMENTS_AVG': 0.007606231972189612, 'BASEMENTAREA_AVG': 0.01229224320430814, 'YEARS_BEGINEXPLUATATION_AVG': 0.0009267961146105343, 'YEARS_BUILD_AVG': 0.00048453551255077057, 'COMMONAREA_AVG': 0.010344345405530208, 'ELEVATORS_AVG': 0.0008357424612452888, 'ENTRANCES_AVG': 0.0009267961146105343, 'FLOORSMAX_AVG': 0.0013105222252212116, 'FLOORSMIN_AVG': 0.0009918344384428524, 'LANDAREA_AVG': 0.011469508407829314, 'LIVINGAPARTMENTS_AVG': 0.006074579445938519, 'LIVINGAREA_AVG': 0.016906712280211116, 'NONLIVINGAPARTMENTS_AVG': 0.001255239649963741, 'NONLIVINGAREA_AVG': 0.010698804270416343, 'APARTMENTS_MODE': 0.0024714563056280913, 'BASEMENTAREA_MODE': 0.01249061009199671, 'YEARS_BEGINEXPLUATATION_MODE': 0.000718673478347116, 'YEARS_BUILD_MODE': 0.0005007950935088501, 'COMMONAREA_MODE': 0.010171993847374565, 'ELEVATORS_MODE': 8.454982098201365e-05, 'ENTRANCES_MODE': 9.755748574847729e-05, 'FLOORSMAX_MODE': 8.129790479039775e-05, 'FLOORSMIN_MODE': 8.129790479039775e-05, 'LANDAREA_MODE': 0.011586577390727486, 'LIVINGAPARTMENTS_MODE': 0.0023934103170293094, 'LIVINGAREA_MODE': 0.017238407731755938, 'NONLIVINGAPARTMENTS_MODE': 0.000543070003999857, 'NONLIVINGAREA_MODE': 0.010819125169506132, 'APARTMENTS_MEDI': 0.0037331997879750645, 'BASEMENTAREA_MEDI': 0.012266227874775212, 'YEARS_BEGINEXPLUATATION_MEDI': 0.0007967194669458978, 'YEARS_BUILD_MEDI': 0.0004910393449340023, 'COMMONAREA_MEDI': 0.010412635645554143, 'ELEVATORS_MEDI': 0.00014958814481433184, 'ENTRANCES_MEDI': 0.00014958814481433184, 'FLOORSMAX_MEDI': 0.00015934389338917958, 'FLOORSMIN_MEDI': 0.00015284006100594775, 'LANDAREA_MEDI': 0.011576821642152638, 'LIVINGAPARTMENTS_MEDI': 0.003567352062202653, 'LIVINGAREA_MEDI': 0.01717336940792362, 'NONLIVINGAPARTMENTS_MEDI': 0.0006959100650058047, 'NONLIVINGAREA_MEDI': 0.010806117504739667, 'FONDKAPREMONT_MODE': 1.3007664766463638e-05, 'HOUSETYPE_MODE': 9.755748574847729e-06, 'TOTALAREA_MODE': 0.016636803236306993, 'WALLSMATERIAL_MODE': 2.276341334131137e-05, 'EMERGENCYSTATE_MODE': 6.503832383231819e-06, 'OBS_30_CNT_SOCIAL_CIRCLE': 0.00010731323432332502, 'DEF_30_CNT_SOCIAL_CIRCLE': 3.2519161916159095e-05, 'OBS_60_CNT_SOCIAL_CIRCLE': 0.00010731323432332502, 'DEF_60_CNT_SOCIAL_CIRCLE': 2.9267245724543187e-05, 'DAYS_LAST_PHONE_CHANGE': 0.012269479790966827, 'FLAG_DOCUMENT_2': 6.503832383231819e-06, 'FLAG_DOCUMENT_3': 6.503832383231819e-06, 'FLAG_DOCUMENT_4': 6.503832383231819e-06, 'FLAG_DOCUMENT_5': 6.503832383231819e-06, 'FLAG_DOCUMENT_6': 6.503832383231819e-06, 'FLAG_DOCUMENT_7': 6.503832383231819e-06, 'FLAG_DOCUMENT_8': 6.503832383231819e-06, 'FLAG_DOCUMENT_9': 6.503832383231819e-06, 'FLAG_DOCUMENT_10': 6.503832383231819e-06, 'FLAG_DOCUMENT_11': 6.503832383231819e-06, 'FLAG_DOCUMENT_12': 6.503832383231819e-06, 'FLAG_DOCUMENT_13': 6.503832383231819e-06, 'FLAG_DOCUMENT_14': 6.503832383231819e-06, 'FLAG_DOCUMENT_15': 6.503832383231819e-06, 'FLAG_DOCUMENT_16': 6.503832383231819e-06, 'FLAG_DOCUMENT_17': 6.503832383231819e-06, 'FLAG_DOCUMENT_18': 6.503832383231819e-06, 'FLAG_DOCUMENT_19': 6.503832383231819e-06, 'FLAG_DOCUMENT_20': 6.503832383231819e-06, 'FLAG_DOCUMENT_21': 6.503832383231819e-06, 'AMT_REQ_CREDIT_BUREAU_HOUR': 1.6259580958079547e-05, 'AMT_REQ_CREDIT_BUREAU_DAY': 2.9267245724543187e-05, 'AMT_REQ_CREDIT_BUREAU_WEEK': 2.9267245724543187e-05, 'AMT_REQ_CREDIT_BUREAU_MON': 7.804598859878183e-05, 'AMT_REQ_CREDIT_BUREAU_QRT': 3.577107810777501e-05, 'AMT_REQ_CREDIT_BUREAU_YEAR': 8.129790479039775e-05} \n",
      "\n"
     ]
    }
   ],
   "source": [
    "# Percentage of Unique Values Per Column\n",
    "df_columns_percentage_of_unique_values = {column_name:None for column_name in df_column_names}\n",
    "for column_name in df_columns_percentage_of_unique_values:\n",
    "    df_columns_percentage_of_unique_values[column_name] = df_columns_number_of_unique_values[column_name]/df_row_count\n",
    "print('\\n', 'df_columns_percentage_of_unique_values: ', '\\n', df_columns_percentage_of_unique_values, '\\n')"
   ]
  },
  {
   "cell_type": "code",
   "execution_count": 19,
   "metadata": {},
   "outputs": [
    {
     "name": "stdout",
     "output_type": "stream",
     "text": [
      "\n",
      " df_columns_missing_values_flag:  \n",
      " {'SK_ID_CURR': False, 'TARGET': False, 'NAME_CONTRACT_TYPE': False, 'CODE_GENDER': False, 'FLAG_OWN_CAR': False, 'FLAG_OWN_REALTY': False, 'CNT_CHILDREN': False, 'AMT_INCOME_TOTAL': False, 'AMT_CREDIT': False, 'AMT_ANNUITY': True, 'AMT_GOODS_PRICE': True, 'NAME_TYPE_SUITE': True, 'NAME_INCOME_TYPE': False, 'NAME_EDUCATION_TYPE': False, 'NAME_FAMILY_STATUS': False, 'NAME_HOUSING_TYPE': False, 'REGION_POPULATION_RELATIVE': False, 'DAYS_BIRTH': False, 'DAYS_EMPLOYED': False, 'DAYS_REGISTRATION': False, 'DAYS_ID_PUBLISH': False, 'OWN_CAR_AGE': True, 'FLAG_MOBIL': False, 'FLAG_EMP_PHONE': False, 'FLAG_WORK_PHONE': False, 'FLAG_CONT_MOBILE': False, 'FLAG_PHONE': False, 'FLAG_EMAIL': False, 'OCCUPATION_TYPE': True, 'CNT_FAM_MEMBERS': True, 'REGION_RATING_CLIENT': False, 'REGION_RATING_CLIENT_W_CITY': False, 'WEEKDAY_APPR_PROCESS_START': False, 'HOUR_APPR_PROCESS_START': False, 'REG_REGION_NOT_LIVE_REGION': False, 'REG_REGION_NOT_WORK_REGION': False, 'LIVE_REGION_NOT_WORK_REGION': False, 'REG_CITY_NOT_LIVE_CITY': False, 'REG_CITY_NOT_WORK_CITY': False, 'LIVE_CITY_NOT_WORK_CITY': False, 'ORGANIZATION_TYPE': False, 'EXT_SOURCE_1': True, 'EXT_SOURCE_2': True, 'EXT_SOURCE_3': True, 'APARTMENTS_AVG': True, 'BASEMENTAREA_AVG': True, 'YEARS_BEGINEXPLUATATION_AVG': True, 'YEARS_BUILD_AVG': True, 'COMMONAREA_AVG': True, 'ELEVATORS_AVG': True, 'ENTRANCES_AVG': True, 'FLOORSMAX_AVG': True, 'FLOORSMIN_AVG': True, 'LANDAREA_AVG': True, 'LIVINGAPARTMENTS_AVG': True, 'LIVINGAREA_AVG': True, 'NONLIVINGAPARTMENTS_AVG': True, 'NONLIVINGAREA_AVG': True, 'APARTMENTS_MODE': True, 'BASEMENTAREA_MODE': True, 'YEARS_BEGINEXPLUATATION_MODE': True, 'YEARS_BUILD_MODE': True, 'COMMONAREA_MODE': True, 'ELEVATORS_MODE': True, 'ENTRANCES_MODE': True, 'FLOORSMAX_MODE': True, 'FLOORSMIN_MODE': True, 'LANDAREA_MODE': True, 'LIVINGAPARTMENTS_MODE': True, 'LIVINGAREA_MODE': True, 'NONLIVINGAPARTMENTS_MODE': True, 'NONLIVINGAREA_MODE': True, 'APARTMENTS_MEDI': True, 'BASEMENTAREA_MEDI': True, 'YEARS_BEGINEXPLUATATION_MEDI': True, 'YEARS_BUILD_MEDI': True, 'COMMONAREA_MEDI': True, 'ELEVATORS_MEDI': True, 'ENTRANCES_MEDI': True, 'FLOORSMAX_MEDI': True, 'FLOORSMIN_MEDI': True, 'LANDAREA_MEDI': True, 'LIVINGAPARTMENTS_MEDI': True, 'LIVINGAREA_MEDI': True, 'NONLIVINGAPARTMENTS_MEDI': True, 'NONLIVINGAREA_MEDI': True, 'FONDKAPREMONT_MODE': True, 'HOUSETYPE_MODE': True, 'TOTALAREA_MODE': True, 'WALLSMATERIAL_MODE': True, 'EMERGENCYSTATE_MODE': True, 'OBS_30_CNT_SOCIAL_CIRCLE': True, 'DEF_30_CNT_SOCIAL_CIRCLE': True, 'OBS_60_CNT_SOCIAL_CIRCLE': True, 'DEF_60_CNT_SOCIAL_CIRCLE': True, 'DAYS_LAST_PHONE_CHANGE': True, 'FLAG_DOCUMENT_2': False, 'FLAG_DOCUMENT_3': False, 'FLAG_DOCUMENT_4': False, 'FLAG_DOCUMENT_5': False, 'FLAG_DOCUMENT_6': False, 'FLAG_DOCUMENT_7': False, 'FLAG_DOCUMENT_8': False, 'FLAG_DOCUMENT_9': False, 'FLAG_DOCUMENT_10': False, 'FLAG_DOCUMENT_11': False, 'FLAG_DOCUMENT_12': False, 'FLAG_DOCUMENT_13': False, 'FLAG_DOCUMENT_14': False, 'FLAG_DOCUMENT_15': False, 'FLAG_DOCUMENT_16': False, 'FLAG_DOCUMENT_17': False, 'FLAG_DOCUMENT_18': False, 'FLAG_DOCUMENT_19': False, 'FLAG_DOCUMENT_20': False, 'FLAG_DOCUMENT_21': False, 'AMT_REQ_CREDIT_BUREAU_HOUR': True, 'AMT_REQ_CREDIT_BUREAU_DAY': True, 'AMT_REQ_CREDIT_BUREAU_WEEK': True, 'AMT_REQ_CREDIT_BUREAU_MON': True, 'AMT_REQ_CREDIT_BUREAU_QRT': True, 'AMT_REQ_CREDIT_BUREAU_YEAR': True} \n",
      "\n"
     ]
    }
   ],
   "source": [
    "# Any Missing Values Per Column\n",
    "df_columns_missing_values_flag = {column_name:None for column_name in df_column_names}\n",
    "for column_name in df_columns_missing_values_flag:\n",
    "    df_columns_missing_values_flag[column_name] = df[column_name].isnull().any()\n",
    "print('\\n', 'df_columns_missing_values_flag: ', '\\n', df_columns_missing_values_flag, '\\n')"
   ]
  },
  {
   "cell_type": "code",
   "execution_count": 20,
   "metadata": {},
   "outputs": [
    {
     "name": "stdout",
     "output_type": "stream",
     "text": [
      "\n",
      " df_columns_missing_values_count:  \n",
      " {'SK_ID_CURR': 0, 'TARGET': 0, 'NAME_CONTRACT_TYPE': 0, 'CODE_GENDER': 0, 'FLAG_OWN_CAR': 0, 'FLAG_OWN_REALTY': 0, 'CNT_CHILDREN': 0, 'AMT_INCOME_TOTAL': 0, 'AMT_CREDIT': 0, 'AMT_ANNUITY': 12, 'AMT_GOODS_PRICE': 278, 'NAME_TYPE_SUITE': 1292, 'NAME_INCOME_TYPE': 0, 'NAME_EDUCATION_TYPE': 0, 'NAME_FAMILY_STATUS': 0, 'NAME_HOUSING_TYPE': 0, 'REGION_POPULATION_RELATIVE': 0, 'DAYS_BIRTH': 0, 'DAYS_EMPLOYED': 0, 'DAYS_REGISTRATION': 0, 'DAYS_ID_PUBLISH': 0, 'OWN_CAR_AGE': 202929, 'FLAG_MOBIL': 0, 'FLAG_EMP_PHONE': 0, 'FLAG_WORK_PHONE': 0, 'FLAG_CONT_MOBILE': 0, 'FLAG_PHONE': 0, 'FLAG_EMAIL': 0, 'OCCUPATION_TYPE': 96391, 'CNT_FAM_MEMBERS': 2, 'REGION_RATING_CLIENT': 0, 'REGION_RATING_CLIENT_W_CITY': 0, 'WEEKDAY_APPR_PROCESS_START': 0, 'HOUR_APPR_PROCESS_START': 0, 'REG_REGION_NOT_LIVE_REGION': 0, 'REG_REGION_NOT_WORK_REGION': 0, 'LIVE_REGION_NOT_WORK_REGION': 0, 'REG_CITY_NOT_LIVE_CITY': 0, 'REG_CITY_NOT_WORK_CITY': 0, 'LIVE_CITY_NOT_WORK_CITY': 0, 'ORGANIZATION_TYPE': 0, 'EXT_SOURCE_1': 173378, 'EXT_SOURCE_2': 660, 'EXT_SOURCE_3': 60965, 'APARTMENTS_AVG': 156061, 'BASEMENTAREA_AVG': 179943, 'YEARS_BEGINEXPLUATATION_AVG': 150007, 'YEARS_BUILD_AVG': 204488, 'COMMONAREA_AVG': 214865, 'ELEVATORS_AVG': 163891, 'ENTRANCES_AVG': 154828, 'FLOORSMAX_AVG': 153020, 'FLOORSMIN_AVG': 208642, 'LANDAREA_AVG': 182590, 'LIVINGAPARTMENTS_AVG': 210199, 'LIVINGAREA_AVG': 154350, 'NONLIVINGAPARTMENTS_AVG': 213514, 'NONLIVINGAREA_AVG': 169682, 'APARTMENTS_MODE': 156061, 'BASEMENTAREA_MODE': 179943, 'YEARS_BEGINEXPLUATATION_MODE': 150007, 'YEARS_BUILD_MODE': 204488, 'COMMONAREA_MODE': 214865, 'ELEVATORS_MODE': 163891, 'ENTRANCES_MODE': 154828, 'FLOORSMAX_MODE': 153020, 'FLOORSMIN_MODE': 208642, 'LANDAREA_MODE': 182590, 'LIVINGAPARTMENTS_MODE': 210199, 'LIVINGAREA_MODE': 154350, 'NONLIVINGAPARTMENTS_MODE': 213514, 'NONLIVINGAREA_MODE': 169682, 'APARTMENTS_MEDI': 156061, 'BASEMENTAREA_MEDI': 179943, 'YEARS_BEGINEXPLUATATION_MEDI': 150007, 'YEARS_BUILD_MEDI': 204488, 'COMMONAREA_MEDI': 214865, 'ELEVATORS_MEDI': 163891, 'ENTRANCES_MEDI': 154828, 'FLOORSMAX_MEDI': 153020, 'FLOORSMIN_MEDI': 208642, 'LANDAREA_MEDI': 182590, 'LIVINGAPARTMENTS_MEDI': 210199, 'LIVINGAREA_MEDI': 154350, 'NONLIVINGAPARTMENTS_MEDI': 213514, 'NONLIVINGAREA_MEDI': 169682, 'FONDKAPREMONT_MODE': 210295, 'HOUSETYPE_MODE': 154297, 'TOTALAREA_MODE': 148431, 'WALLSMATERIAL_MODE': 156341, 'EMERGENCYSTATE_MODE': 145755, 'OBS_30_CNT_SOCIAL_CIRCLE': 1021, 'DEF_30_CNT_SOCIAL_CIRCLE': 1021, 'OBS_60_CNT_SOCIAL_CIRCLE': 1021, 'DEF_60_CNT_SOCIAL_CIRCLE': 1021, 'DAYS_LAST_PHONE_CHANGE': 1, 'FLAG_DOCUMENT_2': 0, 'FLAG_DOCUMENT_3': 0, 'FLAG_DOCUMENT_4': 0, 'FLAG_DOCUMENT_5': 0, 'FLAG_DOCUMENT_6': 0, 'FLAG_DOCUMENT_7': 0, 'FLAG_DOCUMENT_8': 0, 'FLAG_DOCUMENT_9': 0, 'FLAG_DOCUMENT_10': 0, 'FLAG_DOCUMENT_11': 0, 'FLAG_DOCUMENT_12': 0, 'FLAG_DOCUMENT_13': 0, 'FLAG_DOCUMENT_14': 0, 'FLAG_DOCUMENT_15': 0, 'FLAG_DOCUMENT_16': 0, 'FLAG_DOCUMENT_17': 0, 'FLAG_DOCUMENT_18': 0, 'FLAG_DOCUMENT_19': 0, 'FLAG_DOCUMENT_20': 0, 'FLAG_DOCUMENT_21': 0, 'AMT_REQ_CREDIT_BUREAU_HOUR': 41519, 'AMT_REQ_CREDIT_BUREAU_DAY': 41519, 'AMT_REQ_CREDIT_BUREAU_WEEK': 41519, 'AMT_REQ_CREDIT_BUREAU_MON': 41519, 'AMT_REQ_CREDIT_BUREAU_QRT': 41519, 'AMT_REQ_CREDIT_BUREAU_YEAR': 41519} \n",
      "\n"
     ]
    }
   ],
   "source": [
    "# Count of Missing Values Count Per Column\n",
    "df_columns_missing_values_count = {column_name:None for column_name in df_column_names}\n",
    "for column_name in df_columns_missing_values_count:\n",
    "    df_columns_missing_values_count[column_name] = df[column_name].isnull().sum()\n",
    "print('\\n', 'df_columns_missing_values_count: ', '\\n', df_columns_missing_values_count, '\\n')"
   ]
  },
  {
   "cell_type": "code",
   "execution_count": 21,
   "metadata": {},
   "outputs": [
    {
     "name": "stdout",
     "output_type": "stream",
     "text": [
      "\n",
      " df_columns_missing_values_percentage:  \n",
      " {'SK_ID_CURR': 0.0, 'TARGET': 0.0, 'NAME_CONTRACT_TYPE': 0.0, 'CODE_GENDER': 0.0, 'FLAG_OWN_CAR': 0.0, 'FLAG_OWN_REALTY': 0.0, 'CNT_CHILDREN': 0.0, 'AMT_INCOME_TOTAL': 0.0, 'AMT_CREDIT': 0.0, 'AMT_ANNUITY': 3.9022994299390916e-05, 'AMT_GOODS_PRICE': 0.0009040327012692228, 'NAME_TYPE_SUITE': 0.004201475719567756, 'NAME_INCOME_TYPE': 0.0, 'NAME_EDUCATION_TYPE': 0.0, 'NAME_FAMILY_STATUS': 0.0, 'NAME_HOUSING_TYPE': 0.0, 'REGION_POPULATION_RELATIVE': 0.0, 'DAYS_BIRTH': 0.0, 'DAYS_EMPLOYED': 0.0, 'DAYS_REGISTRATION': 0.0, 'DAYS_ID_PUBLISH': 0.0, 'OWN_CAR_AGE': 0.6599081008484249, 'FLAG_MOBIL': 0.0, 'FLAG_EMP_PHONE': 0.0, 'FLAG_WORK_PHONE': 0.0, 'FLAG_CONT_MOBILE': 0.0, 'FLAG_PHONE': 0.0, 'FLAG_EMAIL': 0.0, 'OCCUPATION_TYPE': 0.31345545362604915, 'CNT_FAM_MEMBERS': 6.503832383231819e-06, 'REGION_RATING_CLIENT': 0.0, 'REGION_RATING_CLIENT_W_CITY': 0.0, 'WEEKDAY_APPR_PROCESS_START': 0.0, 'HOUR_APPR_PROCESS_START': 0.0, 'REG_REGION_NOT_LIVE_REGION': 0.0, 'REG_REGION_NOT_WORK_REGION': 0.0, 'LIVE_REGION_NOT_WORK_REGION': 0.0, 'REG_CITY_NOT_LIVE_CITY': 0.0, 'REG_CITY_NOT_WORK_CITY': 0.0, 'LIVE_CITY_NOT_WORK_CITY': 0.0, 'ORGANIZATION_TYPE': 0.0, 'EXT_SOURCE_1': 0.5638107254699832, 'EXT_SOURCE_2': 0.0021462646864665006, 'EXT_SOURCE_3': 0.19825307062186392, 'APARTMENTS_AVG': 0.5074972927797705, 'BASEMENTAREA_AVG': 0.5851595552679416, 'YEARS_BEGINEXPLUATATION_AVG': 0.48781019215572774, 'YEARS_BUILD_AVG': 0.6649778381911542, 'COMMONAREA_AVG': 0.6987229725115525, 'ELEVATORS_AVG': 0.532959796560123, 'ENTRANCES_AVG': 0.503487680115508, 'FLOORSMAX_AVG': 0.4976082156410665, 'FLOORSMIN_AVG': 0.6784862980511266, 'LANDAREA_AVG': 0.5937673774271489, 'LIVINGAPARTMENTS_AVG': 0.6835495315614726, 'LIVINGAREA_AVG': 0.5019332641759157, 'NONLIVINGAPARTMENTS_AVG': 0.6943296337366793, 'NONLIVINGAREA_AVG': 0.5517916432257708, 'APARTMENTS_MODE': 0.5074972927797705, 'BASEMENTAREA_MODE': 0.5851595552679416, 'YEARS_BEGINEXPLUATATION_MODE': 0.48781019215572774, 'YEARS_BUILD_MODE': 0.6649778381911542, 'COMMONAREA_MODE': 0.6987229725115525, 'ELEVATORS_MODE': 0.532959796560123, 'ENTRANCES_MODE': 0.503487680115508, 'FLOORSMAX_MODE': 0.4976082156410665, 'FLOORSMIN_MODE': 0.6784862980511266, 'LANDAREA_MODE': 0.5937673774271489, 'LIVINGAPARTMENTS_MODE': 0.6835495315614726, 'LIVINGAREA_MODE': 0.5019332641759157, 'NONLIVINGAPARTMENTS_MODE': 0.6943296337366793, 'NONLIVINGAREA_MODE': 0.5517916432257708, 'APARTMENTS_MEDI': 0.5074972927797705, 'BASEMENTAREA_MEDI': 0.5851595552679416, 'YEARS_BEGINEXPLUATATION_MEDI': 0.48781019215572774, 'YEARS_BUILD_MEDI': 0.6649778381911542, 'COMMONAREA_MEDI': 0.6987229725115525, 'ELEVATORS_MEDI': 0.532959796560123, 'ENTRANCES_MEDI': 0.503487680115508, 'FLOORSMAX_MEDI': 0.4976082156410665, 'FLOORSMIN_MEDI': 0.6784862980511266, 'LANDAREA_MEDI': 0.5937673774271489, 'LIVINGAPARTMENTS_MEDI': 0.6835495315614726, 'LIVINGAREA_MEDI': 0.5019332641759157, 'NONLIVINGAPARTMENTS_MEDI': 0.6943296337366793, 'NONLIVINGAREA_MEDI': 0.5517916432257708, 'FONDKAPREMONT_MODE': 0.6838617155158677, 'HOUSETYPE_MODE': 0.50176091261776, 'TOTALAREA_MODE': 0.4826851722377411, 'WALLSMATERIAL_MODE': 0.508407829313423, 'EMERGENCYSTATE_MODE': 0.47398304450897694, 'OBS_30_CNT_SOCIAL_CIRCLE': 0.0033202064316398437, 'DEF_30_CNT_SOCIAL_CIRCLE': 0.0033202064316398437, 'OBS_60_CNT_SOCIAL_CIRCLE': 0.0033202064316398437, 'DEF_60_CNT_SOCIAL_CIRCLE': 0.0033202064316398437, 'DAYS_LAST_PHONE_CHANGE': 3.2519161916159095e-06, 'FLAG_DOCUMENT_2': 0.0, 'FLAG_DOCUMENT_3': 0.0, 'FLAG_DOCUMENT_4': 0.0, 'FLAG_DOCUMENT_5': 0.0, 'FLAG_DOCUMENT_6': 0.0, 'FLAG_DOCUMENT_7': 0.0, 'FLAG_DOCUMENT_8': 0.0, 'FLAG_DOCUMENT_9': 0.0, 'FLAG_DOCUMENT_10': 0.0, 'FLAG_DOCUMENT_11': 0.0, 'FLAG_DOCUMENT_12': 0.0, 'FLAG_DOCUMENT_13': 0.0, 'FLAG_DOCUMENT_14': 0.0, 'FLAG_DOCUMENT_15': 0.0, 'FLAG_DOCUMENT_16': 0.0, 'FLAG_DOCUMENT_17': 0.0, 'FLAG_DOCUMENT_18': 0.0, 'FLAG_DOCUMENT_19': 0.0, 'FLAG_DOCUMENT_20': 0.0, 'FLAG_DOCUMENT_21': 0.0, 'AMT_REQ_CREDIT_BUREAU_HOUR': 0.13501630835970097, 'AMT_REQ_CREDIT_BUREAU_DAY': 0.13501630835970097, 'AMT_REQ_CREDIT_BUREAU_WEEK': 0.13501630835970097, 'AMT_REQ_CREDIT_BUREAU_MON': 0.13501630835970097, 'AMT_REQ_CREDIT_BUREAU_QRT': 0.13501630835970097, 'AMT_REQ_CREDIT_BUREAU_YEAR': 0.13501630835970097} \n",
      "\n"
     ]
    }
   ],
   "source": [
    "# Percentage of Missing Values Per Column\n",
    "df_columns_missing_values_percentage = {column_name:None for column_name in df_column_names}\n",
    "for column_name in df_columns_missing_values_percentage:\n",
    "    df_columns_missing_values_percentage[column_name] = df_columns_missing_values_count[column_name]/df_row_count\n",
    "print('\\n', 'df_columns_missing_values_percentage: ', '\\n', df_columns_missing_values_percentage, '\\n')"
   ]
  },
  {
   "cell_type": "code",
   "execution_count": 22,
   "metadata": {},
   "outputs": [],
   "source": [
    "# Any Missing Values Per Row\n",
    "#df_rows_missing_values_flag"
   ]
  },
  {
   "cell_type": "code",
   "execution_count": 23,
   "metadata": {},
   "outputs": [],
   "source": [
    "# Count of Missing Values Per Row\n",
    "#df_rows_missing_values_count"
   ]
  },
  {
   "cell_type": "code",
   "execution_count": 24,
   "metadata": {},
   "outputs": [],
   "source": [
    "# Percentage of Missing Values Per Row\n",
    "#df_rows_missing_values_count"
   ]
  },
  {
   "cell_type": "code",
   "execution_count": 25,
   "metadata": {},
   "outputs": [],
   "source": [
    "#df['SK_ID_CURR'].str.isdigit().all()"
   ]
  },
  {
   "cell_type": "code",
   "execution_count": 26,
   "metadata": {},
   "outputs": [],
   "source": [
    "#df['SK_ID_CURR'].str.isalpha().all()"
   ]
  },
  {
   "cell_type": "code",
   "execution_count": 27,
   "metadata": {},
   "outputs": [
    {
     "data": {
      "text/plain": [
       "[]"
      ]
     },
     "execution_count": 27,
     "metadata": {},
     "output_type": "execute_result"
    }
   ],
   "source": [
    "df_dtype_boolean_column_names = list(df.select_dtypes(include=['bool']).columns)\n",
    "df_dtype_boolean_column_names"
   ]
  },
  {
   "cell_type": "code",
   "execution_count": 28,
   "metadata": {},
   "outputs": [
    {
     "data": {
      "text/plain": [
       "['AMT_INCOME_TOTAL',\n",
       " 'AMT_CREDIT',\n",
       " 'AMT_ANNUITY',\n",
       " 'AMT_GOODS_PRICE',\n",
       " 'REGION_POPULATION_RELATIVE',\n",
       " 'DAYS_REGISTRATION',\n",
       " 'OWN_CAR_AGE',\n",
       " 'CNT_FAM_MEMBERS',\n",
       " 'EXT_SOURCE_1',\n",
       " 'EXT_SOURCE_2',\n",
       " 'EXT_SOURCE_3',\n",
       " 'APARTMENTS_AVG',\n",
       " 'BASEMENTAREA_AVG',\n",
       " 'YEARS_BEGINEXPLUATATION_AVG',\n",
       " 'YEARS_BUILD_AVG',\n",
       " 'COMMONAREA_AVG',\n",
       " 'ELEVATORS_AVG',\n",
       " 'ENTRANCES_AVG',\n",
       " 'FLOORSMAX_AVG',\n",
       " 'FLOORSMIN_AVG',\n",
       " 'LANDAREA_AVG',\n",
       " 'LIVINGAPARTMENTS_AVG',\n",
       " 'LIVINGAREA_AVG',\n",
       " 'NONLIVINGAPARTMENTS_AVG',\n",
       " 'NONLIVINGAREA_AVG',\n",
       " 'APARTMENTS_MODE',\n",
       " 'BASEMENTAREA_MODE',\n",
       " 'YEARS_BEGINEXPLUATATION_MODE',\n",
       " 'YEARS_BUILD_MODE',\n",
       " 'COMMONAREA_MODE',\n",
       " 'ELEVATORS_MODE',\n",
       " 'ENTRANCES_MODE',\n",
       " 'FLOORSMAX_MODE',\n",
       " 'FLOORSMIN_MODE',\n",
       " 'LANDAREA_MODE',\n",
       " 'LIVINGAPARTMENTS_MODE',\n",
       " 'LIVINGAREA_MODE',\n",
       " 'NONLIVINGAPARTMENTS_MODE',\n",
       " 'NONLIVINGAREA_MODE',\n",
       " 'APARTMENTS_MEDI',\n",
       " 'BASEMENTAREA_MEDI',\n",
       " 'YEARS_BEGINEXPLUATATION_MEDI',\n",
       " 'YEARS_BUILD_MEDI',\n",
       " 'COMMONAREA_MEDI',\n",
       " 'ELEVATORS_MEDI',\n",
       " 'ENTRANCES_MEDI',\n",
       " 'FLOORSMAX_MEDI',\n",
       " 'FLOORSMIN_MEDI',\n",
       " 'LANDAREA_MEDI',\n",
       " 'LIVINGAPARTMENTS_MEDI',\n",
       " 'LIVINGAREA_MEDI',\n",
       " 'NONLIVINGAPARTMENTS_MEDI',\n",
       " 'NONLIVINGAREA_MEDI',\n",
       " 'TOTALAREA_MODE',\n",
       " 'OBS_30_CNT_SOCIAL_CIRCLE',\n",
       " 'DEF_30_CNT_SOCIAL_CIRCLE',\n",
       " 'OBS_60_CNT_SOCIAL_CIRCLE',\n",
       " 'DEF_60_CNT_SOCIAL_CIRCLE',\n",
       " 'DAYS_LAST_PHONE_CHANGE',\n",
       " 'AMT_REQ_CREDIT_BUREAU_HOUR',\n",
       " 'AMT_REQ_CREDIT_BUREAU_DAY',\n",
       " 'AMT_REQ_CREDIT_BUREAU_WEEK',\n",
       " 'AMT_REQ_CREDIT_BUREAU_MON',\n",
       " 'AMT_REQ_CREDIT_BUREAU_QRT',\n",
       " 'AMT_REQ_CREDIT_BUREAU_YEAR']"
      ]
     },
     "execution_count": 28,
     "metadata": {},
     "output_type": "execute_result"
    }
   ],
   "source": [
    "df_dtype_float64_column_names = list(df.select_dtypes(include=['float64']).columns)\n",
    "df_dtype_float64_column_names"
   ]
  },
  {
   "cell_type": "code",
   "execution_count": 29,
   "metadata": {},
   "outputs": [
    {
     "data": {
      "text/plain": [
       "['SK_ID_CURR',\n",
       " 'TARGET',\n",
       " 'CNT_CHILDREN',\n",
       " 'DAYS_BIRTH',\n",
       " 'DAYS_EMPLOYED',\n",
       " 'DAYS_ID_PUBLISH',\n",
       " 'FLAG_MOBIL',\n",
       " 'FLAG_EMP_PHONE',\n",
       " 'FLAG_WORK_PHONE',\n",
       " 'FLAG_CONT_MOBILE',\n",
       " 'FLAG_PHONE',\n",
       " 'FLAG_EMAIL',\n",
       " 'REGION_RATING_CLIENT',\n",
       " 'REGION_RATING_CLIENT_W_CITY',\n",
       " 'HOUR_APPR_PROCESS_START',\n",
       " 'REG_REGION_NOT_LIVE_REGION',\n",
       " 'REG_REGION_NOT_WORK_REGION',\n",
       " 'LIVE_REGION_NOT_WORK_REGION',\n",
       " 'REG_CITY_NOT_LIVE_CITY',\n",
       " 'REG_CITY_NOT_WORK_CITY',\n",
       " 'LIVE_CITY_NOT_WORK_CITY',\n",
       " 'FLAG_DOCUMENT_2',\n",
       " 'FLAG_DOCUMENT_3',\n",
       " 'FLAG_DOCUMENT_4',\n",
       " 'FLAG_DOCUMENT_5',\n",
       " 'FLAG_DOCUMENT_6',\n",
       " 'FLAG_DOCUMENT_7',\n",
       " 'FLAG_DOCUMENT_8',\n",
       " 'FLAG_DOCUMENT_9',\n",
       " 'FLAG_DOCUMENT_10',\n",
       " 'FLAG_DOCUMENT_11',\n",
       " 'FLAG_DOCUMENT_12',\n",
       " 'FLAG_DOCUMENT_13',\n",
       " 'FLAG_DOCUMENT_14',\n",
       " 'FLAG_DOCUMENT_15',\n",
       " 'FLAG_DOCUMENT_16',\n",
       " 'FLAG_DOCUMENT_17',\n",
       " 'FLAG_DOCUMENT_18',\n",
       " 'FLAG_DOCUMENT_19',\n",
       " 'FLAG_DOCUMENT_20',\n",
       " 'FLAG_DOCUMENT_21']"
      ]
     },
     "execution_count": 29,
     "metadata": {},
     "output_type": "execute_result"
    }
   ],
   "source": [
    "df_dtype_int64_column_names = list(df.select_dtypes(include=['int64']).columns)\n",
    "df_dtype_int64_column_names"
   ]
  },
  {
   "cell_type": "code",
   "execution_count": 30,
   "metadata": {},
   "outputs": [
    {
     "data": {
      "text/plain": [
       "['NAME_CONTRACT_TYPE',\n",
       " 'CODE_GENDER',\n",
       " 'FLAG_OWN_CAR',\n",
       " 'FLAG_OWN_REALTY',\n",
       " 'NAME_TYPE_SUITE',\n",
       " 'NAME_INCOME_TYPE',\n",
       " 'NAME_EDUCATION_TYPE',\n",
       " 'NAME_FAMILY_STATUS',\n",
       " 'NAME_HOUSING_TYPE',\n",
       " 'OCCUPATION_TYPE',\n",
       " 'WEEKDAY_APPR_PROCESS_START',\n",
       " 'ORGANIZATION_TYPE',\n",
       " 'FONDKAPREMONT_MODE',\n",
       " 'HOUSETYPE_MODE',\n",
       " 'WALLSMATERIAL_MODE',\n",
       " 'EMERGENCYSTATE_MODE']"
      ]
     },
     "execution_count": 30,
     "metadata": {},
     "output_type": "execute_result"
    }
   ],
   "source": [
    "df_dtype_object_column_names = list(df.select_dtypes(include=['O']).columns)\n",
    "df_dtype_object_column_names"
   ]
  },
  {
   "cell_type": "markdown",
   "metadata": {},
   "source": [
    "# EDA - Meta-Data - Manual\n"
   ]
  },
  {
   "cell_type": "code",
   "execution_count": 31,
   "metadata": {},
   "outputs": [
    {
     "name": "stdout",
     "output_type": "stream",
     "text": [
      "\n",
      " df_target_column_name:  TARGET \n",
      "\n"
     ]
    }
   ],
   "source": [
    "df_target_column_name = 'TARGET'\n",
    "print('\\n', 'df_target_column_name: ', df_target_column_name, '\\n')"
   ]
  },
  {
   "cell_type": "code",
   "execution_count": 32,
   "metadata": {},
   "outputs": [
    {
     "name": "stdout",
     "output_type": "stream",
     "text": [
      "\n",
      " df_record_id_column_name:  SK_ID_CURR \n",
      "\n"
     ]
    }
   ],
   "source": [
    "df_record_id_column_name = 'SK_ID_CURR'\n",
    "print('\\n', 'df_record_id_column_name: ', df_record_id_column_name, '\\n')"
   ]
  },
  {
   "cell_type": "code",
   "execution_count": 33,
   "metadata": {},
   "outputs": [
    {
     "name": "stdout",
     "output_type": "stream",
     "text": [
      "\n",
      " df_record_key_column_name:  SK_ID_CURR \n",
      "\n"
     ]
    }
   ],
   "source": [
    "df_record_key_column_name = 'SK_ID_CURR'\n",
    "print('\\n', 'df_record_key_column_name: ', df_record_key_column_name, '\\n')"
   ]
  },
  {
   "cell_type": "markdown",
   "metadata": {},
   "source": [
    "# Lists of Column Names\n",
    "df_nondata_column_names\n",
    "df_useless_column_names\n",
    "df_int_column_names\n",
    "df_float_column_names\n",
    "df_datetime_column_names\n",
    "df_date_column_names\n",
    "df_object_column_names\n",
    "df_boolean_column_names\n",
    "df_categorical_column_names\n",
    "df_numerical_column_names"
   ]
  },
  {
   "cell_type": "code",
   "execution_count": 34,
   "metadata": {},
   "outputs": [],
   "source": [
    "df_nondata_column_names = ['SK_ID_CURR']"
   ]
  },
  {
   "cell_type": "code",
   "execution_count": 35,
   "metadata": {},
   "outputs": [],
   "source": [
    "df_useless_column_names = ['FLAG_MOBIL']\n",
    "#> 1    307510\n",
    "#> 0         1\n",
    "#> Name: FLAG_MOBIL, dtype: int64"
   ]
  },
  {
   "cell_type": "code",
   "execution_count": 36,
   "metadata": {},
   "outputs": [],
   "source": [
    "df_int_column_names = []"
   ]
  },
  {
   "cell_type": "code",
   "execution_count": 37,
   "metadata": {},
   "outputs": [],
   "source": [
    "df_float_column_names = []"
   ]
  },
  {
   "cell_type": "code",
   "execution_count": 38,
   "metadata": {},
   "outputs": [],
   "source": [
    "df_datetime_column_names = []"
   ]
  },
  {
   "cell_type": "code",
   "execution_count": 39,
   "metadata": {},
   "outputs": [],
   "source": [
    "df_date_column_names = []"
   ]
  },
  {
   "cell_type": "code",
   "execution_count": 40,
   "metadata": {},
   "outputs": [],
   "source": [
    "df_object_column_names = [\n",
    "    'CODE_GENDER',\n",
    "    'EMERGENCYSTATE_MODE',\n",
    "    'FONDKAPREMONT_MODE',\n",
    "    'HOUSETYPE_MODE',\n",
    "    'NAME_CONTRACT_TYPE',\n",
    "    'NAME_TYPE_SUITE',\n",
    "    'NAME_INCOME_TYPE',\n",
    "    'NAME_EDUCATION_TYPE',\n",
    "    'NAME_FAMILY_STATUS',\n",
    "    'NAME_HOUSING_TYPE',\n",
    "    'OCCUPATION_TYPE',\n",
    "    'ORGANIZATION_TYPE',\n",
    "    'WALLSMATERIAL_MODE',\n",
    "    'WEEKDAY_APPR_PROCESS_START',\n",
    "]"
   ]
  },
  {
   "cell_type": "code",
   "execution_count": 41,
   "metadata": {},
   "outputs": [],
   "source": [
    "df_boolean_column_names = [\n",
    "    'EMERGENCYSTATE_MODE',\n",
    "    'FLAG_CONT_MOBILE',\n",
    "    'FLAG_DOCUMENT_2',\n",
    "    'FLAG_DOCUMENT_3',\n",
    "    'FLAG_DOCUMENT_4',\n",
    "    'FLAG_DOCUMENT_5',\n",
    "    'FLAG_DOCUMENT_6',\n",
    "    'FLAG_DOCUMENT_7',\n",
    "    'FLAG_DOCUMENT_8',\n",
    "    'FLAG_DOCUMENT_9',\n",
    "    'FLAG_DOCUMENT_10',\n",
    "    'FLAG_DOCUMENT_11',\n",
    "    'FLAG_DOCUMENT_12',\n",
    "    'FLAG_DOCUMENT_13',\n",
    "    'FLAG_DOCUMENT_14',\n",
    "    'FLAG_DOCUMENT_15',\n",
    "    'FLAG_DOCUMENT_16',\n",
    "    'FLAG_DOCUMENT_17',\n",
    "    'FLAG_DOCUMENT_18',\n",
    "    'FLAG_DOCUMENT_19',\n",
    "    'FLAG_DOCUMENT_20',\n",
    "    'FLAG_DOCUMENT_21',\n",
    "    'FLAG_EMAIL',\n",
    "    'FLAG_EMP_PHONE',\n",
    "    'FLAG_MOBIL',\n",
    "    'FLAG_OWN_CAR',\n",
    "    'FLAG_OWN_REALTY',\n",
    "    'FLAG_PHONE',\n",
    "    'FLAG_WORK_PHONE',\n",
    "    'LIVE_CITY_NOT_WORK_CITY',\n",
    "    'LIVE_REGION_NOT_WORK_REGION',\n",
    "    'REG_CITY_NOT_LIVE_CITY',\n",
    "    'REG_CITY_NOT_WORK_CITY',\n",
    "    'REG_REGION_NOT_LIVE_REGION',\n",
    "    'REG_REGION_NOT_WORK_REGION',\n",
    "    'TARGET'\n",
    "]"
   ]
  },
  {
   "cell_type": "code",
   "execution_count": 42,
   "metadata": {},
   "outputs": [],
   "source": [
    "df_categorical_column_names = [\n",
    "    'CODE_GENDER',\n",
    "    'EMERGENCYSTATE_MODE',\n",
    "    'FLAG_CONT_MOBILE',\n",
    "    'FLAG_DOCUMENT_2',\n",
    "    'FLAG_DOCUMENT_3',\n",
    "    'FLAG_DOCUMENT_4',\n",
    "    'FLAG_DOCUMENT_5',\n",
    "    'FLAG_DOCUMENT_6',\n",
    "    'FLAG_DOCUMENT_7',\n",
    "    'FLAG_DOCUMENT_8',\n",
    "    'FLAG_DOCUMENT_9',\n",
    "    'FLAG_DOCUMENT_10',\n",
    "    'FLAG_DOCUMENT_11',\n",
    "    'FLAG_DOCUMENT_12',\n",
    "    'FLAG_DOCUMENT_13',\n",
    "    'FLAG_DOCUMENT_14',\n",
    "    'FLAG_DOCUMENT_15',\n",
    "    'FLAG_DOCUMENT_16',\n",
    "    'FLAG_DOCUMENT_17',\n",
    "    'FLAG_DOCUMENT_18',\n",
    "    'FLAG_DOCUMENT_19',\n",
    "    'FLAG_DOCUMENT_20',\n",
    "    'FLAG_DOCUMENT_21',\n",
    "    'FLAG_EMAIL',\n",
    "    'FLAG_EMP_PHONE',\n",
    "    'FLAG_MOBIL',\n",
    "    'FLAG_OWN_CAR',\n",
    "    'FLAG_OWN_REALTY',\n",
    "    'FLAG_PHONE',\n",
    "    'FLAG_WORK_PHONE',\n",
    "    'FONDKAPREMONT_MODE',\n",
    "    'HOUSETYPE_MODE',\n",
    "    'NAME_CONTRACT_TYPE',\n",
    "    'NAME_EDUCATION_TYPE',\n",
    "    'NAME_FAMILY_STATUS',\n",
    "    'NAME_HOUSING_TYPE',\n",
    "    'NAME_INCOME_TYPE',\n",
    "    'NAME_TYPE_SUITE',\n",
    "    'OCCUPATION_TYPE',\n",
    "    'ORGANIZATION_TYPE',\n",
    "    'REG_CITY_NOT_LIVE_CITY',\n",
    "    'REG_CITY_NOT_WORK_CITY',\n",
    "    'REG_REGION_NOT_LIVE_REGION',\n",
    "    'REG_REGION_NOT_WORK_REGION',\n",
    "    'WALLSMATERIAL_MODE',\n",
    "    'WEEKDAY_APPR_PROCESS_START',\n",
    "    \n",
    "'HOUR_APPR_PROCESS_START',\n",
    "'HOUSETYPE_MODE',\n",
    "'LIVE_CITY_NOT_WORK_CITY',\n",
    "'LIVE_REGION_NOT_WORK_REGION'\n",
    "]"
   ]
  },
  {
   "cell_type": "code",
   "execution_count": 43,
   "metadata": {},
   "outputs": [],
   "source": [
    "df_numerical_column_names = [\n",
    "    'AMT_ANNUITY',\n",
    "    'AMT_CREDIT',\n",
    "    'AMT_GOODS_PRICE',\n",
    "    'AMT_INCOME_TOTAL',\n",
    "    'AMT_REQ_CREDIT_BUREAU_DAY',\n",
    "    'AMT_REQ_CREDIT_BUREAU_HOUR',\n",
    "    'AMT_REQ_CREDIT_BUREAU_MON',\n",
    "    'AMT_REQ_CREDIT_BUREAU_QRT',\n",
    "    'AMT_REQ_CREDIT_BUREAU_WEEK',\n",
    "    'AMT_REQ_CREDIT_BUREAU_YEAR'\n",
    "    'CNT_CHILDREN',\n",
    "    'CNT_FAM_MEMBERS',\n",
    "    'DAYS_BIRTH',\n",
    "    'DAYS_EMPLOYED',\n",
    "    'DAYS_ID_PUBLISH',\n",
    "    'DAYS_LAST_PHONE_CHANGE',\n",
    "    'DAYS_REGISTRATION',\n",
    "    'EXT_SOURCE_1',\n",
    "    'EXT_SOURCE_2',\n",
    "    'EXT_SOURCE_3',\n",
    "'FLAG_MOBIL',\n",
    "'FLAG_EMP_PHONE',\n",
    "'FLAG_WORK_PHONE',\n",
    "'FLAG_CONT_MOBILE',\n",
    "'FLAG_PHONE',\n",
    "'FLAG_EMAIL',\n",
    "    'HOUR_APPR_PROCESS_START',\n",
    "'SK_ID_CURR',\n",
    "'TARGET',\n",
    "\n",
    "'REGION_RATING_CLIENT',\n",
    "'REGION_RATING_CLIENT_W_CITY',\n",
    "\n",
    "'REG_REGION_NOT_LIVE_REGION',\n",
    "'REG_REGION_NOT_WORK_REGION',\n",
    "'LIVE_REGION_NOT_WORK_REGION',\n",
    "'REG_CITY_NOT_LIVE_CITY',\n",
    "'REG_CITY_NOT_WORK_CITY',\n",
    "'LIVE_CITY_NOT_WORK_CITY',\n",
    "'FLAG_DOCUMENT_2',\n",
    "'FLAG_DOCUMENT_3',\n",
    "'FLAG_DOCUMENT_4',\n",
    "'FLAG_DOCUMENT_5',\n",
    "'FLAG_DOCUMENT_6',\n",
    "'FLAG_DOCUMENT_7',\n",
    "'FLAG_DOCUMENT_8',\n",
    "'FLAG_DOCUMENT_9',\n",
    "'FLAG_DOCUMENT_10',\n",
    "'FLAG_DOCUMENT_11',\n",
    "'FLAG_DOCUMENT_12',\n",
    "'FLAG_DOCUMENT_13',\n",
    "'FLAG_DOCUMENT_14',\n",
    "'FLAG_DOCUMENT_15',\n",
    "'FLAG_DOCUMENT_16',\n",
    "'FLAG_DOCUMENT_17',\n",
    "'FLAG_DOCUMENT_18',\n",
    "'FLAG_DOCUMENT_19',\n",
    "'FLAG_DOCUMENT_20',\n",
    "'FLAG_DOCUMENT_21',\n",
    "'REGION_POPULATION_RELATIVE',\n",
    "\n",
    "'OWN_CAR_AGE',\n",
    "\n",
    "\n",
    "'APARTMENTS_AVG',\n",
    "'BASEMENTAREA_AVG',\n",
    "'YEARS_BEGINEXPLUATATION_AVG',\n",
    "'YEARS_BUILD_AVG',\n",
    "'COMMONAREA_AVG',\n",
    "'ELEVATORS_AVG',\n",
    "'ENTRANCES_AVG',\n",
    "'FLOORSMAX_AVG',\n",
    "'FLOORSMIN_AVG',\n",
    "'LANDAREA_AVG',\n",
    "'LIVINGAPARTMENTS_AVG',\n",
    "'LIVINGAREA_AVG',\n",
    "'NONLIVINGAPARTMENTS_AVG',\n",
    "'NONLIVINGAREA_AVG',\n",
    "'APARTMENTS_MODE',\n",
    "'BASEMENTAREA_MODE',\n",
    "'YEARS_BEGINEXPLUATATION_MODE',\n",
    "'YEARS_BUILD_MODE',\n",
    "'COMMONAREA_MODE',\n",
    "'ELEVATORS_MODE',\n",
    "'ENTRANCES_MODE',\n",
    "'FLOORSMAX_MODE',\n",
    "'FLOORSMIN_MODE',\n",
    "'LANDAREA_MODE',\n",
    "'LIVINGAPARTMENTS_MODE',\n",
    "'LIVINGAREA_MODE',\n",
    "'NONLIVINGAPARTMENTS_MODE',\n",
    "'NONLIVINGAREA_MODE',\n",
    "'APARTMENTS_MEDI',\n",
    "'BASEMENTAREA_MEDI',\n",
    "'YEARS_BEGINEXPLUATATION_MEDI',\n",
    "'YEARS_BUILD_MEDI',\n",
    "'COMMONAREA_MEDI',\n",
    "'ELEVATORS_MEDI',\n",
    "'ENTRANCES_MEDI',\n",
    "'FLOORSMAX_MEDI',\n",
    "'FLOORSMIN_MEDI',\n",
    "'LANDAREA_MEDI',\n",
    "'LIVINGAPARTMENTS_MEDI',\n",
    "'LIVINGAREA_MEDI',\n",
    "'NONLIVINGAPARTMENTS_MEDI',\n",
    "'NONLIVINGAREA_MEDI',\n",
    "'TOTALAREA_MODE',\n",
    "'OBS_30_CNT_SOCIAL_CIRCLE',\n",
    "'DEF_30_CNT_SOCIAL_CIRCLE',\n",
    "'OBS_60_CNT_SOCIAL_CIRCLE',\n",
    "'DEF_60_CNT_SOCIAL_CIRCLE'\n",
    "]"
   ]
  },
  {
   "cell_type": "code",
   "execution_count": null,
   "metadata": {},
   "outputs": [],
   "source": []
  }
 ],
 "metadata": {
  "kernelspec": {
   "display_name": "Python 3",
   "language": "python",
   "name": "python3"
  },
  "language_info": {
   "codemirror_mode": {
    "name": "ipython",
    "version": 3
   },
   "file_extension": ".py",
   "mimetype": "text/x-python",
   "name": "python",
   "nbconvert_exporter": "python",
   "pygments_lexer": "ipython3",
   "version": "3.6.3"
  }
 },
 "nbformat": 4,
 "nbformat_minor": 2
}
